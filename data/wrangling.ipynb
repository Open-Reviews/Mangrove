{
 "cells": [
  {
   "cell_type": "code",
   "execution_count": 74,
   "metadata": {},
   "outputs": [],
   "source": [
    "using DelimitedFiles, Printf"
   ]
  },
  {
   "cell_type": "code",
   "execution_count": 76,
   "metadata": {},
   "outputs": [
    {
     "data": {
      "text/plain": [
       "10000000×3 Array{Any,2}:\n",
       "        1  \"fonts.googleapis.com\"           10.0 \n",
       "        2  \"facebook.com\"                   10.0 \n",
       "        3  \"twitter.com\"                    10.0 \n",
       "        4  \"google.com\"                     10.0 \n",
       "        5  \"youtube.com\"                    10.0 \n",
       "        6  \"instagram.com\"                  10.0 \n",
       "        7  \"s.w.org\"                        10.0 \n",
       "        8  \"ajax.googleapis.com\"            10.0 \n",
       "        9  \"linkedin.com\"                   10.0 \n",
       "       10  \"googletagmanager.com\"           10.0 \n",
       "       11  \"plus.google.com\"                10.0 \n",
       "       12  \"gmpg.org\"                       10.0 \n",
       "       13  \"pinterest.com\"                   9.59\n",
       "        ⋮                                        \n",
       "  9999989  \"buytoradol.doctor\"               2.89\n",
       "  9999990  \"neurinox.eu\"                     2.89\n",
       "  9999991  \"lue.fi\"                          2.89\n",
       "  9999992  \"clickschool.co.uk\"               2.89\n",
       "  9999993  \"power-link.ugent.be\"             2.89\n",
       "  9999994  \"arrowheadpublishers.com\"         2.89\n",
       "  9999995  \"cunydsigallery.eventbrite.com\"   2.89\n",
       "  9999996  \"gorgeadventuresandsupply.com\"    2.89\n",
       "  9999997  \"tuttomanciano.com\"               2.89\n",
       "  9999998  \"biggestintheworld.org\"           2.89\n",
       "  9999999  \"markmaxwellmusic.com\"            2.89\n",
       " 10000000  \"oaklandgasprices.com\"            2.89"
      ]
     },
     "execution_count": 76,
     "metadata": {},
     "output_type": "execute_result"
    }
   ],
   "source": [
    "domains = readdlm(\"sources/top10milliondomains.csv\", ','; header=true)[1]"
   ]
  },
  {
   "cell_type": "code",
   "execution_count": 77,
   "metadata": {},
   "outputs": [
    {
     "data": {
      "text/plain": [
       "Dict{Symbol,Any} with 2 entries:\n",
       "  :metadata => Dict{Symbol,Any}(:display_name=>\"Mangrove Bot\",:is_generated=>tr…\n",
       "  :iat      => \"1578047885\""
      ]
     },
     "execution_count": 77,
     "metadata": {},
     "output_type": "execute_result"
    }
   ],
   "source": [
    "base_payload = Dict(:iat => @sprintf(\"%.0f\",time()), :metadata => Dict(\n",
    "    :display_name => \"Mangrove Bot\",\n",
    "    :data_source => \"https://www.domcop.com/openpagerank/what-is-openpagerank\",\n",
    "    :is_generated => true\n",
    "))"
   ]
  },
  {
   "cell_type": "code",
   "execution_count": 78,
   "metadata": {},
   "outputs": [
    {
     "data": {
      "text/plain": [
       "fill_content (generic function with 1 method)"
      ]
     },
     "execution_count": 78,
     "metadata": {},
     "output_type": "execute_result"
    }
   ],
   "source": [
    "function fill_content(domains)\n",
    "  map(eachrow(domains)) do domain\n",
    "    review = copy(base_payload)\n",
    "    review[:sub] = string(\"https://\", domain[2])\n",
    "    review[:opinion] = \"This domain has been ranked $(domain[1]) of 10 million with Open PageRank $(domain[3]).\n",
    "\n",
    "Source: https://www.domcop.com/openpagerank/what-is-openpagerank, retrieved on 29 November 2019\"\n",
    "    review\n",
    "  end\n",
    "end"
   ]
  },
  {
   "cell_type": "code",
   "execution_count": 79,
   "metadata": {},
   "outputs": [],
   "source": [
    "test_payloads = fill_content(domains[1:100, :]);"
   ]
  },
  {
   "cell_type": "code",
   "execution_count": 18,
   "metadata": {},
   "outputs": [
    {
     "name": "stdout",
     "output_type": "stream",
     "text": [
      "{\"metadata\":{\"display_name\":\"Mangrove Bot\",\"is_generated\":true,\"data_source\":\"https://www.domcop.com/openpagerank/what-is-openpagerank\"},\"opinion\":\"This domain has been ranked 1 of 10 million with Open PageRank 10.0.\\n\\nSource: https://www.domcop.com/openpagerank/what-is-openpagerank, retrieved on 29 November 2019\",\"sub\":\"https://fonts.googleapis.com\",\"iat\":\"1577021799\"}\n",
      "{\"metadata\":{\"display_name\":\"Mangrove Bot\",\"is_generated\":true,\"data_source\":\"https://www.domcop.com/openpagerank/what-is-openpagerank\"},\"opinion\":\"This domain has been ranked 2 of 10 million with Open PageRank 10.0.\\n\\nSource: https://www.domcop.com/openpagerank/what-is-openpagerank, retrieved on 29 November 2019\",\"sub\":\"https://facebook.com\",\"iat\":\"1577021799\"}\n",
      "{\"metadata\":{\"display_name\":\"Mangrove Bot\",\"is_generated\":true,\"data_source\":\"https://www.domcop.com/openpagerank/what-is-openpagerank\"},\"opinion\":\"This domain has been ranked 3 of 10 million with Open PageRank 10.0.\\n\\nSource: https://www.domcop.com/openpagerank/what-is-openpagerank, retrieved on 29 November 2019\",\"sub\":\"https://twitter.com\",\"iat\":\"1577021799\"}\n",
      "{\"metadata\":{\"display_name\":\"Mangrove Bot\",\"is_generated\":true,\"data_source\":\"https://www.domcop.com/openpagerank/what-is-openpagerank\"},\"opinion\":\"This domain has been ranked 4 of 10 million with Open PageRank 10.0.\\n\\nSource: https://www.domcop.com/openpagerank/what-is-openpagerank, retrieved on 29 November 2019\",\"sub\":\"https://google.com\",\"iat\":\"1577021799\"}\n",
      "{\"metadata\":{\"display_name\":\"Mangrove Bot\",\"is_generated\":true,\"data_source\":\"https://www.domcop.com/openpagerank/what-is-openpagerank\"},\"opinion\":\"This domain has been ranked 5 of 10 million with Open PageRank 10.0.\\n\\nSource: https://www.domcop.com/openpagerank/what-is-openpagerank, retrieved on 29 November 2019\",\"sub\":\"https://youtube.com\",\"iat\":\"1577021799\"}\n",
      "{\"metadata\":{\"display_name\":\"Mangrove Bot\",\"is_generated\":true,\"data_source\":\"https://www.domcop.com/openpagerank/what-is-openpagerank\"},\"opinion\":\"This domain has been ranked 6 of 10 million with Open PageRank 10.0.\\n\\nSource: https://www.domcop.com/openpagerank/what-is-openpagerank, retrieved on 29 November 2019\",\"sub\":\"https://instagram.com\",\"iat\":\"1577021799\"}\n",
      "{\"metadata\":{\"display_name\":\"Mangrove Bot\",\"is_generated\":true,\"data_source\":\"https://www.domcop.com/openpagerank/what-is-openpagerank\"},\"opinion\":\"This domain has been ranked 7 of 10 million with Open PageRank 10.0.\\n\\nSource: https://www.domcop.com/openpagerank/what-is-openpagerank, retrieved on 29 November 2019\",\"sub\":\"https://s.w.org\",\"iat\":\"1577021799\"}\n",
      "{\"metadata\":{\"display_name\":\"Mangrove Bot\",\"is_generated\":true,\"data_source\":\"https://www.domcop.com/openpagerank/what-is-openpagerank\"},\"opinion\":\"This domain has been ranked 8 of 10 million with Open PageRank 10.0.\\n\\nSource: https://www.domcop.com/openpagerank/what-is-openpagerank, retrieved on 29 November 2019\",\"sub\":\"https://ajax.googleapis.com\",\"iat\":\"1577021799\"}\n",
      "{\"metadata\":{\"display_name\":\"Mangrove Bot\",\"is_generated\":true,\"data_source\":\"https://www.domcop.com/openpagerank/what-is-openpagerank\"},\"opinion\":\"This domain has been ranked 9 of 10 million with Open PageRank 10.0.\\n\\nSource: https://www.domcop.com/openpagerank/what-is-openpagerank, retrieved on 29 November 2019\",\"sub\":\"https://linkedin.com\",\"iat\":\"1577021799\"}\n",
      "{\"metadata\":{\"display_name\":\"Mangrove Bot\",\"is_generated\":true,\"data_source\":\"https://www.domcop.com/openpagerank/what-is-openpagerank\"},\"opinion\":\"This domain has been ranked 10 of 10 million with Open PageRank 10.0.\\n\\nSource: https://www.domcop.com/openpagerank/what-is-openpagerank, retrieved on 29 November 2019\",\"sub\":\"https://googletagmanager.com\",\"iat\":\"1577021799\"}\n",
      "{\"metadata\":{\"display_name\":\"Mangrove Bot\",\"is_generated\":true,\"data_source\":\"https://www.domcop.com/openpagerank/what-is-openpagerank\"},\"opinion\":\"This domain has been ranked 11 of 10 million with Open PageRank 10.0.\\n\\nSource: https://www.domcop.com/openpagerank/what-is-openpagerank, retrieved on 29 November 2019\",\"sub\":\"https://plus.google.com\",\"iat\":\"1577021799\"}\n",
      "{\"metadata\":{\"display_name\":\"Mangrove Bot\",\"is_generated\":true,\"data_source\":\"https://www.domcop.com/openpagerank/what-is-openpagerank\"},\"opinion\":\"This domain has been ranked 12 of 10 million with Open PageRank 10.0.\\n\\nSource: https://www.domcop.com/openpagerank/what-is-openpagerank, retrieved on 29 November 2019\",\"sub\":\"https://gmpg.org\",\"iat\":\"1577021799\"}\n",
      "{\"metadata\":{\"display_name\":\"Mangrove Bot\",\"is_generated\":true,\"data_source\":\"https://www.domcop.com/openpagerank/what-is-openpagerank\"},\"opinion\":\"This domain has been ranked 13 of 10 million with Open PageRank 9.59.\\n\\nSource: https://www.domcop.com/openpagerank/what-is-openpagerank, retrieved on 29 November 2019\",\"sub\":\"https://pinterest.com\",\"iat\":\"1577021799\"}\n",
      "{\"metadata\":{\"display_name\":\"Mangrove Bot\",\"is_generated\":true,\"data_source\":\"https://www.domcop.com/openpagerank/what-is-openpagerank\"},\"opinion\":\"This domain has been ranked 14 of 10 million with Open PageRank 9.53.\\n\\nSource: https://www.domcop.com/openpagerank/what-is-openpagerank, retrieved on 29 November 2019\",\"sub\":\"https://maps.google.com\",\"iat\":\"1577021799\"}\n",
      "{\"metadata\":{\"display_name\":\"Mangrove Bot\",\"is_generated\":true,\"data_source\":\"https://www.domcop.com/openpagerank/what-is-openpagerank\"},\"opinion\":\"This domain has been ranked 15 of 10 million with Open PageRank 9.38.\\n\\nSource: https://www.domcop.com/openpagerank/what-is-openpagerank, retrieved on 29 November 2019\",\"sub\":\"https://itunes.apple.com\",\"iat\":\"1577021799\"}\n",
      "{\"metadata\":{\"display_name\":\"Mangrove Bot\",\"is_generated\":true,\"data_source\":\"https://www.domcop.com/openpagerank/what-is-openpagerank\"},\"opinion\":\"This domain has been ranked 16 of 10 million with Open PageRank 9.35.\\n\\nSource: https://www.domcop.com/openpagerank/what-is-openpagerank, retrieved on 29 November 2019\",\"sub\":\"https://wordpress.org\",\"iat\":\"1577021799\"}\n",
      "{\"metadata\":{\"display_name\":\"Mangrove Bot\",\"is_generated\":true,\"data_source\":\"https://www.domcop.com/openpagerank/what-is-openpagerank\"},\"opinion\":\"This domain has been ranked 17 of 10 million with Open PageRank 9.33.\\n\\nSource: https://www.domcop.com/openpagerank/what-is-openpagerank, retrieved on 29 November 2019\",\"sub\":\"https://youtu.be\",\"iat\":\"1577021799\"}\n",
      "{\"metadata\":{\"display_name\":\"Mangrove Bot\",\"is_generated\":true,\"data_source\":\"https://www.domcop.com/openpagerank/what-is-openpagerank\"},\"opinion\":\"This domain has been ranked 18 of 10 million with Open PageRank 9.32.\\n\\nSource: https://www.domcop.com/openpagerank/what-is-openpagerank, retrieved on 29 November 2019\",\"sub\":\"https://en.wikipedia.org\",\"iat\":\"1577021799\"}\n",
      "{\"metadata\":{\"display_name\":\"Mangrove Bot\",\"is_generated\":true,\"data_source\":\"https://www.domcop.com/openpagerank/what-is-openpagerank\"},\"opinion\":\"This domain has been ranked 19 of 10 million with Open PageRank 9.26.\\n\\nSource: https://www.domcop.com/openpagerank/what-is-openpagerank, retrieved on 29 November 2019\",\"sub\":\"https://bit.ly\",\"iat\":\"1577021799\"}\n",
      "{\"metadata\":{\"display_name\":\"Mangrove Bot\",\"is_generated\":true,\"data_source\":\"https://www.domcop.com/openpagerank/what-is-openpagerank\"},\"opinion\":\"This domain has been ranked 20 of 10 million with Open PageRank 9.2.\\n\\nSource: https://www.domcop.com/openpagerank/what-is-openpagerank, retrieved on 29 November 2019\",\"sub\":\"https://play.google.com\",\"iat\":\"1577021799\"}\n",
      "{\"metadata\":{\"display_name\":\"Mangrove Bot\",\"is_generated\":true,\"data_source\":\"https://www.domcop.com/openpagerank/what-is-openpagerank\"},\"opinion\":\"This domain has been ranked 21 of 10 million with Open PageRank 9.14.\\n\\nSource: https://www.domcop.com/openpagerank/what-is-openpagerank, retrieved on 29 November 2019\",\"sub\":\"https://flickr.com\",\"iat\":\"1577021799\"}\n",
      "{\"metadata\":{\"display_name\":\"Mangrove Bot\",\"is_generated\":true,\"data_source\":\"https://www.domcop.com/openpagerank/what-is-openpagerank\"},\"opinion\":\"This domain has been ranked 22 of 10 million with Open PageRank 9.12.\\n\\nSource: https://www.domcop.com/openpagerank/what-is-openpagerank, retrieved on 29 November 2019\",\"sub\":\"https://amazon.com\",\"iat\":\"1577021799\"}\n",
      "{\"metadata\":{\"display_name\":\"Mangrove Bot\",\"is_generated\":true,\"data_source\":\"https://www.domcop.com/openpagerank/what-is-openpagerank\"},\"opinion\":\"This domain has been ranked 23 of 10 million with Open PageRank 9.1.\\n\\nSource: https://www.domcop.com/openpagerank/what-is-openpagerank, retrieved on 29 November 2019\",\"sub\":\"https://github.com\",\"iat\":\"1577021799\"}\n",
      "{\"metadata\":{\"display_name\":\"Mangrove Bot\",\"is_generated\":true,\"data_source\":\"https://www.domcop.com/openpagerank/what-is-openpagerank\"},\"opinion\":\"This domain has been ranked 24 of 10 million with Open PageRank 9.07.\\n\\nSource: https://www.domcop.com/openpagerank/what-is-openpagerank, retrieved on 29 November 2019\",\"sub\":\"https://support.google.com\",\"iat\":\"1577021799\"}\n",
      "{\"metadata\":{\"display_name\":\"Mangrove Bot\",\"is_generated\":true,\"data_source\":\"https://www.domcop.com/openpagerank/what-is-openpagerank\"},\"opinion\":\"This domain has been ranked 25 of 10 million with Open PageRank 9.07.\\n\\nSource: https://www.domcop.com/openpagerank/what-is-openpagerank, retrieved on 29 November 2019\",\"sub\":\"https://docs.google.com\",\"iat\":\"1577021799\"}\n",
      "{\"metadata\":{\"display_name\":\"Mangrove Bot\",\"is_generated\":true,\"data_source\":\"https://www.domcop.com/openpagerank/what-is-openpagerank\"},\"opinion\":\"This domain has been ranked 26 of 10 million with Open PageRank 9.05.\\n\\nSource: https://www.domcop.com/openpagerank/what-is-openpagerank, retrieved on 29 November 2019\",\"sub\":\"https://maps.googleapis.com\",\"iat\":\"1577021799\"}\n",
      "{\"metadata\":{\"display_name\":\"Mangrove Bot\",\"is_generated\":true,\"data_source\":\"https://www.domcop.com/openpagerank/what-is-openpagerank\"},\"opinion\":\"This domain has been ranked 27 of 10 million with Open PageRank 9.03.\\n\\nSource: https://www.domcop.com/openpagerank/what-is-openpagerank, retrieved on 29 November 2019\",\"sub\":\"https://goo.gl\",\"iat\":\"1577021799\"}\n",
      "{\"metadata\":{\"display_name\":\"Mangrove Bot\",\"is_generated\":true,\"data_source\":\"https://www.domcop.com/openpagerank/what-is-openpagerank\"},\"opinion\":\"This domain has been ranked 28 of 10 million with Open PageRank 8.88.\\n\\nSource: https://www.domcop.com/openpagerank/what-is-openpagerank, retrieved on 29 November 2019\",\"sub\":\"https://vimeo.com\",\"iat\":\"1577021799\"}\n"
     ]
    },
    {
     "name": "stdout",
     "output_type": "stream",
     "text": [
      "{\"metadata\":{\"display_name\":\"Mangrove Bot\",\"is_generated\":true,\"data_source\":\"https://www.domcop.com/openpagerank/what-is-openpagerank\"},\"opinion\":\"This domain has been ranked 29 of 10 million with Open PageRank 8.85.\\n\\nSource: https://www.domcop.com/openpagerank/what-is-openpagerank, retrieved on 29 November 2019\",\"sub\":\"https://cdnjs.cloudflare.com\",\"iat\":\"1577021799\"}\n",
      "{\"metadata\":{\"display_name\":\"Mangrove Bot\",\"is_generated\":true,\"data_source\":\"https://www.domcop.com/openpagerank/what-is-openpagerank\"},\"opinion\":\"This domain has been ranked 30 of 10 million with Open PageRank 8.84.\\n\\nSource: https://www.domcop.com/openpagerank/what-is-openpagerank, retrieved on 29 November 2019\",\"sub\":\"https://s3.amazonaws.com\",\"iat\":\"1577021799\"}\n",
      "{\"metadata\":{\"display_name\":\"Mangrove Bot\",\"is_generated\":true,\"data_source\":\"https://www.domcop.com/openpagerank/what-is-openpagerank\"},\"opinion\":\"This domain has been ranked 31 of 10 million with Open PageRank 8.75.\\n\\nSource: https://www.domcop.com/openpagerank/what-is-openpagerank, retrieved on 29 November 2019\",\"sub\":\"https://apis.google.com\",\"iat\":\"1577021799\"}\n",
      "{\"metadata\":{\"display_name\":\"Mangrove Bot\",\"is_generated\":true,\"data_source\":\"https://www.domcop.com/openpagerank/what-is-openpagerank\"},\"opinion\":\"This domain has been ranked 32 of 10 million with Open PageRank 8.7.\\n\\nSource: https://www.domcop.com/openpagerank/what-is-openpagerank, retrieved on 29 November 2019\",\"sub\":\"https://google-analytics.com\",\"iat\":\"1577021799\"}\n",
      "{\"metadata\":{\"display_name\":\"Mangrove Bot\",\"is_generated\":true,\"data_source\":\"https://www.domcop.com/openpagerank/what-is-openpagerank\"},\"opinion\":\"This domain has been ranked 33 of 10 million with Open PageRank 8.62.\\n\\nSource: https://www.domcop.com/openpagerank/what-is-openpagerank, retrieved on 29 November 2019\",\"sub\":\"https://vk.com\",\"iat\":\"1577021799\"}\n",
      "{\"metadata\":{\"display_name\":\"Mangrove Bot\",\"is_generated\":true,\"data_source\":\"https://www.domcop.com/openpagerank/what-is-openpagerank\"},\"opinion\":\"This domain has been ranked 34 of 10 million with Open PageRank 8.62.\\n\\nSource: https://www.domcop.com/openpagerank/what-is-openpagerank, retrieved on 29 November 2019\",\"sub\":\"https://reddit.com\",\"iat\":\"1577021799\"}\n",
      "{\"metadata\":{\"display_name\":\"Mangrove Bot\",\"is_generated\":true,\"data_source\":\"https://www.domcop.com/openpagerank/what-is-openpagerank\"},\"opinion\":\"This domain has been ranked 35 of 10 million with Open PageRank 8.61.\\n\\nSource: https://www.domcop.com/openpagerank/what-is-openpagerank, retrieved on 29 November 2019\",\"sub\":\"https://blogger.com\",\"iat\":\"1577021799\"}\n",
      "{\"metadata\":{\"display_name\":\"Mangrove Bot\",\"is_generated\":true,\"data_source\":\"https://www.domcop.com/openpagerank/what-is-openpagerank\"},\"opinion\":\"This domain has been ranked 36 of 10 million with Open PageRank 8.6.\\n\\nSource: https://www.domcop.com/openpagerank/what-is-openpagerank, retrieved on 29 November 2019\",\"sub\":\"https://adobe.com\",\"iat\":\"1577021799\"}\n",
      "{\"metadata\":{\"display_name\":\"Mangrove Bot\",\"is_generated\":true,\"data_source\":\"https://www.domcop.com/openpagerank/what-is-openpagerank\"},\"opinion\":\"This domain has been ranked 37 of 10 million with Open PageRank 8.6.\\n\\nSource: https://www.domcop.com/openpagerank/what-is-openpagerank, retrieved on 29 November 2019\",\"sub\":\"https://wp.me\",\"iat\":\"1577021799\"}\n",
      "{\"metadata\":{\"display_name\":\"Mangrove Bot\",\"is_generated\":true,\"data_source\":\"https://www.domcop.com/openpagerank/what-is-openpagerank\"},\"opinion\":\"This domain has been ranked 38 of 10 million with Open PageRank 8.55.\\n\\nSource: https://www.domcop.com/openpagerank/what-is-openpagerank, retrieved on 29 November 2019\",\"sub\":\"https://drive.google.com\",\"iat\":\"1577021799\"}\n",
      "{\"metadata\":{\"display_name\":\"Mangrove Bot\",\"is_generated\":true,\"data_source\":\"https://www.domcop.com/openpagerank/what-is-openpagerank\"},\"opinion\":\"This domain has been ranked 39 of 10 million with Open PageRank 8.53.\\n\\nSource: https://www.domcop.com/openpagerank/what-is-openpagerank, retrieved on 29 November 2019\",\"sub\":\"https://dropbox.com\",\"iat\":\"1577021799\"}\n",
      "{\"metadata\":{\"display_name\":\"Mangrove Bot\",\"is_generated\":true,\"data_source\":\"https://www.domcop.com/openpagerank/what-is-openpagerank\"},\"opinion\":\"This domain has been ranked 40 of 10 million with Open PageRank 8.52.\\n\\nSource: https://www.domcop.com/openpagerank/what-is-openpagerank, retrieved on 29 November 2019\",\"sub\":\"https://nytimes.com\",\"iat\":\"1577021799\"}\n",
      "{\"metadata\":{\"display_name\":\"Mangrove Bot\",\"is_generated\":true,\"data_source\":\"https://www.domcop.com/openpagerank/what-is-openpagerank\"},\"opinion\":\"This domain has been ranked 41 of 10 million with Open PageRank 8.51.\\n\\nSource: https://www.domcop.com/openpagerank/what-is-openpagerank, retrieved on 29 November 2019\",\"sub\":\"https://apple.com\",\"iat\":\"1577021799\"}\n",
      "{\"metadata\":{\"display_name\":\"Mangrove Bot\",\"is_generated\":true,\"data_source\":\"https://www.domcop.com/openpagerank/what-is-openpagerank\"},\"opinion\":\"This domain has been ranked 42 of 10 million with Open PageRank 8.5.\\n\\nSource: https://www.domcop.com/openpagerank/what-is-openpagerank, retrieved on 29 November 2019\",\"sub\":\"https://microsoft.com\",\"iat\":\"1577021799\"}\n",
      "{\"metadata\":{\"display_name\":\"Mangrove Bot\",\"is_generated\":true,\"data_source\":\"https://www.domcop.com/openpagerank/what-is-openpagerank\"},\"opinion\":\"This domain has been ranked 43 of 10 million with Open PageRank 8.5.\\n\\nSource: https://www.domcop.com/openpagerank/what-is-openpagerank, retrieved on 29 November 2019\",\"sub\":\"https://t.co\",\"iat\":\"1577021799\"}\n",
      "{\"metadata\":{\"display_name\":\"Mangrove Bot\",\"is_generated\":true,\"data_source\":\"https://www.domcop.com/openpagerank/what-is-openpagerank\"},\"opinion\":\"This domain has been ranked 44 of 10 million with Open PageRank 8.48.\\n\\nSource: https://www.domcop.com/openpagerank/what-is-openpagerank, retrieved on 29 November 2019\",\"sub\":\"https://developers.google.com\",\"iat\":\"1577021799\"}\n",
      "{\"metadata\":{\"display_name\":\"Mangrove Bot\",\"is_generated\":true,\"data_source\":\"https://www.domcop.com/openpagerank/what-is-openpagerank\"},\"opinion\":\"This domain has been ranked 45 of 10 million with Open PageRank 8.46.\\n\\nSource: https://www.domcop.com/openpagerank/what-is-openpagerank, retrieved on 29 November 2019\",\"sub\":\"https://lh3.googleusercontent.com\",\"iat\":\"1577021799\"}\n",
      "{\"metadata\":{\"display_name\":\"Mangrove Bot\",\"is_generated\":true,\"data_source\":\"https://www.domcop.com/openpagerank/what-is-openpagerank\"},\"opinion\":\"This domain has been ranked 46 of 10 million with Open PageRank 8.44.\\n\\nSource: https://www.domcop.com/openpagerank/what-is-openpagerank, retrieved on 29 November 2019\",\"sub\":\"https://sites.google.com\",\"iat\":\"1577021799\"}\n",
      "{\"metadata\":{\"display_name\":\"Mangrove Bot\",\"is_generated\":true,\"data_source\":\"https://www.domcop.com/openpagerank/what-is-openpagerank\"},\"opinion\":\"This domain has been ranked 47 of 10 million with Open PageRank 8.43.\\n\\nSource: https://www.domcop.com/openpagerank/what-is-openpagerank, retrieved on 29 November 2019\",\"sub\":\"https://ec.europa.eu\",\"iat\":\"1577021799\"}\n",
      "{\"metadata\":{\"display_name\":\"Mangrove Bot\",\"is_generated\":true,\"data_source\":\"https://www.domcop.com/openpagerank/what-is-openpagerank\"},\"opinion\":\"This domain has been ranked 48 of 10 million with Open PageRank 8.41.\\n\\nSource: https://www.domcop.com/openpagerank/what-is-openpagerank, retrieved on 29 November 2019\",\"sub\":\"https://m.facebook.com\",\"iat\":\"1577021799\"}\n",
      "{\"metadata\":{\"display_name\":\"Mangrove Bot\",\"is_generated\":true,\"data_source\":\"https://www.domcop.com/openpagerank/what-is-openpagerank\"},\"opinion\":\"This domain has been ranked 49 of 10 million with Open PageRank 8.4.\\n\\nSource: https://www.domcop.com/openpagerank/what-is-openpagerank, retrieved on 29 November 2019\",\"sub\":\"https://paypal.com\",\"iat\":\"1577021799\"}\n",
      "{\"metadata\":{\"display_name\":\"Mangrove Bot\",\"is_generated\":true,\"data_source\":\"https://www.domcop.com/openpagerank/what-is-openpagerank\"},\"opinion\":\"This domain has been ranked 50 of 10 million with Open PageRank 8.4.\\n\\nSource: https://www.domcop.com/openpagerank/what-is-openpagerank, retrieved on 29 November 2019\",\"sub\":\"https://creativecommons.org\",\"iat\":\"1577021799\"}\n",
      "{\"metadata\":{\"display_name\":\"Mangrove Bot\",\"is_generated\":true,\"data_source\":\"https://www.domcop.com/openpagerank/what-is-openpagerank\"},\"opinion\":\"This domain has been ranked 51 of 10 million with Open PageRank 8.38.\\n\\nSource: https://www.domcop.com/openpagerank/what-is-openpagerank, retrieved on 29 November 2019\",\"sub\":\"https://medium.com\",\"iat\":\"1577021799\"}\n",
      "{\"metadata\":{\"display_name\":\"Mangrove Bot\",\"is_generated\":true,\"data_source\":\"https://www.domcop.com/openpagerank/what-is-openpagerank\"},\"opinion\":\"This domain has been ranked 52 of 10 million with Open PageRank 8.37.\\n\\nSource: https://www.domcop.com/openpagerank/what-is-openpagerank, retrieved on 29 November 2019\",\"sub\":\"https://i.imgur.com\",\"iat\":\"1577021799\"}\n",
      "{\"metadata\":{\"display_name\":\"Mangrove Bot\",\"is_generated\":true,\"data_source\":\"https://www.domcop.com/openpagerank/what-is-openpagerank\"},\"opinion\":\"This domain has been ranked 53 of 10 million with Open PageRank 8.34.\\n\\nSource: https://www.domcop.com/openpagerank/what-is-openpagerank, retrieved on 29 November 2019\",\"sub\":\"https://soundcloud.com\",\"iat\":\"1577021799\"}\n",
      "{\"metadata\":{\"display_name\":\"Mangrove Bot\",\"is_generated\":true,\"data_source\":\"https://www.domcop.com/openpagerank/what-is-openpagerank\"},\"opinion\":\"This domain has been ranked 54 of 10 million with Open PageRank 8.3.\\n\\nSource: https://www.domcop.com/openpagerank/what-is-openpagerank, retrieved on 29 November 2019\",\"sub\":\"https://tumblr.com\",\"iat\":\"1577021799\"}\n",
      "{\"metadata\":{\"display_name\":\"Mangrove Bot\",\"is_generated\":true,\"data_source\":\"https://www.domcop.com/openpagerank/what-is-openpagerank\"},\"opinion\":\"This domain has been ranked 55 of 10 million with Open PageRank 8.28.\\n\\nSource: https://www.domcop.com/openpagerank/what-is-openpagerank, retrieved on 29 November 2019\",\"sub\":\"https://translate.google.com\",\"iat\":\"1577021799\"}\n",
      "{\"metadata\":{\"display_name\":\"Mangrove Bot\",\"is_generated\":true,\"data_source\":\"https://www.domcop.com/openpagerank/what-is-openpagerank\"},\"opinion\":\"This domain has been ranked 56 of 10 million with Open PageRank 8.27.\\n\\nSource: https://www.domcop.com/openpagerank/what-is-openpagerank, retrieved on 29 November 2019\",\"sub\":\"https://theguardian.com\",\"iat\":\"1577021799\"}\n"
     ]
    },
    {
     "name": "stdout",
     "output_type": "stream",
     "text": [
      "{\"metadata\":{\"display_name\":\"Mangrove Bot\",\"is_generated\":true,\"data_source\":\"https://www.domcop.com/openpagerank/what-is-openpagerank\"},\"opinion\":\"This domain has been ranked 57 of 10 million with Open PageRank 8.27.\\n\\nSource: https://www.domcop.com/openpagerank/what-is-openpagerank, retrieved on 29 November 2019\",\"sub\":\"https://support.apple.com\",\"iat\":\"1577021799\"}\n",
      "{\"metadata\":{\"display_name\":\"Mangrove Bot\",\"is_generated\":true,\"data_source\":\"https://www.domcop.com/openpagerank/what-is-openpagerank\"},\"opinion\":\"This domain has been ranked 58 of 10 million with Open PageRank 8.26.\\n\\nSource: https://www.domcop.com/openpagerank/what-is-openpagerank, retrieved on 29 November 2019\",\"sub\":\"https://1.bp.blogspot.com\",\"iat\":\"1577021799\"}\n",
      "{\"metadata\":{\"display_name\":\"Mangrove Bot\",\"is_generated\":true,\"data_source\":\"https://www.domcop.com/openpagerank/what-is-openpagerank\"},\"opinion\":\"This domain has been ranked 59 of 10 million with Open PageRank 8.26.\\n\\nSource: https://www.domcop.com/openpagerank/what-is-openpagerank, retrieved on 29 November 2019\",\"sub\":\"https://wordpress.com\",\"iat\":\"1577021799\"}\n",
      "{\"metadata\":{\"display_name\":\"Mangrove Bot\",\"is_generated\":true,\"data_source\":\"https://www.domcop.com/openpagerank/what-is-openpagerank\"},\"opinion\":\"This domain has been ranked 60 of 10 million with Open PageRank 8.26.\\n\\nSource: https://www.domcop.com/openpagerank/what-is-openpagerank, retrieved on 29 November 2019\",\"sub\":\"https://techcrunch.com\",\"iat\":\"1577021799\"}\n",
      "{\"metadata\":{\"display_name\":\"Mangrove Bot\",\"is_generated\":true,\"data_source\":\"https://www.domcop.com/openpagerank/what-is-openpagerank\"},\"opinion\":\"This domain has been ranked 61 of 10 million with Open PageRank 8.24.\\n\\nSource: https://www.domcop.com/openpagerank/what-is-openpagerank, retrieved on 29 November 2019\",\"sub\":\"https://upload.wikimedia.org\",\"iat\":\"1577021799\"}\n",
      "{\"metadata\":{\"display_name\":\"Mangrove Bot\",\"is_generated\":true,\"data_source\":\"https://www.domcop.com/openpagerank/what-is-openpagerank\"},\"opinion\":\"This domain has been ranked 62 of 10 million with Open PageRank 8.21.\\n\\nSource: https://www.domcop.com/openpagerank/what-is-openpagerank, retrieved on 29 November 2019\",\"sub\":\"https://wired.com\",\"iat\":\"1577021799\"}\n",
      "{\"metadata\":{\"display_name\":\"Mangrove Bot\",\"is_generated\":true,\"data_source\":\"https://www.domcop.com/openpagerank/what-is-openpagerank\"},\"opinion\":\"This domain has been ranked 63 of 10 million with Open PageRank 8.2.\\n\\nSource: https://www.domcop.com/openpagerank/what-is-openpagerank, retrieved on 29 November 2019\",\"sub\":\"https://forbes.com\",\"iat\":\"1577021799\"}\n",
      "{\"metadata\":{\"display_name\":\"Mangrove Bot\",\"is_generated\":true,\"data_source\":\"https://www.domcop.com/openpagerank/what-is-openpagerank\"},\"opinion\":\"This domain has been ranked 64 of 10 million with Open PageRank 8.19.\\n\\nSource: https://www.domcop.com/openpagerank/what-is-openpagerank, retrieved on 29 November 2019\",\"sub\":\"https://support.microsoft.com\",\"iat\":\"1577021799\"}\n",
      "{\"metadata\":{\"display_name\":\"Mangrove Bot\",\"is_generated\":true,\"data_source\":\"https://www.domcop.com/openpagerank/what-is-openpagerank\"},\"opinion\":\"This domain has been ranked 65 of 10 million with Open PageRank 8.19.\\n\\nSource: https://www.domcop.com/openpagerank/what-is-openpagerank, retrieved on 29 November 2019\",\"sub\":\"https://bbc.co.uk\",\"iat\":\"1577021799\"}\n",
      "{\"metadata\":{\"display_name\":\"Mangrove Bot\",\"is_generated\":true,\"data_source\":\"https://www.domcop.com/openpagerank/what-is-openpagerank\"},\"opinion\":\"This domain has been ranked 66 of 10 million with Open PageRank 8.18.\\n\\nSource: https://www.domcop.com/openpagerank/what-is-openpagerank, retrieved on 29 November 2019\",\"sub\":\"https://commons.wikimedia.org\",\"iat\":\"1577021799\"}\n",
      "{\"metadata\":{\"display_name\":\"Mangrove Bot\",\"is_generated\":true,\"data_source\":\"https://www.domcop.com/openpagerank/what-is-openpagerank\"},\"opinion\":\"This domain has been ranked 67 of 10 million with Open PageRank 8.15.\\n\\nSource: https://www.domcop.com/openpagerank/what-is-openpagerank, retrieved on 29 November 2019\",\"sub\":\"https://huffingtonpost.com\",\"iat\":\"1577021799\"}\n",
      "{\"metadata\":{\"display_name\":\"Mangrove Bot\",\"is_generated\":true,\"data_source\":\"https://www.domcop.com/openpagerank/what-is-openpagerank\"},\"opinion\":\"This domain has been ranked 68 of 10 million with Open PageRank 8.15.\\n\\nSource: https://www.domcop.com/openpagerank/what-is-openpagerank, retrieved on 29 November 2019\",\"sub\":\"https://tripadvisor.com\",\"iat\":\"1577021799\"}\n",
      "{\"metadata\":{\"display_name\":\"Mangrove Bot\",\"is_generated\":true,\"data_source\":\"https://www.domcop.com/openpagerank/what-is-openpagerank\"},\"opinion\":\"This domain has been ranked 69 of 10 million with Open PageRank 8.14.\\n\\nSource: https://www.domcop.com/openpagerank/what-is-openpagerank, retrieved on 29 November 2019\",\"sub\":\"https://behance.net\",\"iat\":\"1577021799\"}\n",
      "{\"metadata\":{\"display_name\":\"Mangrove Bot\",\"is_generated\":true,\"data_source\":\"https://www.domcop.com/openpagerank/what-is-openpagerank\"},\"opinion\":\"This domain has been ranked 70 of 10 million with Open PageRank 8.12.\\n\\nSource: https://www.domcop.com/openpagerank/what-is-openpagerank, retrieved on 29 November 2019\",\"sub\":\"https://w3.org\",\"iat\":\"1577021799\"}\n",
      "{\"metadata\":{\"display_name\":\"Mangrove Bot\",\"is_generated\":true,\"data_source\":\"https://www.domcop.com/openpagerank/what-is-openpagerank\"},\"opinion\":\"This domain has been ranked 71 of 10 million with Open PageRank 8.12.\\n\\nSource: https://www.domcop.com/openpagerank/what-is-openpagerank, retrieved on 29 November 2019\",\"sub\":\"https://tinyurl.com\",\"iat\":\"1577021799\"}\n",
      "{\"metadata\":{\"display_name\":\"Mangrove Bot\",\"is_generated\":true,\"data_source\":\"https://www.domcop.com/openpagerank/what-is-openpagerank\"},\"opinion\":\"This domain has been ranked 72 of 10 million with Open PageRank 8.11.\\n\\nSource: https://www.domcop.com/openpagerank/what-is-openpagerank, retrieved on 29 November 2019\",\"sub\":\"https://lh5.googleusercontent.com\",\"iat\":\"1577021799\"}\n",
      "{\"metadata\":{\"display_name\":\"Mangrove Bot\",\"is_generated\":true,\"data_source\":\"https://www.domcop.com/openpagerank/what-is-openpagerank\"},\"opinion\":\"This domain has been ranked 73 of 10 million with Open PageRank 8.09.\\n\\nSource: https://www.domcop.com/openpagerank/what-is-openpagerank, retrieved on 29 November 2019\",\"sub\":\"https://cnn.com\",\"iat\":\"1577021799\"}\n",
      "{\"metadata\":{\"display_name\":\"Mangrove Bot\",\"is_generated\":true,\"data_source\":\"https://www.domcop.com/openpagerank/what-is-openpagerank\"},\"opinion\":\"This domain has been ranked 74 of 10 million with Open PageRank 8.09.\\n\\nSource: https://www.domcop.com/openpagerank/what-is-openpagerank, retrieved on 29 November 2019\",\"sub\":\"https://issuu.com\",\"iat\":\"1577021799\"}\n",
      "{\"metadata\":{\"display_name\":\"Mangrove Bot\",\"is_generated\":true,\"data_source\":\"https://www.domcop.com/openpagerank/what-is-openpagerank\"},\"opinion\":\"This domain has been ranked 75 of 10 million with Open PageRank 8.08.\\n\\nSource: https://www.domcop.com/openpagerank/what-is-openpagerank, retrieved on 29 November 2019\",\"sub\":\"https://slideshare.net\",\"iat\":\"1577021799\"}\n",
      "{\"metadata\":{\"display_name\":\"Mangrove Bot\",\"is_generated\":true,\"data_source\":\"https://www.domcop.com/openpagerank/what-is-openpagerank\"},\"opinion\":\"This domain has been ranked 76 of 10 million with Open PageRank 8.08.\\n\\nSource: https://www.domcop.com/openpagerank/what-is-openpagerank, retrieved on 29 November 2019\",\"sub\":\"https://web.archive.org\",\"iat\":\"1577021799\"}\n",
      "{\"metadata\":{\"display_name\":\"Mangrove Bot\",\"is_generated\":true,\"data_source\":\"https://www.domcop.com/openpagerank/what-is-openpagerank\"},\"opinion\":\"This domain has been ranked 77 of 10 million with Open PageRank 8.07.\\n\\nSource: https://www.domcop.com/openpagerank/what-is-openpagerank, retrieved on 29 November 2019\",\"sub\":\"https://code.google.com\",\"iat\":\"1577021799\"}\n",
      "{\"metadata\":{\"display_name\":\"Mangrove Bot\",\"is_generated\":true,\"data_source\":\"https://www.domcop.com/openpagerank/what-is-openpagerank\"},\"opinion\":\"This domain has been ranked 78 of 10 million with Open PageRank 8.06.\\n\\nSource: https://www.domcop.com/openpagerank/what-is-openpagerank, retrieved on 29 November 2019\",\"sub\":\"https://mashable.com\",\"iat\":\"1577021799\"}\n",
      "{\"metadata\":{\"display_name\":\"Mangrove Bot\",\"is_generated\":true,\"data_source\":\"https://www.domcop.com/openpagerank/what-is-openpagerank\"},\"opinion\":\"This domain has been ranked 79 of 10 million with Open PageRank 8.06.\\n\\nSource: https://www.domcop.com/openpagerank/what-is-openpagerank, retrieved on 29 November 2019\",\"sub\":\"https://amazon.co.uk\",\"iat\":\"1577021799\"}\n",
      "{\"metadata\":{\"display_name\":\"Mangrove Bot\",\"is_generated\":true,\"data_source\":\"https://www.domcop.com/openpagerank/what-is-openpagerank\"},\"opinion\":\"This domain has been ranked 80 of 10 million with Open PageRank 8.06.\\n\\nSource: https://www.domcop.com/openpagerank/what-is-openpagerank, retrieved on 29 November 2019\",\"sub\":\"https://businessinsider.com\",\"iat\":\"1577021799\"}\n",
      "{\"metadata\":{\"display_name\":\"Mangrove Bot\",\"is_generated\":true,\"data_source\":\"https://www.domcop.com/openpagerank/what-is-openpagerank\"},\"opinion\":\"This domain has been ranked 81 of 10 million with Open PageRank 8.05.\\n\\nSource: https://www.domcop.com/openpagerank/what-is-openpagerank, retrieved on 29 November 2019\",\"sub\":\"https://imdb.com\",\"iat\":\"1577021799\"}\n",
      "{\"metadata\":{\"display_name\":\"Mangrove Bot\",\"is_generated\":true,\"data_source\":\"https://www.domcop.com/openpagerank/what-is-openpagerank\"},\"opinion\":\"This domain has been ranked 82 of 10 million with Open PageRank 8.05.\\n\\nSource: https://www.domcop.com/openpagerank/what-is-openpagerank, retrieved on 29 November 2019\",\"sub\":\"https://washingtonpost.com\",\"iat\":\"1577021799\"}\n",
      "{\"metadata\":{\"display_name\":\"Mangrove Bot\",\"is_generated\":true,\"data_source\":\"https://www.domcop.com/openpagerank/what-is-openpagerank\"},\"opinion\":\"This domain has been ranked 83 of 10 million with Open PageRank 8.04.\\n\\nSource: https://www.domcop.com/openpagerank/what-is-openpagerank, retrieved on 29 November 2019\",\"sub\":\"https://eventbrite.com\",\"iat\":\"1577021799\"}\n",
      "{\"metadata\":{\"display_name\":\"Mangrove Bot\",\"is_generated\":true,\"data_source\":\"https://www.domcop.com/openpagerank/what-is-openpagerank\"},\"opinion\":\"This domain has been ranked 84 of 10 million with Open PageRank 8.02.\\n\\nSource: https://www.domcop.com/openpagerank/what-is-openpagerank, retrieved on 29 November 2019\",\"sub\":\"https://chrome.google.com\",\"iat\":\"1577021799\"}\n"
     ]
    },
    {
     "name": "stdout",
     "output_type": "stream",
     "text": [
      "{\"metadata\":{\"display_name\":\"Mangrove Bot\",\"is_generated\":true,\"data_source\":\"https://www.domcop.com/openpagerank/what-is-openpagerank\"},\"opinion\":\"This domain has been ranked 85 of 10 million with Open PageRank 8.02.\\n\\nSource: https://www.domcop.com/openpagerank/what-is-openpagerank, retrieved on 29 November 2019\",\"sub\":\"https://lh4.googleusercontent.com\",\"iat\":\"1577021799\"}\n",
      "{\"metadata\":{\"display_name\":\"Mangrove Bot\",\"is_generated\":true,\"data_source\":\"https://www.domcop.com/openpagerank/what-is-openpagerank\"},\"opinion\":\"This domain has been ranked 86 of 10 million with Open PageRank 8.02.\\n\\nSource: https://www.domcop.com/openpagerank/what-is-openpagerank, retrieved on 29 November 2019\",\"sub\":\"https://maxcdn.bootstrapcdn.com\",\"iat\":\"1577021799\"}\n",
      "{\"metadata\":{\"display_name\":\"Mangrove Bot\",\"is_generated\":true,\"data_source\":\"https://www.domcop.com/openpagerank/what-is-openpagerank\"},\"opinion\":\"This domain has been ranked 87 of 10 million with Open PageRank 8.01.\\n\\nSource: https://www.domcop.com/openpagerank/what-is-openpagerank, retrieved on 29 November 2019\",\"sub\":\"https://gov.uk\",\"iat\":\"1577021799\"}\n",
      "{\"metadata\":{\"display_name\":\"Mangrove Bot\",\"is_generated\":true,\"data_source\":\"https://www.domcop.com/openpagerank/what-is-openpagerank\"},\"opinion\":\"This domain has been ranked 88 of 10 million with Open PageRank 8.0.\\n\\nSource: https://www.domcop.com/openpagerank/what-is-openpagerank, retrieved on 29 November 2019\",\"sub\":\"https://player.vimeo.com\",\"iat\":\"1577021799\"}\n",
      "{\"metadata\":{\"display_name\":\"Mangrove Bot\",\"is_generated\":true,\"data_source\":\"https://www.domcop.com/openpagerank/what-is-openpagerank\"},\"opinion\":\"This domain has been ranked 89 of 10 million with Open PageRank 8.0.\\n\\nSource: https://www.domcop.com/openpagerank/what-is-openpagerank, retrieved on 29 November 2019\",\"sub\":\"https://bloomberg.com\",\"iat\":\"1577021799\"}\n",
      "{\"metadata\":{\"display_name\":\"Mangrove Bot\",\"is_generated\":true,\"data_source\":\"https://www.domcop.com/openpagerank/what-is-openpagerank\"},\"opinion\":\"This domain has been ranked 90 of 10 million with Open PageRank 8.0.\\n\\nSource: https://www.domcop.com/openpagerank/what-is-openpagerank, retrieved on 29 November 2019\",\"sub\":\"https://yahoo.com\",\"iat\":\"1577021799\"}\n",
      "{\"metadata\":{\"display_name\":\"Mangrove Bot\",\"is_generated\":true,\"data_source\":\"https://www.domcop.com/openpagerank/what-is-openpagerank\"},\"opinion\":\"This domain has been ranked 91 of 10 million with Open PageRank 7.99.\\n\\nSource: https://www.domcop.com/openpagerank/what-is-openpagerank, retrieved on 29 November 2019\",\"sub\":\"https://lh6.googleusercontent.com\",\"iat\":\"1577021799\"}\n",
      "{\"metadata\":{\"display_name\":\"Mangrove Bot\",\"is_generated\":true,\"data_source\":\"https://www.domcop.com/openpagerank/what-is-openpagerank\"},\"opinion\":\"This domain has been ranked 92 of 10 million with Open PageRank 7.95.\\n\\nSource: https://www.domcop.com/openpagerank/what-is-openpagerank, retrieved on 29 November 2019\",\"sub\":\"https://telegraph.co.uk\",\"iat\":\"1577021799\"}\n",
      "{\"metadata\":{\"display_name\":\"Mangrove Bot\",\"is_generated\":true,\"data_source\":\"https://www.domcop.com/openpagerank/what-is-openpagerank\"},\"opinion\":\"This domain has been ranked 93 of 10 million with Open PageRank 7.94.\\n\\nSource: https://www.domcop.com/openpagerank/what-is-openpagerank, retrieved on 29 November 2019\",\"sub\":\"https://google.de\",\"iat\":\"1577021799\"}\n",
      "{\"metadata\":{\"display_name\":\"Mangrove Bot\",\"is_generated\":true,\"data_source\":\"https://www.domcop.com/openpagerank/what-is-openpagerank\"},\"opinion\":\"This domain has been ranked 94 of 10 million with Open PageRank 7.94.\\n\\nSource: https://www.domcop.com/openpagerank/what-is-openpagerank, retrieved on 29 November 2019\",\"sub\":\"https://venturebeat.com\",\"iat\":\"1577021799\"}\n",
      "{\"metadata\":{\"display_name\":\"Mangrove Bot\",\"is_generated\":true,\"data_source\":\"https://www.domcop.com/openpagerank/what-is-openpagerank\"},\"opinion\":\"This domain has been ranked 95 of 10 million with Open PageRank 7.94.\\n\\nSource: https://www.domcop.com/openpagerank/what-is-openpagerank, retrieved on 29 November 2019\",\"sub\":\"https://amzn.to\",\"iat\":\"1577021799\"}\n",
      "{\"metadata\":{\"display_name\":\"Mangrove Bot\",\"is_generated\":true,\"data_source\":\"https://www.domcop.com/openpagerank/what-is-openpagerank\"},\"opinion\":\"This domain has been ranked 96 of 10 million with Open PageRank 7.93.\\n\\nSource: https://www.domcop.com/openpagerank/what-is-openpagerank, retrieved on 29 November 2019\",\"sub\":\"https://groups.google.com\",\"iat\":\"1577021799\"}\n",
      "{\"metadata\":{\"display_name\":\"Mangrove Bot\",\"is_generated\":true,\"data_source\":\"https://www.domcop.com/openpagerank/what-is-openpagerank\"},\"opinion\":\"This domain has been ranked 97 of 10 million with Open PageRank 7.93.\\n\\nSource: https://www.domcop.com/openpagerank/what-is-openpagerank, retrieved on 29 November 2019\",\"sub\":\"https://ebay.com\",\"iat\":\"1577021799\"}\n",
      "{\"metadata\":{\"display_name\":\"Mangrove Bot\",\"is_generated\":true,\"data_source\":\"https://www.domcop.com/openpagerank/what-is-openpagerank\"},\"opinion\":\"This domain has been ranked 98 of 10 million with Open PageRank 7.93.\\n\\nSource: https://www.domcop.com/openpagerank/what-is-openpagerank, retrieved on 29 November 2019\",\"sub\":\"https://bbc.com\",\"iat\":\"1577021799\"}\n",
      "{\"metadata\":{\"display_name\":\"Mangrove Bot\",\"is_generated\":true,\"data_source\":\"https://www.domcop.com/openpagerank/what-is-openpagerank\"},\"opinion\":\"This domain has been ranked 99 of 10 million with Open PageRank 7.93.\\n\\nSource: https://www.domcop.com/openpagerank/what-is-openpagerank, retrieved on 29 November 2019\",\"sub\":\"https://ibm.com\",\"iat\":\"1577021799\"}\n",
      "{\"metadata\":{\"display_name\":\"Mangrove Bot\",\"is_generated\":true,\"data_source\":\"https://www.domcop.com/openpagerank/what-is-openpagerank\"},\"opinion\":\"This domain has been ranked 100 of 10 million with Open PageRank 7.93.\\n\\nSource: https://www.domcop.com/openpagerank/what-is-openpagerank, retrieved on 29 November 2019\",\"sub\":\"https://ted.com\",\"iat\":\"1577021799\"}\n"
     ]
    },
    {
     "data": {
      "text/plain": [
       "100-element Array{Nothing,1}:\n",
       " nothing\n",
       " nothing\n",
       " nothing\n",
       " nothing\n",
       " nothing\n",
       " nothing\n",
       " nothing\n",
       " nothing\n",
       " nothing\n",
       " nothing\n",
       " nothing\n",
       " nothing\n",
       " nothing\n",
       " ⋮      \n",
       " nothing\n",
       " nothing\n",
       " nothing\n",
       " nothing\n",
       " nothing\n",
       " nothing\n",
       " nothing\n",
       " nothing\n",
       " nothing\n",
       " nothing\n",
       " nothing\n",
       " nothing"
      ]
     },
     "execution_count": 18,
     "metadata": {},
     "output_type": "execute_result"
    }
   ],
   "source": [
    "using JSON\n",
    "map(println ∘ json, test_payloads)"
   ]
  },
  {
   "cell_type": "code",
   "execution_count": 80,
   "metadata": {},
   "outputs": [
    {
     "data": {
      "text/plain": [
       "#56 (generic function with 1 method)"
      ]
     },
     "execution_count": 80,
     "metadata": {},
     "output_type": "execute_result"
    }
   ],
   "source": [
    "import CBOR\n",
    "import Base64.base64encode\n",
    "base64url = (input -> reduce(replace, [\"+\" => \"-\", \"/\" => \"_\", \"=\" => \"\"]; init=input)) ∘ base64encode"
   ]
  },
  {
   "cell_type": "code",
   "execution_count": 90,
   "metadata": {},
   "outputs": [],
   "source": [
    "encoded_payloads = map(base64url ∘ CBOR.encode, test_payloads);"
   ]
  },
  {
   "cell_type": "code",
   "execution_count": 82,
   "metadata": {},
   "outputs": [
    {
     "data": {
      "text/plain": [
       "PyObject <ecdsa.keys.VerifyingKey object at 0x7fdaec0bdda0>"
      ]
     },
     "execution_count": 82,
     "metadata": {},
     "output_type": "execute_result"
    }
   ],
   "source": [
    "using PyCall\n",
    "ecdsa = pyimport(\"ecdsa\")\n",
    "SigningKey = ecdsa.SigningKey\n",
    "sk = SigningKey.generate()\n",
    "vk = sk.verifying_key"
   ]
  },
  {
   "cell_type": "code",
   "execution_count": 91,
   "metadata": {},
   "outputs": [],
   "source": [
    "signatures = map(Vector{UInt8} ∘ sk.sign ∘ pybytes, encoded_payloads)\n",
    "encoded_signatures = map(base64url ∘ CBOR.encode, signatures);"
   ]
  },
  {
   "cell_type": "code",
   "execution_count": 88,
   "metadata": {},
   "outputs": [
    {
     "data": {
      "text/plain": [
       "true"
      ]
     },
     "execution_count": 88,
     "metadata": {},
     "output_type": "execute_result"
    }
   ],
   "source": [
    "vk.verify(signatures[1], pybytes(encoded_payloads[1]))"
   ]
  },
  {
   "cell_type": "code",
   "execution_count": 94,
   "metadata": {},
   "outputs": [
    {
     "data": {
      "text/plain": [
       "100-element Array{String,1}:\n",
       " \"{\\\"signature\\\":\\\"WDD_9h38exBHTrR0-BJormshB3Zct3YCR35cW_r1YZm61-TEu4fDJi8KkkJnM9NhU5s\\\",\\\"payload\\\":\\\"pNgbg2xKdWxpYS9TeW1ib2xSN0pMCAQAAAABCG1ldGFkYXRhgKPYG4NsSnVsaWEvU3ltYm9sVjdKTAgEAAAAAQxkaXNwbGF5X25hbWWAbE1hbmdyb3ZlIEJvdNgbg2xKdWxpYS9TeW1ib2xWN0pMCAQAAAABDGlzX2dlbmVyYXRlZID12BuDbEp1bGlhL1N5bWJvbFU3SkwIBAAAAAELZGF0YV9zb3VyY2WAeDhodHRwczovL3d3dy5kb21jb3AuY29tL29wZW5wYWdlcmFuay93aGF0LWlzLW9wZW5wYWdlcmFua9gbg2xKdWxpYS9TeW1ib2xRN0pMCAQAAAABB29waW5pb26AeKVUaGlzIGRvbWFpbiBoYXMgYmVlbiByYW5rZWQgMSBvZiAxMCBtaWxsaW9uIHdpdGggT3BlbiBQYWdlUmFuayAxMC4wLgoKU291cmNlOiBodHRwczovL3d3dy5kb21jb3AuY29tL29wZW5wYWdlcmFuay93aGF0LWlzLW9wZW5wYWdlcmFuaywgcmV0cmlldmVkIG9uIDI5IE5vdmVtYmVyIDIwMTnYG4NsSnVsaWEvU3ltYm9sTTdKTAgEAAAAAQNzdWKAeBxodHRwczovL2ZvbnRzLmdvb2dsZWFwaXMuY29t2BuDbEp1bGlhL1N5bWJvbE03SkwIBAAAAAEDaWF0gGoxNTc4MDQ3ODg1\\\"}\"        \n",
       " \"{\\\"signature\\\":\\\"WDCZWkwl3Q3T-q_kEtu2U8jukbnrGiRzzBQBUqueYOt-vNelgEOo8fUp9qsONfVC3JM\\\",\\\"payload\\\":\\\"pNgbg2xKdWxpYS9TeW1ib2xSN0pMCAQAAAABCG1ldGFkYXRhgKPYG4NsSnVsaWEvU3ltYm9sVjdKTAgEAAAAAQxkaXNwbGF5X25hbWWAbE1hbmdyb3ZlIEJvdNgbg2xKdWxpYS9TeW1ib2xWN0pMCAQAAAABDGlzX2dlbmVyYXRlZID12BuDbEp1bGlhL1N5bWJvbFU3SkwIBAAAAAELZGF0YV9zb3VyY2WAeDhodHRwczovL3d3dy5kb21jb3AuY29tL29wZW5wYWdlcmFuay93aGF0LWlzLW9wZW5wYWdlcmFua9gbg2xKdWxpYS9TeW1ib2xRN0pMCAQAAAABB29waW5pb26AeKVUaGlzIGRvbWFpbiBoYXMgYmVlbiByYW5rZWQgMiBvZiAxMCBtaWxsaW9uIHdpdGggT3BlbiBQYWdlUmFuayAxMC4wLgoKU291cmNlOiBodHRwczovL3d3dy5kb21jb3AuY29tL29wZW5wYWdlcmFuay93aGF0LWlzLW9wZW5wYWdlcmFuaywgcmV0cmlldmVkIG9uIDI5IE5vdmVtYmVyIDIwMTnYG4NsSnVsaWEvU3ltYm9sTTdKTAgEAAAAAQNzdWKAdGh0dHBzOi8vZmFjZWJvb2suY29t2BuDbEp1bGlhL1N5bWJvbE03SkwIBAAAAAEDaWF0gGoxNTc4MDQ3ODg1\\\"}\"                    \n",
       " \"{\\\"signature\\\":\\\"WDC0tPWPeS84xcd_Hhpk-SJeshWnogcYycPZmVzMFXA5WyHaUoxUvI4F7TjbkXanGLI\\\",\\\"payload\\\":\\\"pNgbg2xKdWxpYS9TeW1ib2xSN0pMCAQAAAABCG1ldGFkYXRhgKPYG4NsSnVsaWEvU3ltYm9sVjdKTAgEAAAAAQxkaXNwbGF5X25hbWWAbE1hbmdyb3ZlIEJvdNgbg2xKdWxpYS9TeW1ib2xWN0pMCAQAAAABDGlzX2dlbmVyYXRlZID12BuDbEp1bGlhL1N5bWJvbFU3SkwIBAAAAAELZGF0YV9zb3VyY2WAeDhodHRwczovL3d3dy5kb21jb3AuY29tL29wZW5wYWdlcmFuay93aGF0LWlzLW9wZW5wYWdlcmFua9gbg2xKdWxpYS9TeW1ib2xRN0pMCAQAAAABB29waW5pb26AeKVUaGlzIGRvbWFpbiBoYXMgYmVlbiByYW5rZWQgMyBvZiAxMCBtaWxsaW9uIHdpdGggT3BlbiBQYWdlUmFuayAxMC4wLgoKU291cmNlOiBodHRwczovL3d3dy5kb21jb3AuY29tL29wZW5wYWdlcmFuay93aGF0LWlzLW9wZW5wYWdlcmFuaywgcmV0cmlldmVkIG9uIDI5IE5vdmVtYmVyIDIwMTnYG4NsSnVsaWEvU3ltYm9sTTdKTAgEAAAAAQNzdWKAc2h0dHBzOi8vdHdpdHRlci5jb23YG4NsSnVsaWEvU3ltYm9sTTdKTAgEAAAAAQNpYXSAajE1NzgwNDc4ODU\\\"}\"                     \n",
       " \"{\\\"signature\\\":\\\"WDCCsyfBjror0MiUVBb202tmQ47bo1ZBfitMxMObGLPiGQhEFzK2ryn5ZhYJuAiCG58\\\",\\\"payload\\\":\\\"pNgbg2xKdWxpYS9TeW1ib2xSN0pMCAQAAAABCG1ldGFkYXRhgKPYG4NsSnVsaWEvU3ltYm9sVjdKTAgEAAAAAQxkaXNwbGF5X25hbWWAbE1hbmdyb3ZlIEJvdNgbg2xKdWxpYS9TeW1ib2xWN0pMCAQAAAABDGlzX2dlbmVyYXRlZID12BuDbEp1bGlhL1N5bWJvbFU3SkwIBAAAAAELZGF0YV9zb3VyY2WAeDhodHRwczovL3d3dy5kb21jb3AuY29tL29wZW5wYWdlcmFuay93aGF0LWlzLW9wZW5wYWdlcmFua9gbg2xKdWxpYS9TeW1ib2xRN0pMCAQAAAABB29waW5pb26AeKVUaGlzIGRvbWFpbiBoYXMgYmVlbiByYW5rZWQgNCBvZiAxMCBtaWxsaW9uIHdpdGggT3BlbiBQYWdlUmFuayAxMC4wLgoKU291cmNlOiBodHRwczovL3d3dy5kb21jb3AuY29tL29wZW5wYWdlcmFuay93aGF0LWlzLW9wZW5wYWdlcmFuaywgcmV0cmlldmVkIG9uIDI5IE5vdmVtYmVyIDIwMTnYG4NsSnVsaWEvU3ltYm9sTTdKTAgEAAAAAQNzdWKAcmh0dHBzOi8vZ29vZ2xlLmNvbdgbg2xKdWxpYS9TeW1ib2xNN0pMCAQAAAABA2lhdIBqMTU3ODA0Nzg4NQ\\\"}\"                      \n",
       " \"{\\\"signature\\\":\\\"WDBeQ1x7Aj6qRZDvpR6YCsxitXkZp8wGYHJ6L1CseyPWt2ec6YvBfqMSZ9pZI-n8qi4\\\",\\\"payload\\\":\\\"pNgbg2xKdWxpYS9TeW1ib2xSN0pMCAQAAAABCG1ldGFkYXRhgKPYG4NsSnVsaWEvU3ltYm9sVjdKTAgEAAAAAQxkaXNwbGF5X25hbWWAbE1hbmdyb3ZlIEJvdNgbg2xKdWxpYS9TeW1ib2xWN0pMCAQAAAABDGlzX2dlbmVyYXRlZID12BuDbEp1bGlhL1N5bWJvbFU3SkwIBAAAAAELZGF0YV9zb3VyY2WAeDhodHRwczovL3d3dy5kb21jb3AuY29tL29wZW5wYWdlcmFuay93aGF0LWlzLW9wZW5wYWdlcmFua9gbg2xKdWxpYS9TeW1ib2xRN0pMCAQAAAABB29waW5pb26AeKVUaGlzIGRvbWFpbiBoYXMgYmVlbiByYW5rZWQgNSBvZiAxMCBtaWxsaW9uIHdpdGggT3BlbiBQYWdlUmFuayAxMC4wLgoKU291cmNlOiBodHRwczovL3d3dy5kb21jb3AuY29tL29wZW5wYWdlcmFuay93aGF0LWlzLW9wZW5wYWdlcmFuaywgcmV0cmlldmVkIG9uIDI5IE5vdmVtYmVyIDIwMTnYG4NsSnVsaWEvU3ltYm9sTTdKTAgEAAAAAQNzdWKAc2h0dHBzOi8veW91dHViZS5jb23YG4NsSnVsaWEvU3ltYm9sTTdKTAgEAAAAAQNpYXSAajE1NzgwNDc4ODU\\\"}\"                     \n",
       " \"{\\\"signature\\\":\\\"WDDqYaS87tgrCNSd7qx8mv1qeMESVu7TMgs3CkdWcfwz8oj-k3ERR8vN8mlqne1jd9M\\\",\\\"payload\\\":\\\"pNgbg2xKdWxpYS9TeW1ib2xSN0pMCAQAAAABCG1ldGFkYXRhgKPYG4NsSnVsaWEvU3ltYm9sVjdKTAgEAAAAAQxkaXNwbGF5X25hbWWAbE1hbmdyb3ZlIEJvdNgbg2xKdWxpYS9TeW1ib2xWN0pMCAQAAAABDGlzX2dlbmVyYXRlZID12BuDbEp1bGlhL1N5bWJvbFU3SkwIBAAAAAELZGF0YV9zb3VyY2WAeDhodHRwczovL3d3dy5kb21jb3AuY29tL29wZW5wYWdlcmFuay93aGF0LWlzLW9wZW5wYWdlcmFua9gbg2xKdWxpYS9TeW1ib2xRN0pMCAQAAAABB29waW5pb26AeKVUaGlzIGRvbWFpbiBoYXMgYmVlbiByYW5rZWQgNiBvZiAxMCBtaWxsaW9uIHdpdGggT3BlbiBQYWdlUmFuayAxMC4wLgoKU291cmNlOiBodHRwczovL3d3dy5kb21jb3AuY29tL29wZW5wYWdlcmFuay93aGF0LWlzLW9wZW5wYWdlcmFuaywgcmV0cmlldmVkIG9uIDI5IE5vdmVtYmVyIDIwMTnYG4NsSnVsaWEvU3ltYm9sTTdKTAgEAAAAAQNzdWKAdWh0dHBzOi8vaW5zdGFncmFtLmNvbdgbg2xKdWxpYS9TeW1ib2xNN0pMCAQAAAABA2lhdIBqMTU3ODA0Nzg4NQ\\\"}\"                  \n",
       " \"{\\\"signature\\\":\\\"WDCLP7bDs0Wo4__iqAmh2hByFhej49m9CzhggR7r7Zpv12WLWSl0x1b_b6eT1YlGfgo\\\",\\\"payload\\\":\\\"pNgbg2xKdWxpYS9TeW1ib2xSN0pMCAQAAAABCG1ldGFkYXRhgKPYG4NsSnVsaWEvU3ltYm9sVjdKTAgEAAAAAQxkaXNwbGF5X25hbWWAbE1hbmdyb3ZlIEJvdNgbg2xKdWxpYS9TeW1ib2xWN0pMCAQAAAABDGlzX2dlbmVyYXRlZID12BuDbEp1bGlhL1N5bWJvbFU3SkwIBAAAAAELZGF0YV9zb3VyY2WAeDhodHRwczovL3d3dy5kb21jb3AuY29tL29wZW5wYWdlcmFuay93aGF0LWlzLW9wZW5wYWdlcmFua9gbg2xKdWxpYS9TeW1ib2xRN0pMCAQAAAABB29waW5pb26AeKVUaGlzIGRvbWFpbiBoYXMgYmVlbiByYW5rZWQgNyBvZiAxMCBtaWxsaW9uIHdpdGggT3BlbiBQYWdlUmFuayAxMC4wLgoKU291cmNlOiBodHRwczovL3d3dy5kb21jb3AuY29tL29wZW5wYWdlcmFuay93aGF0LWlzLW9wZW5wYWdlcmFuaywgcmV0cmlldmVkIG9uIDI5IE5vdmVtYmVyIDIwMTnYG4NsSnVsaWEvU3ltYm9sTTdKTAgEAAAAAQNzdWKAb2h0dHBzOi8vcy53Lm9yZ9gbg2xKdWxpYS9TeW1ib2xNN0pMCAQAAAABA2lhdIBqMTU3ODA0Nzg4NQ\\\"}\"                          \n",
       " \"{\\\"signature\\\":\\\"WDCV9lUSChOIRC6u6QNuwyuUW6Fgjr1buu9uisXL1JmOgeVR-JEmhAOZEVN8qrqQJew\\\",\\\"payload\\\":\\\"pNgbg2xKdWxpYS9TeW1ib2xSN0pMCAQAAAABCG1ldGFkYXRhgKPYG4NsSnVsaWEvU3ltYm9sVjdKTAgEAAAAAQxkaXNwbGF5X25hbWWAbE1hbmdyb3ZlIEJvdNgbg2xKdWxpYS9TeW1ib2xWN0pMCAQAAAABDGlzX2dlbmVyYXRlZID12BuDbEp1bGlhL1N5bWJvbFU3SkwIBAAAAAELZGF0YV9zb3VyY2WAeDhodHRwczovL3d3dy5kb21jb3AuY29tL29wZW5wYWdlcmFuay93aGF0LWlzLW9wZW5wYWdlcmFua9gbg2xKdWxpYS9TeW1ib2xRN0pMCAQAAAABB29waW5pb26AeKVUaGlzIGRvbWFpbiBoYXMgYmVlbiByYW5rZWQgOCBvZiAxMCBtaWxsaW9uIHdpdGggT3BlbiBQYWdlUmFuayAxMC4wLgoKU291cmNlOiBodHRwczovL3d3dy5kb21jb3AuY29tL29wZW5wYWdlcmFuay93aGF0LWlzLW9wZW5wYWdlcmFuaywgcmV0cmlldmVkIG9uIDI5IE5vdmVtYmVyIDIwMTnYG4NsSnVsaWEvU3ltYm9sTTdKTAgEAAAAAQNzdWKAeBtodHRwczovL2FqYXguZ29vZ2xlYXBpcy5jb23YG4NsSnVsaWEvU3ltYm9sTTdKTAgEAAAAAQNpYXSAajE1NzgwNDc4ODU\\\"}\"         \n",
       " \"{\\\"signature\\\":\\\"WDDAiw_GvsCVMuVLF7q2gmHwn97AsS4HpgcU_c0McdwA1LRgy9o6Yqv-PafXwVmG34k\\\",\\\"payload\\\":\\\"pNgbg2xKdWxpYS9TeW1ib2xSN0pMCAQAAAABCG1ldGFkYXRhgKPYG4NsSnVsaWEvU3ltYm9sVjdKTAgEAAAAAQxkaXNwbGF5X25hbWWAbE1hbmdyb3ZlIEJvdNgbg2xKdWxpYS9TeW1ib2xWN0pMCAQAAAABDGlzX2dlbmVyYXRlZID12BuDbEp1bGlhL1N5bWJvbFU3SkwIBAAAAAELZGF0YV9zb3VyY2WAeDhodHRwczovL3d3dy5kb21jb3AuY29tL29wZW5wYWdlcmFuay93aGF0LWlzLW9wZW5wYWdlcmFua9gbg2xKdWxpYS9TeW1ib2xRN0pMCAQAAAABB29waW5pb26AeKVUaGlzIGRvbWFpbiBoYXMgYmVlbiByYW5rZWQgOSBvZiAxMCBtaWxsaW9uIHdpdGggT3BlbiBQYWdlUmFuayAxMC4wLgoKU291cmNlOiBodHRwczovL3d3dy5kb21jb3AuY29tL29wZW5wYWdlcmFuay93aGF0LWlzLW9wZW5wYWdlcmFuaywgcmV0cmlldmVkIG9uIDI5IE5vdmVtYmVyIDIwMTnYG4NsSnVsaWEvU3ltYm9sTTdKTAgEAAAAAQNzdWKAdGh0dHBzOi8vbGlua2VkaW4uY29t2BuDbEp1bGlhL1N5bWJvbE03SkwIBAAAAAEDaWF0gGoxNTc4MDQ3ODg1\\\"}\"                    \n",
       " \"{\\\"signature\\\":\\\"WDChEiBpcWUtyh8aV71ws00bFd5HUvgOB9-e1gnsC1MIvb7pgdDSJ7XF5a1cUHc1bLE\\\",\\\"payload\\\":\\\"pNgbg2xKdWxpYS9TeW1ib2xSN0pMCAQAAAABCG1ldGFkYXRhgKPYG4NsSnVsaWEvU3ltYm9sVjdKTAgEAAAAAQxkaXNwbGF5X25hbWWAbE1hbmdyb3ZlIEJvdNgbg2xKdWxpYS9TeW1ib2xWN0pMCAQAAAABDGlzX2dlbmVyYXRlZID12BuDbEp1bGlhL1N5bWJvbFU3SkwIBAAAAAELZGF0YV9zb3VyY2WAeDhodHRwczovL3d3dy5kb21jb3AuY29tL29wZW5wYWdlcmFuay93aGF0LWlzLW9wZW5wYWdlcmFua9gbg2xKdWxpYS9TeW1ib2xRN0pMCAQAAAABB29waW5pb26AeKZUaGlzIGRvbWFpbiBoYXMgYmVlbiByYW5rZWQgMTAgb2YgMTAgbWlsbGlvbiB3aXRoIE9wZW4gUGFnZVJhbmsgMTAuMC4KClNvdXJjZTogaHR0cHM6Ly93d3cuZG9tY29wLmNvbS9vcGVucGFnZXJhbmsvd2hhdC1pcy1vcGVucGFnZXJhbmssIHJldHJpZXZlZCBvbiAyOSBOb3ZlbWJlciAyMDE52BuDbEp1bGlhL1N5bWJvbE03SkwIBAAAAAEDc3VigHgcaHR0cHM6Ly9nb29nbGV0YWdtYW5hZ2VyLmNvbdgbg2xKdWxpYS9TeW1ib2xNN0pMCAQAAAABA2lhdIBqMTU3ODA0Nzg4NQ\\\"}\"      \n",
       " \"{\\\"signature\\\":\\\"WDDC0kT9-xbeoJNpvFEqR1iCmxMexNWSvAx2OgmAIqQvvCgirc8NePLEWAINa9a32_I\\\",\\\"payload\\\":\\\"pNgbg2xKdWxpYS9TeW1ib2xSN0pMCAQAAAABCG1ldGFkYXRhgKPYG4NsSnVsaWEvU3ltYm9sVjdKTAgEAAAAAQxkaXNwbGF5X25hbWWAbE1hbmdyb3ZlIEJvdNgbg2xKdWxpYS9TeW1ib2xWN0pMCAQAAAABDGlzX2dlbmVyYXRlZID12BuDbEp1bGlhL1N5bWJvbFU3SkwIBAAAAAELZGF0YV9zb3VyY2WAeDhodHRwczovL3d3dy5kb21jb3AuY29tL29wZW5wYWdlcmFuay93aGF0LWlzLW9wZW5wYWdlcmFua9gbg2xKdWxpYS9TeW1ib2xRN0pMCAQAAAABB29waW5pb26AeKZUaGlzIGRvbWFpbiBoYXMgYmVlbiByYW5rZWQgMTEgb2YgMTAgbWlsbGlvbiB3aXRoIE9wZW4gUGFnZVJhbmsgMTAuMC4KClNvdXJjZTogaHR0cHM6Ly93d3cuZG9tY29wLmNvbS9vcGVucGFnZXJhbmsvd2hhdC1pcy1vcGVucGFnZXJhbmssIHJldHJpZXZlZCBvbiAyOSBOb3ZlbWJlciAyMDE52BuDbEp1bGlhL1N5bWJvbE03SkwIBAAAAAEDc3VigHdodHRwczovL3BsdXMuZ29vZ2xlLmNvbdgbg2xKdWxpYS9TeW1ib2xNN0pMCAQAAAABA2lhdIBqMTU3ODA0Nzg4NQ\\\"}\"              \n",
       " \"{\\\"signature\\\":\\\"WDBKaaJCyqq7isyXh59kmImtVBHBN4cV23nT31EIge7MaiSSBAw_uzEvM_KqzZ-BCJw\\\",\\\"payload\\\":\\\"pNgbg2xKdWxpYS9TeW1ib2xSN0pMCAQAAAABCG1ldGFkYXRhgKPYG4NsSnVsaWEvU3ltYm9sVjdKTAgEAAAAAQxkaXNwbGF5X25hbWWAbE1hbmdyb3ZlIEJvdNgbg2xKdWxpYS9TeW1ib2xWN0pMCAQAAAABDGlzX2dlbmVyYXRlZID12BuDbEp1bGlhL1N5bWJvbFU3SkwIBAAAAAELZGF0YV9zb3VyY2WAeDhodHRwczovL3d3dy5kb21jb3AuY29tL29wZW5wYWdlcmFuay93aGF0LWlzLW9wZW5wYWdlcmFua9gbg2xKdWxpYS9TeW1ib2xRN0pMCAQAAAABB29waW5pb26AeKZUaGlzIGRvbWFpbiBoYXMgYmVlbiByYW5rZWQgMTIgb2YgMTAgbWlsbGlvbiB3aXRoIE9wZW4gUGFnZVJhbmsgMTAuMC4KClNvdXJjZTogaHR0cHM6Ly93d3cuZG9tY29wLmNvbS9vcGVucGFnZXJhbmsvd2hhdC1pcy1vcGVucGFnZXJhbmssIHJldHJpZXZlZCBvbiAyOSBOb3ZlbWJlciAyMDE52BuDbEp1bGlhL1N5bWJvbE03SkwIBAAAAAEDc3VigHBodHRwczovL2dtcGcub3Jn2BuDbEp1bGlhL1N5bWJvbE03SkwIBAAAAAEDaWF0gGoxNTc4MDQ3ODg1\\\"}\"                        \n",
       " \"{\\\"signature\\\":\\\"WDCZPZUnAGTrqNTTvwLReM_BvDTma-RY5ZgdL3lA8hGPU_ylWSTmnzM8b-xTrI7Ggio\\\",\\\"payload\\\":\\\"pNgbg2xKdWxpYS9TeW1ib2xSN0pMCAQAAAABCG1ldGFkYXRhgKPYG4NsSnVsaWEvU3ltYm9sVjdKTAgEAAAAAQxkaXNwbGF5X25hbWWAbE1hbmdyb3ZlIEJvdNgbg2xKdWxpYS9TeW1ib2xWN0pMCAQAAAABDGlzX2dlbmVyYXRlZID12BuDbEp1bGlhL1N5bWJvbFU3SkwIBAAAAAELZGF0YV9zb3VyY2WAeDhodHRwczovL3d3dy5kb21jb3AuY29tL29wZW5wYWdlcmFuay93aGF0LWlzLW9wZW5wYWdlcmFua9gbg2xKdWxpYS9TeW1ib2xRN0pMCAQAAAABB29waW5pb26AeKZUaGlzIGRvbWFpbiBoYXMgYmVlbiByYW5rZWQgMTMgb2YgMTAgbWlsbGlvbiB3aXRoIE9wZW4gUGFnZVJhbmsgOS41OS4KClNvdXJjZTogaHR0cHM6Ly93d3cuZG9tY29wLmNvbS9vcGVucGFnZXJhbmsvd2hhdC1pcy1vcGVucGFnZXJhbmssIHJldHJpZXZlZCBvbiAyOSBOb3ZlbWJlciAyMDE52BuDbEp1bGlhL1N5bWJvbE03SkwIBAAAAAEDc3VigHVodHRwczovL3BpbnRlcmVzdC5jb23YG4NsSnVsaWEvU3ltYm9sTTdKTAgEAAAAAQNpYXSAajE1NzgwNDc4ODU\\\"}\"                 \n",
       " ⋮                                                                                                                                                                                                                                                                                                                                                                                                                                                                                                                                                                                                                                                                                                                                                                                                                                                         \n",
       " \"{\\\"signature\\\":\\\"WDCUEiHxl7OWSMaByQrlD8Lx2iHQl8AqCPHhHA3Inbb9Wx5bDluE811UBn3xmwPnqFc\\\",\\\"payload\\\":\\\"pNgbg2xKdWxpYS9TeW1ib2xSN0pMCAQAAAABCG1ldGFkYXRhgKPYG4NsSnVsaWEvU3ltYm9sVjdKTAgEAAAAAQxkaXNwbGF5X25hbWWAbE1hbmdyb3ZlIEJvdNgbg2xKdWxpYS9TeW1ib2xWN0pMCAQAAAABDGlzX2dlbmVyYXRlZID12BuDbEp1bGlhL1N5bWJvbFU3SkwIBAAAAAELZGF0YV9zb3VyY2WAeDhodHRwczovL3d3dy5kb21jb3AuY29tL29wZW5wYWdlcmFuay93aGF0LWlzLW9wZW5wYWdlcmFua9gbg2xKdWxpYS9TeW1ib2xRN0pMCAQAAAABB29waW5pb26AeKVUaGlzIGRvbWFpbiBoYXMgYmVlbiByYW5rZWQgODkgb2YgMTAgbWlsbGlvbiB3aXRoIE9wZW4gUGFnZVJhbmsgOC4wLgoKU291cmNlOiBodHRwczovL3d3dy5kb21jb3AuY29tL29wZW5wYWdlcmFuay93aGF0LWlzLW9wZW5wYWdlcmFuaywgcmV0cmlldmVkIG9uIDI5IE5vdmVtYmVyIDIwMTnYG4NsSnVsaWEvU3ltYm9sTTdKTAgEAAAAAQNzdWKAdWh0dHBzOi8vYmxvb21iZXJnLmNvbdgbg2xKdWxpYS9TeW1ib2xNN0pMCAQAAAABA2lhdIBqMTU3ODA0Nzg4NQ\\\"}\"                  \n",
       " \"{\\\"signature\\\":\\\"WDB9CbiZUWScwsxApu-KTjYObEszF6DaYmU8aLRRwwaF8QtuoUHO44AUsmXy5M00Sg0\\\",\\\"payload\\\":\\\"pNgbg2xKdWxpYS9TeW1ib2xSN0pMCAQAAAABCG1ldGFkYXRhgKPYG4NsSnVsaWEvU3ltYm9sVjdKTAgEAAAAAQxkaXNwbGF5X25hbWWAbE1hbmdyb3ZlIEJvdNgbg2xKdWxpYS9TeW1ib2xWN0pMCAQAAAABDGlzX2dlbmVyYXRlZID12BuDbEp1bGlhL1N5bWJvbFU3SkwIBAAAAAELZGF0YV9zb3VyY2WAeDhodHRwczovL3d3dy5kb21jb3AuY29tL29wZW5wYWdlcmFuay93aGF0LWlzLW9wZW5wYWdlcmFua9gbg2xKdWxpYS9TeW1ib2xRN0pMCAQAAAABB29waW5pb26AeKVUaGlzIGRvbWFpbiBoYXMgYmVlbiByYW5rZWQgOTAgb2YgMTAgbWlsbGlvbiB3aXRoIE9wZW4gUGFnZVJhbmsgOC4wLgoKU291cmNlOiBodHRwczovL3d3dy5kb21jb3AuY29tL29wZW5wYWdlcmFuay93aGF0LWlzLW9wZW5wYWdlcmFuaywgcmV0cmlldmVkIG9uIDI5IE5vdmVtYmVyIDIwMTnYG4NsSnVsaWEvU3ltYm9sTTdKTAgEAAAAAQNzdWKAcWh0dHBzOi8veWFob28uY29t2BuDbEp1bGlhL1N5bWJvbE03SkwIBAAAAAEDaWF0gGoxNTc4MDQ3ODg1\\\"}\"                        \n",
       " \"{\\\"signature\\\":\\\"WDBbEjTmzmcxiHaRjnmvpqR41zha1OpT-7AUwG8t-oue6xYRsv0ajij11W5zTq5H5Kg\\\",\\\"payload\\\":\\\"pNgbg2xKdWxpYS9TeW1ib2xSN0pMCAQAAAABCG1ldGFkYXRhgKPYG4NsSnVsaWEvU3ltYm9sVjdKTAgEAAAAAQxkaXNwbGF5X25hbWWAbE1hbmdyb3ZlIEJvdNgbg2xKdWxpYS9TeW1ib2xWN0pMCAQAAAABDGlzX2dlbmVyYXRlZID12BuDbEp1bGlhL1N5bWJvbFU3SkwIBAAAAAELZGF0YV9zb3VyY2WAeDhodHRwczovL3d3dy5kb21jb3AuY29tL29wZW5wYWdlcmFuay93aGF0LWlzLW9wZW5wYWdlcmFua9gbg2xKdWxpYS9TeW1ib2xRN0pMCAQAAAABB29waW5pb26AeKZUaGlzIGRvbWFpbiBoYXMgYmVlbiByYW5rZWQgOTEgb2YgMTAgbWlsbGlvbiB3aXRoIE9wZW4gUGFnZVJhbmsgNy45OS4KClNvdXJjZTogaHR0cHM6Ly93d3cuZG9tY29wLmNvbS9vcGVucGFnZXJhbmsvd2hhdC1pcy1vcGVucGFnZXJhbmssIHJldHJpZXZlZCBvbiAyOSBOb3ZlbWJlciAyMDE52BuDbEp1bGlhL1N5bWJvbE03SkwIBAAAAAEDc3VigHghaHR0cHM6Ly9saDYuZ29vZ2xldXNlcmNvbnRlbnQuY29t2BuDbEp1bGlhL1N5bWJvbE03SkwIBAAAAAEDaWF0gGoxNTc4MDQ3ODg1\\\"}\"\n",
       " \"{\\\"signature\\\":\\\"WDB-DTimGbolt75kSBA7NUT8QYTRL3_HmAB7n6gCQoNUWhwv_Vc3Q3ePVOlCtQ_4HnA\\\",\\\"payload\\\":\\\"pNgbg2xKdWxpYS9TeW1ib2xSN0pMCAQAAAABCG1ldGFkYXRhgKPYG4NsSnVsaWEvU3ltYm9sVjdKTAgEAAAAAQxkaXNwbGF5X25hbWWAbE1hbmdyb3ZlIEJvdNgbg2xKdWxpYS9TeW1ib2xWN0pMCAQAAAABDGlzX2dlbmVyYXRlZID12BuDbEp1bGlhL1N5bWJvbFU3SkwIBAAAAAELZGF0YV9zb3VyY2WAeDhodHRwczovL3d3dy5kb21jb3AuY29tL29wZW5wYWdlcmFuay93aGF0LWlzLW9wZW5wYWdlcmFua9gbg2xKdWxpYS9TeW1ib2xRN0pMCAQAAAABB29waW5pb26AeKZUaGlzIGRvbWFpbiBoYXMgYmVlbiByYW5rZWQgOTIgb2YgMTAgbWlsbGlvbiB3aXRoIE9wZW4gUGFnZVJhbmsgNy45NS4KClNvdXJjZTogaHR0cHM6Ly93d3cuZG9tY29wLmNvbS9vcGVucGFnZXJhbmsvd2hhdC1pcy1vcGVucGFnZXJhbmssIHJldHJpZXZlZCBvbiAyOSBOb3ZlbWJlciAyMDE52BuDbEp1bGlhL1N5bWJvbE03SkwIBAAAAAEDc3VigHdodHRwczovL3RlbGVncmFwaC5jby51a9gbg2xKdWxpYS9TeW1ib2xNN0pMCAQAAAABA2lhdIBqMTU3ODA0Nzg4NQ\\\"}\"              \n",
       " \"{\\\"signature\\\":\\\"WDDUjujmtbeNFCWpHZyK3b0GS7BiSDkZCuxSJ0Dc1b_wdYPQAFVzgP6xk_znU8_aTrI\\\",\\\"payload\\\":\\\"pNgbg2xKdWxpYS9TeW1ib2xSN0pMCAQAAAABCG1ldGFkYXRhgKPYG4NsSnVsaWEvU3ltYm9sVjdKTAgEAAAAAQxkaXNwbGF5X25hbWWAbE1hbmdyb3ZlIEJvdNgbg2xKdWxpYS9TeW1ib2xWN0pMCAQAAAABDGlzX2dlbmVyYXRlZID12BuDbEp1bGlhL1N5bWJvbFU3SkwIBAAAAAELZGF0YV9zb3VyY2WAeDhodHRwczovL3d3dy5kb21jb3AuY29tL29wZW5wYWdlcmFuay93aGF0LWlzLW9wZW5wYWdlcmFua9gbg2xKdWxpYS9TeW1ib2xRN0pMCAQAAAABB29waW5pb26AeKZUaGlzIGRvbWFpbiBoYXMgYmVlbiByYW5rZWQgOTMgb2YgMTAgbWlsbGlvbiB3aXRoIE9wZW4gUGFnZVJhbmsgNy45NC4KClNvdXJjZTogaHR0cHM6Ly93d3cuZG9tY29wLmNvbS9vcGVucGFnZXJhbmsvd2hhdC1pcy1vcGVucGFnZXJhbmssIHJldHJpZXZlZCBvbiAyOSBOb3ZlbWJlciAyMDE52BuDbEp1bGlhL1N5bWJvbE03SkwIBAAAAAEDc3VigHFodHRwczovL2dvb2dsZS5kZdgbg2xKdWxpYS9TeW1ib2xNN0pMCAQAAAABA2lhdIBqMTU3ODA0Nzg4NQ\\\"}\"                      \n",
       " \"{\\\"signature\\\":\\\"WDCr0Lwpr0XLQ3rHejlcd6YT839M0AYBC8zPZoaDYD9FEBpVUp9IFwnr76A0g9z73Y0\\\",\\\"payload\\\":\\\"pNgbg2xKdWxpYS9TeW1ib2xSN0pMCAQAAAABCG1ldGFkYXRhgKPYG4NsSnVsaWEvU3ltYm9sVjdKTAgEAAAAAQxkaXNwbGF5X25hbWWAbE1hbmdyb3ZlIEJvdNgbg2xKdWxpYS9TeW1ib2xWN0pMCAQAAAABDGlzX2dlbmVyYXRlZID12BuDbEp1bGlhL1N5bWJvbFU3SkwIBAAAAAELZGF0YV9zb3VyY2WAeDhodHRwczovL3d3dy5kb21jb3AuY29tL29wZW5wYWdlcmFuay93aGF0LWlzLW9wZW5wYWdlcmFua9gbg2xKdWxpYS9TeW1ib2xRN0pMCAQAAAABB29waW5pb26AeKZUaGlzIGRvbWFpbiBoYXMgYmVlbiByYW5rZWQgOTQgb2YgMTAgbWlsbGlvbiB3aXRoIE9wZW4gUGFnZVJhbmsgNy45NC4KClNvdXJjZTogaHR0cHM6Ly93d3cuZG9tY29wLmNvbS9vcGVucGFnZXJhbmsvd2hhdC1pcy1vcGVucGFnZXJhbmssIHJldHJpZXZlZCBvbiAyOSBOb3ZlbWJlciAyMDE52BuDbEp1bGlhL1N5bWJvbE03SkwIBAAAAAEDc3VigHdodHRwczovL3ZlbnR1cmViZWF0LmNvbdgbg2xKdWxpYS9TeW1ib2xNN0pMCAQAAAABA2lhdIBqMTU3ODA0Nzg4NQ\\\"}\"              \n",
       " \"{\\\"signature\\\":\\\"WDCZhqIAo4T0eXjyhHREKuogc4fPQoD6y_HAoAnrWnatgXb_LQPEztk5oP2YRokpcmA\\\",\\\"payload\\\":\\\"pNgbg2xKdWxpYS9TeW1ib2xSN0pMCAQAAAABCG1ldGFkYXRhgKPYG4NsSnVsaWEvU3ltYm9sVjdKTAgEAAAAAQxkaXNwbGF5X25hbWWAbE1hbmdyb3ZlIEJvdNgbg2xKdWxpYS9TeW1ib2xWN0pMCAQAAAABDGlzX2dlbmVyYXRlZID12BuDbEp1bGlhL1N5bWJvbFU3SkwIBAAAAAELZGF0YV9zb3VyY2WAeDhodHRwczovL3d3dy5kb21jb3AuY29tL29wZW5wYWdlcmFuay93aGF0LWlzLW9wZW5wYWdlcmFua9gbg2xKdWxpYS9TeW1ib2xRN0pMCAQAAAABB29waW5pb26AeKZUaGlzIGRvbWFpbiBoYXMgYmVlbiByYW5rZWQgOTUgb2YgMTAgbWlsbGlvbiB3aXRoIE9wZW4gUGFnZVJhbmsgNy45NC4KClNvdXJjZTogaHR0cHM6Ly93d3cuZG9tY29wLmNvbS9vcGVucGFnZXJhbmsvd2hhdC1pcy1vcGVucGFnZXJhbmssIHJldHJpZXZlZCBvbiAyOSBOb3ZlbWJlciAyMDE52BuDbEp1bGlhL1N5bWJvbE03SkwIBAAAAAEDc3VigG9odHRwczovL2Ftem4udG_YG4NsSnVsaWEvU3ltYm9sTTdKTAgEAAAAAQNpYXSAajE1NzgwNDc4ODU\\\"}\"                         \n",
       " \"{\\\"signature\\\":\\\"WDA5Zp2o-4jU2Njd0zWAhb5cqjarwFEtUVtWEx9nKbZtLg-6HchUJ1GYVwnJtCfiIWs\\\",\\\"payload\\\":\\\"pNgbg2xKdWxpYS9TeW1ib2xSN0pMCAQAAAABCG1ldGFkYXRhgKPYG4NsSnVsaWEvU3ltYm9sVjdKTAgEAAAAAQxkaXNwbGF5X25hbWWAbE1hbmdyb3ZlIEJvdNgbg2xKdWxpYS9TeW1ib2xWN0pMCAQAAAABDGlzX2dlbmVyYXRlZID12BuDbEp1bGlhL1N5bWJvbFU3SkwIBAAAAAELZGF0YV9zb3VyY2WAeDhodHRwczovL3d3dy5kb21jb3AuY29tL29wZW5wYWdlcmFuay93aGF0LWlzLW9wZW5wYWdlcmFua9gbg2xKdWxpYS9TeW1ib2xRN0pMCAQAAAABB29waW5pb26AeKZUaGlzIGRvbWFpbiBoYXMgYmVlbiByYW5rZWQgOTYgb2YgMTAgbWlsbGlvbiB3aXRoIE9wZW4gUGFnZVJhbmsgNy45My4KClNvdXJjZTogaHR0cHM6Ly93d3cuZG9tY29wLmNvbS9vcGVucGFnZXJhbmsvd2hhdC1pcy1vcGVucGFnZXJhbmssIHJldHJpZXZlZCBvbiAyOSBOb3ZlbWJlciAyMDE52BuDbEp1bGlhL1N5bWJvbE03SkwIBAAAAAEDc3VigHgZaHR0cHM6Ly9ncm91cHMuZ29vZ2xlLmNvbdgbg2xKdWxpYS9TeW1ib2xNN0pMCAQAAAABA2lhdIBqMTU3ODA0Nzg4NQ\\\"}\"          \n",
       " \"{\\\"signature\\\":\\\"WDAtouDi4VJtb2uS0KHnCjnsDPaAf0BL_GTBiFWlzSRGIeuDYbbaa1q0Aokfc4Iq0b0\\\",\\\"payload\\\":\\\"pNgbg2xKdWxpYS9TeW1ib2xSN0pMCAQAAAABCG1ldGFkYXRhgKPYG4NsSnVsaWEvU3ltYm9sVjdKTAgEAAAAAQxkaXNwbGF5X25hbWWAbE1hbmdyb3ZlIEJvdNgbg2xKdWxpYS9TeW1ib2xWN0pMCAQAAAABDGlzX2dlbmVyYXRlZID12BuDbEp1bGlhL1N5bWJvbFU3SkwIBAAAAAELZGF0YV9zb3VyY2WAeDhodHRwczovL3d3dy5kb21jb3AuY29tL29wZW5wYWdlcmFuay93aGF0LWlzLW9wZW5wYWdlcmFua9gbg2xKdWxpYS9TeW1ib2xRN0pMCAQAAAABB29waW5pb26AeKZUaGlzIGRvbWFpbiBoYXMgYmVlbiByYW5rZWQgOTcgb2YgMTAgbWlsbGlvbiB3aXRoIE9wZW4gUGFnZVJhbmsgNy45My4KClNvdXJjZTogaHR0cHM6Ly93d3cuZG9tY29wLmNvbS9vcGVucGFnZXJhbmsvd2hhdC1pcy1vcGVucGFnZXJhbmssIHJldHJpZXZlZCBvbiAyOSBOb3ZlbWJlciAyMDE52BuDbEp1bGlhL1N5bWJvbE03SkwIBAAAAAEDc3VigHBodHRwczovL2ViYXkuY29t2BuDbEp1bGlhL1N5bWJvbE03SkwIBAAAAAEDaWF0gGoxNTc4MDQ3ODg1\\\"}\"                        \n",
       " \"{\\\"signature\\\":\\\"WDCoHfkbcHrCmmJuDzfYw7xDHPC87RDyiCpcchlvLWEnfoci_hR9OD6V748p-menzpA\\\",\\\"payload\\\":\\\"pNgbg2xKdWxpYS9TeW1ib2xSN0pMCAQAAAABCG1ldGFkYXRhgKPYG4NsSnVsaWEvU3ltYm9sVjdKTAgEAAAAAQxkaXNwbGF5X25hbWWAbE1hbmdyb3ZlIEJvdNgbg2xKdWxpYS9TeW1ib2xWN0pMCAQAAAABDGlzX2dlbmVyYXRlZID12BuDbEp1bGlhL1N5bWJvbFU3SkwIBAAAAAELZGF0YV9zb3VyY2WAeDhodHRwczovL3d3dy5kb21jb3AuY29tL29wZW5wYWdlcmFuay93aGF0LWlzLW9wZW5wYWdlcmFua9gbg2xKdWxpYS9TeW1ib2xRN0pMCAQAAAABB29waW5pb26AeKZUaGlzIGRvbWFpbiBoYXMgYmVlbiByYW5rZWQgOTggb2YgMTAgbWlsbGlvbiB3aXRoIE9wZW4gUGFnZVJhbmsgNy45My4KClNvdXJjZTogaHR0cHM6Ly93d3cuZG9tY29wLmNvbS9vcGVucGFnZXJhbmsvd2hhdC1pcy1vcGVucGFnZXJhbmssIHJldHJpZXZlZCBvbiAyOSBOb3ZlbWJlciAyMDE52BuDbEp1bGlhL1N5bWJvbE03SkwIBAAAAAEDc3VigG9odHRwczovL2JiYy5jb23YG4NsSnVsaWEvU3ltYm9sTTdKTAgEAAAAAQNpYXSAajE1NzgwNDc4ODU\\\"}\"                         \n",
       " \"{\\\"signature\\\":\\\"WDASmbmkoq3sIudF6TRqBHSQNnQ1MHUek8l_TBkLFaAy9iGj_nQ_5hRJ64YqS6QX184\\\",\\\"payload\\\":\\\"pNgbg2xKdWxpYS9TeW1ib2xSN0pMCAQAAAABCG1ldGFkYXRhgKPYG4NsSnVsaWEvU3ltYm9sVjdKTAgEAAAAAQxkaXNwbGF5X25hbWWAbE1hbmdyb3ZlIEJvdNgbg2xKdWxpYS9TeW1ib2xWN0pMCAQAAAABDGlzX2dlbmVyYXRlZID12BuDbEp1bGlhL1N5bWJvbFU3SkwIBAAAAAELZGF0YV9zb3VyY2WAeDhodHRwczovL3d3dy5kb21jb3AuY29tL29wZW5wYWdlcmFuay93aGF0LWlzLW9wZW5wYWdlcmFua9gbg2xKdWxpYS9TeW1ib2xRN0pMCAQAAAABB29waW5pb26AeKZUaGlzIGRvbWFpbiBoYXMgYmVlbiByYW5rZWQgOTkgb2YgMTAgbWlsbGlvbiB3aXRoIE9wZW4gUGFnZVJhbmsgNy45My4KClNvdXJjZTogaHR0cHM6Ly93d3cuZG9tY29wLmNvbS9vcGVucGFnZXJhbmsvd2hhdC1pcy1vcGVucGFnZXJhbmssIHJldHJpZXZlZCBvbiAyOSBOb3ZlbWJlciAyMDE52BuDbEp1bGlhL1N5bWJvbE03SkwIBAAAAAEDc3VigG9odHRwczovL2libS5jb23YG4NsSnVsaWEvU3ltYm9sTTdKTAgEAAAAAQNpYXSAajE1NzgwNDc4ODU\\\"}\"                         \n",
       " \"{\\\"signature\\\":\\\"WDB4seMlIbdBVf-aQvl3NBZ6_UQlFtd4KkteQwZs39qxTrpA9UhfyPKgZvOD2CIYc7E\\\",\\\"payload\\\":\\\"pNgbg2xKdWxpYS9TeW1ib2xSN0pMCAQAAAABCG1ldGFkYXRhgKPYG4NsSnVsaWEvU3ltYm9sVjdKTAgEAAAAAQxkaXNwbGF5X25hbWWAbE1hbmdyb3ZlIEJvdNgbg2xKdWxpYS9TeW1ib2xWN0pMCAQAAAABDGlzX2dlbmVyYXRlZID12BuDbEp1bGlhL1N5bWJvbFU3SkwIBAAAAAELZGF0YV9zb3VyY2WAeDhodHRwczovL3d3dy5kb21jb3AuY29tL29wZW5wYWdlcmFuay93aGF0LWlzLW9wZW5wYWdlcmFua9gbg2xKdWxpYS9TeW1ib2xRN0pMCAQAAAABB29waW5pb26AeKdUaGlzIGRvbWFpbiBoYXMgYmVlbiByYW5rZWQgMTAwIG9mIDEwIG1pbGxpb24gd2l0aCBPcGVuIFBhZ2VSYW5rIDcuOTMuCgpTb3VyY2U6IGh0dHBzOi8vd3d3LmRvbWNvcC5jb20vb3BlbnBhZ2VyYW5rL3doYXQtaXMtb3BlbnBhZ2VyYW5rLCByZXRyaWV2ZWQgb24gMjkgTm92ZW1iZXIgMjAxOdgbg2xKdWxpYS9TeW1ib2xNN0pMCAQAAAABA3N1YoBvaHR0cHM6Ly90ZWQuY29t2BuDbEp1bGlhL1N5bWJvbE03SkwIBAAAAAEDaWF0gGoxNTc4MDQ3ODg1\\\"}\"                        "
      ]
     },
     "execution_count": 94,
     "metadata": {},
     "output_type": "execute_result"
    }
   ],
   "source": [
    "using JSON\n",
    "reviews = map((sig, pl) -> Dict(\"signature\" => sig, \"payload\" => pl) |> json, encoded_signatures, encoded_payloads)"
   ]
  },
  {
   "cell_type": "code",
   "execution_count": null,
   "metadata": {},
   "outputs": [],
   "source": []
  }
 ],
 "metadata": {
  "@webio": {
   "lastCommId": null,
   "lastKernelId": null
  },
  "kernelspec": {
   "display_name": "Julia 1.3.0-rc4",
   "language": "julia",
   "name": "julia-1.3"
  },
  "language_info": {
   "file_extension": ".jl",
   "mimetype": "application/julia",
   "name": "julia",
   "version": "1.3.0"
  }
 },
 "nbformat": 4,
 "nbformat_minor": 2
}
