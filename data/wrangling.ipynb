{
 "cells": [
  {
   "cell_type": "code",
   "execution_count": 2,
   "metadata": {},
   "outputs": [],
   "source": [
    "using DelimitedFiles, Printf"
   ]
  },
  {
   "cell_type": "code",
   "execution_count": 3,
   "metadata": {},
   "outputs": [
    {
     "data": {
      "text/plain": [
       "10000000×3 Array{Any,2}:\n",
       "        1  \"fonts.googleapis.com\"           10.0 \n",
       "        2  \"facebook.com\"                   10.0 \n",
       "        3  \"twitter.com\"                    10.0 \n",
       "        4  \"google.com\"                     10.0 \n",
       "        5  \"youtube.com\"                    10.0 \n",
       "        6  \"instagram.com\"                  10.0 \n",
       "        7  \"s.w.org\"                        10.0 \n",
       "        8  \"ajax.googleapis.com\"            10.0 \n",
       "        9  \"linkedin.com\"                   10.0 \n",
       "       10  \"googletagmanager.com\"           10.0 \n",
       "       11  \"plus.google.com\"                10.0 \n",
       "       12  \"gmpg.org\"                       10.0 \n",
       "       13  \"pinterest.com\"                   9.59\n",
       "        ⋮                                        \n",
       "  9999989  \"buytoradol.doctor\"               2.89\n",
       "  9999990  \"neurinox.eu\"                     2.89\n",
       "  9999991  \"lue.fi\"                          2.89\n",
       "  9999992  \"clickschool.co.uk\"               2.89\n",
       "  9999993  \"power-link.ugent.be\"             2.89\n",
       "  9999994  \"arrowheadpublishers.com\"         2.89\n",
       "  9999995  \"cunydsigallery.eventbrite.com\"   2.89\n",
       "  9999996  \"gorgeadventuresandsupply.com\"    2.89\n",
       "  9999997  \"tuttomanciano.com\"               2.89\n",
       "  9999998  \"biggestintheworld.org\"           2.89\n",
       "  9999999  \"markmaxwellmusic.com\"            2.89\n",
       " 10000000  \"oaklandgasprices.com\"            2.89"
      ]
     },
     "execution_count": 3,
     "metadata": {},
     "output_type": "execute_result"
    }
   ],
   "source": [
    "domains = readdlm(\"top10milliondomains.csv\", ','; header=true)[1]"
   ]
  },
  {
   "cell_type": "code",
   "execution_count": 4,
   "metadata": {},
   "outputs": [
    {
     "data": {
      "text/plain": [
       "Dict{Symbol,Any} with 2 entries:\n",
       "  :metadata => Dict{Symbol,Any}(:display_name=>\"Mangrove Bot\",:is_generated=>tr…\n",
       "  :iat      => \"1577021799\""
      ]
     },
     "execution_count": 4,
     "metadata": {},
     "output_type": "execute_result"
    }
   ],
   "source": [
    "base_payload = Dict(:iat => @sprintf(\"%.0f\",time()), :metadata => Dict(\n",
    "    :display_name => \"Mangrove Bot\",\n",
    "    :data_source => \"https://www.domcop.com/openpagerank/what-is-openpagerank\",\n",
    "    :is_generated => true\n",
    "))"
   ]
  },
  {
   "cell_type": "code",
   "execution_count": 7,
   "metadata": {},
   "outputs": [
    {
     "data": {
      "text/plain": [
       "fill_content (generic function with 1 method)"
      ]
     },
     "execution_count": 7,
     "metadata": {},
     "output_type": "execute_result"
    }
   ],
   "source": [
    "function fill_content(domains)\n",
    "  map(eachrow(domains)) do domain\n",
    "    review = copy(base_payload)\n",
    "    review[:sub] = string(\"https://\", domain[2])\n",
    "    review[:opinion] = \"This domain has been ranked $(domain[1]) of 10 million with Open PageRank $(domain[3]).\n",
    "\n",
    "Source: https://www.domcop.com/openpagerank/what-is-openpagerank, retrieved on 29 November 2019\"\n",
    "    review\n",
    "  end\n",
    "end"
   ]
  },
  {
   "cell_type": "code",
   "execution_count": 16,
   "metadata": {},
   "outputs": [],
   "source": [
    "using JSON"
   ]
  },
  {
   "cell_type": "code",
   "execution_count": 17,
   "metadata": {},
   "outputs": [],
   "source": [
    "test_payloads = map(json, fill_content(domains[1:100, :]));"
   ]
  },
  {
   "cell_type": "code",
   "execution_count": 18,
   "metadata": {},
   "outputs": [
    {
     "name": "stdout",
     "output_type": "stream",
     "text": [
      "{\"metadata\":{\"display_name\":\"Mangrove Bot\",\"is_generated\":true,\"data_source\":\"https://www.domcop.com/openpagerank/what-is-openpagerank\"},\"opinion\":\"This domain has been ranked 1 of 10 million with Open PageRank 10.0.\\n\\nSource: https://www.domcop.com/openpagerank/what-is-openpagerank, retrieved on 29 November 2019\",\"sub\":\"https://fonts.googleapis.com\",\"iat\":\"1577021799\"}\n",
      "{\"metadata\":{\"display_name\":\"Mangrove Bot\",\"is_generated\":true,\"data_source\":\"https://www.domcop.com/openpagerank/what-is-openpagerank\"},\"opinion\":\"This domain has been ranked 2 of 10 million with Open PageRank 10.0.\\n\\nSource: https://www.domcop.com/openpagerank/what-is-openpagerank, retrieved on 29 November 2019\",\"sub\":\"https://facebook.com\",\"iat\":\"1577021799\"}\n",
      "{\"metadata\":{\"display_name\":\"Mangrove Bot\",\"is_generated\":true,\"data_source\":\"https://www.domcop.com/openpagerank/what-is-openpagerank\"},\"opinion\":\"This domain has been ranked 3 of 10 million with Open PageRank 10.0.\\n\\nSource: https://www.domcop.com/openpagerank/what-is-openpagerank, retrieved on 29 November 2019\",\"sub\":\"https://twitter.com\",\"iat\":\"1577021799\"}\n",
      "{\"metadata\":{\"display_name\":\"Mangrove Bot\",\"is_generated\":true,\"data_source\":\"https://www.domcop.com/openpagerank/what-is-openpagerank\"},\"opinion\":\"This domain has been ranked 4 of 10 million with Open PageRank 10.0.\\n\\nSource: https://www.domcop.com/openpagerank/what-is-openpagerank, retrieved on 29 November 2019\",\"sub\":\"https://google.com\",\"iat\":\"1577021799\"}\n",
      "{\"metadata\":{\"display_name\":\"Mangrove Bot\",\"is_generated\":true,\"data_source\":\"https://www.domcop.com/openpagerank/what-is-openpagerank\"},\"opinion\":\"This domain has been ranked 5 of 10 million with Open PageRank 10.0.\\n\\nSource: https://www.domcop.com/openpagerank/what-is-openpagerank, retrieved on 29 November 2019\",\"sub\":\"https://youtube.com\",\"iat\":\"1577021799\"}\n",
      "{\"metadata\":{\"display_name\":\"Mangrove Bot\",\"is_generated\":true,\"data_source\":\"https://www.domcop.com/openpagerank/what-is-openpagerank\"},\"opinion\":\"This domain has been ranked 6 of 10 million with Open PageRank 10.0.\\n\\nSource: https://www.domcop.com/openpagerank/what-is-openpagerank, retrieved on 29 November 2019\",\"sub\":\"https://instagram.com\",\"iat\":\"1577021799\"}\n",
      "{\"metadata\":{\"display_name\":\"Mangrove Bot\",\"is_generated\":true,\"data_source\":\"https://www.domcop.com/openpagerank/what-is-openpagerank\"},\"opinion\":\"This domain has been ranked 7 of 10 million with Open PageRank 10.0.\\n\\nSource: https://www.domcop.com/openpagerank/what-is-openpagerank, retrieved on 29 November 2019\",\"sub\":\"https://s.w.org\",\"iat\":\"1577021799\"}\n",
      "{\"metadata\":{\"display_name\":\"Mangrove Bot\",\"is_generated\":true,\"data_source\":\"https://www.domcop.com/openpagerank/what-is-openpagerank\"},\"opinion\":\"This domain has been ranked 8 of 10 million with Open PageRank 10.0.\\n\\nSource: https://www.domcop.com/openpagerank/what-is-openpagerank, retrieved on 29 November 2019\",\"sub\":\"https://ajax.googleapis.com\",\"iat\":\"1577021799\"}\n",
      "{\"metadata\":{\"display_name\":\"Mangrove Bot\",\"is_generated\":true,\"data_source\":\"https://www.domcop.com/openpagerank/what-is-openpagerank\"},\"opinion\":\"This domain has been ranked 9 of 10 million with Open PageRank 10.0.\\n\\nSource: https://www.domcop.com/openpagerank/what-is-openpagerank, retrieved on 29 November 2019\",\"sub\":\"https://linkedin.com\",\"iat\":\"1577021799\"}\n",
      "{\"metadata\":{\"display_name\":\"Mangrove Bot\",\"is_generated\":true,\"data_source\":\"https://www.domcop.com/openpagerank/what-is-openpagerank\"},\"opinion\":\"This domain has been ranked 10 of 10 million with Open PageRank 10.0.\\n\\nSource: https://www.domcop.com/openpagerank/what-is-openpagerank, retrieved on 29 November 2019\",\"sub\":\"https://googletagmanager.com\",\"iat\":\"1577021799\"}\n",
      "{\"metadata\":{\"display_name\":\"Mangrove Bot\",\"is_generated\":true,\"data_source\":\"https://www.domcop.com/openpagerank/what-is-openpagerank\"},\"opinion\":\"This domain has been ranked 11 of 10 million with Open PageRank 10.0.\\n\\nSource: https://www.domcop.com/openpagerank/what-is-openpagerank, retrieved on 29 November 2019\",\"sub\":\"https://plus.google.com\",\"iat\":\"1577021799\"}\n",
      "{\"metadata\":{\"display_name\":\"Mangrove Bot\",\"is_generated\":true,\"data_source\":\"https://www.domcop.com/openpagerank/what-is-openpagerank\"},\"opinion\":\"This domain has been ranked 12 of 10 million with Open PageRank 10.0.\\n\\nSource: https://www.domcop.com/openpagerank/what-is-openpagerank, retrieved on 29 November 2019\",\"sub\":\"https://gmpg.org\",\"iat\":\"1577021799\"}\n",
      "{\"metadata\":{\"display_name\":\"Mangrove Bot\",\"is_generated\":true,\"data_source\":\"https://www.domcop.com/openpagerank/what-is-openpagerank\"},\"opinion\":\"This domain has been ranked 13 of 10 million with Open PageRank 9.59.\\n\\nSource: https://www.domcop.com/openpagerank/what-is-openpagerank, retrieved on 29 November 2019\",\"sub\":\"https://pinterest.com\",\"iat\":\"1577021799\"}\n",
      "{\"metadata\":{\"display_name\":\"Mangrove Bot\",\"is_generated\":true,\"data_source\":\"https://www.domcop.com/openpagerank/what-is-openpagerank\"},\"opinion\":\"This domain has been ranked 14 of 10 million with Open PageRank 9.53.\\n\\nSource: https://www.domcop.com/openpagerank/what-is-openpagerank, retrieved on 29 November 2019\",\"sub\":\"https://maps.google.com\",\"iat\":\"1577021799\"}\n",
      "{\"metadata\":{\"display_name\":\"Mangrove Bot\",\"is_generated\":true,\"data_source\":\"https://www.domcop.com/openpagerank/what-is-openpagerank\"},\"opinion\":\"This domain has been ranked 15 of 10 million with Open PageRank 9.38.\\n\\nSource: https://www.domcop.com/openpagerank/what-is-openpagerank, retrieved on 29 November 2019\",\"sub\":\"https://itunes.apple.com\",\"iat\":\"1577021799\"}\n",
      "{\"metadata\":{\"display_name\":\"Mangrove Bot\",\"is_generated\":true,\"data_source\":\"https://www.domcop.com/openpagerank/what-is-openpagerank\"},\"opinion\":\"This domain has been ranked 16 of 10 million with Open PageRank 9.35.\\n\\nSource: https://www.domcop.com/openpagerank/what-is-openpagerank, retrieved on 29 November 2019\",\"sub\":\"https://wordpress.org\",\"iat\":\"1577021799\"}\n",
      "{\"metadata\":{\"display_name\":\"Mangrove Bot\",\"is_generated\":true,\"data_source\":\"https://www.domcop.com/openpagerank/what-is-openpagerank\"},\"opinion\":\"This domain has been ranked 17 of 10 million with Open PageRank 9.33.\\n\\nSource: https://www.domcop.com/openpagerank/what-is-openpagerank, retrieved on 29 November 2019\",\"sub\":\"https://youtu.be\",\"iat\":\"1577021799\"}\n",
      "{\"metadata\":{\"display_name\":\"Mangrove Bot\",\"is_generated\":true,\"data_source\":\"https://www.domcop.com/openpagerank/what-is-openpagerank\"},\"opinion\":\"This domain has been ranked 18 of 10 million with Open PageRank 9.32.\\n\\nSource: https://www.domcop.com/openpagerank/what-is-openpagerank, retrieved on 29 November 2019\",\"sub\":\"https://en.wikipedia.org\",\"iat\":\"1577021799\"}\n",
      "{\"metadata\":{\"display_name\":\"Mangrove Bot\",\"is_generated\":true,\"data_source\":\"https://www.domcop.com/openpagerank/what-is-openpagerank\"},\"opinion\":\"This domain has been ranked 19 of 10 million with Open PageRank 9.26.\\n\\nSource: https://www.domcop.com/openpagerank/what-is-openpagerank, retrieved on 29 November 2019\",\"sub\":\"https://bit.ly\",\"iat\":\"1577021799\"}\n",
      "{\"metadata\":{\"display_name\":\"Mangrove Bot\",\"is_generated\":true,\"data_source\":\"https://www.domcop.com/openpagerank/what-is-openpagerank\"},\"opinion\":\"This domain has been ranked 20 of 10 million with Open PageRank 9.2.\\n\\nSource: https://www.domcop.com/openpagerank/what-is-openpagerank, retrieved on 29 November 2019\",\"sub\":\"https://play.google.com\",\"iat\":\"1577021799\"}\n",
      "{\"metadata\":{\"display_name\":\"Mangrove Bot\",\"is_generated\":true,\"data_source\":\"https://www.domcop.com/openpagerank/what-is-openpagerank\"},\"opinion\":\"This domain has been ranked 21 of 10 million with Open PageRank 9.14.\\n\\nSource: https://www.domcop.com/openpagerank/what-is-openpagerank, retrieved on 29 November 2019\",\"sub\":\"https://flickr.com\",\"iat\":\"1577021799\"}\n",
      "{\"metadata\":{\"display_name\":\"Mangrove Bot\",\"is_generated\":true,\"data_source\":\"https://www.domcop.com/openpagerank/what-is-openpagerank\"},\"opinion\":\"This domain has been ranked 22 of 10 million with Open PageRank 9.12.\\n\\nSource: https://www.domcop.com/openpagerank/what-is-openpagerank, retrieved on 29 November 2019\",\"sub\":\"https://amazon.com\",\"iat\":\"1577021799\"}\n",
      "{\"metadata\":{\"display_name\":\"Mangrove Bot\",\"is_generated\":true,\"data_source\":\"https://www.domcop.com/openpagerank/what-is-openpagerank\"},\"opinion\":\"This domain has been ranked 23 of 10 million with Open PageRank 9.1.\\n\\nSource: https://www.domcop.com/openpagerank/what-is-openpagerank, retrieved on 29 November 2019\",\"sub\":\"https://github.com\",\"iat\":\"1577021799\"}\n",
      "{\"metadata\":{\"display_name\":\"Mangrove Bot\",\"is_generated\":true,\"data_source\":\"https://www.domcop.com/openpagerank/what-is-openpagerank\"},\"opinion\":\"This domain has been ranked 24 of 10 million with Open PageRank 9.07.\\n\\nSource: https://www.domcop.com/openpagerank/what-is-openpagerank, retrieved on 29 November 2019\",\"sub\":\"https://support.google.com\",\"iat\":\"1577021799\"}\n",
      "{\"metadata\":{\"display_name\":\"Mangrove Bot\",\"is_generated\":true,\"data_source\":\"https://www.domcop.com/openpagerank/what-is-openpagerank\"},\"opinion\":\"This domain has been ranked 25 of 10 million with Open PageRank 9.07.\\n\\nSource: https://www.domcop.com/openpagerank/what-is-openpagerank, retrieved on 29 November 2019\",\"sub\":\"https://docs.google.com\",\"iat\":\"1577021799\"}\n",
      "{\"metadata\":{\"display_name\":\"Mangrove Bot\",\"is_generated\":true,\"data_source\":\"https://www.domcop.com/openpagerank/what-is-openpagerank\"},\"opinion\":\"This domain has been ranked 26 of 10 million with Open PageRank 9.05.\\n\\nSource: https://www.domcop.com/openpagerank/what-is-openpagerank, retrieved on 29 November 2019\",\"sub\":\"https://maps.googleapis.com\",\"iat\":\"1577021799\"}\n",
      "{\"metadata\":{\"display_name\":\"Mangrove Bot\",\"is_generated\":true,\"data_source\":\"https://www.domcop.com/openpagerank/what-is-openpagerank\"},\"opinion\":\"This domain has been ranked 27 of 10 million with Open PageRank 9.03.\\n\\nSource: https://www.domcop.com/openpagerank/what-is-openpagerank, retrieved on 29 November 2019\",\"sub\":\"https://goo.gl\",\"iat\":\"1577021799\"}\n",
      "{\"metadata\":{\"display_name\":\"Mangrove Bot\",\"is_generated\":true,\"data_source\":\"https://www.domcop.com/openpagerank/what-is-openpagerank\"},\"opinion\":\"This domain has been ranked 28 of 10 million with Open PageRank 8.88.\\n\\nSource: https://www.domcop.com/openpagerank/what-is-openpagerank, retrieved on 29 November 2019\",\"sub\":\"https://vimeo.com\",\"iat\":\"1577021799\"}\n"
     ]
    },
    {
     "name": "stdout",
     "output_type": "stream",
     "text": [
      "{\"metadata\":{\"display_name\":\"Mangrove Bot\",\"is_generated\":true,\"data_source\":\"https://www.domcop.com/openpagerank/what-is-openpagerank\"},\"opinion\":\"This domain has been ranked 29 of 10 million with Open PageRank 8.85.\\n\\nSource: https://www.domcop.com/openpagerank/what-is-openpagerank, retrieved on 29 November 2019\",\"sub\":\"https://cdnjs.cloudflare.com\",\"iat\":\"1577021799\"}\n",
      "{\"metadata\":{\"display_name\":\"Mangrove Bot\",\"is_generated\":true,\"data_source\":\"https://www.domcop.com/openpagerank/what-is-openpagerank\"},\"opinion\":\"This domain has been ranked 30 of 10 million with Open PageRank 8.84.\\n\\nSource: https://www.domcop.com/openpagerank/what-is-openpagerank, retrieved on 29 November 2019\",\"sub\":\"https://s3.amazonaws.com\",\"iat\":\"1577021799\"}\n",
      "{\"metadata\":{\"display_name\":\"Mangrove Bot\",\"is_generated\":true,\"data_source\":\"https://www.domcop.com/openpagerank/what-is-openpagerank\"},\"opinion\":\"This domain has been ranked 31 of 10 million with Open PageRank 8.75.\\n\\nSource: https://www.domcop.com/openpagerank/what-is-openpagerank, retrieved on 29 November 2019\",\"sub\":\"https://apis.google.com\",\"iat\":\"1577021799\"}\n",
      "{\"metadata\":{\"display_name\":\"Mangrove Bot\",\"is_generated\":true,\"data_source\":\"https://www.domcop.com/openpagerank/what-is-openpagerank\"},\"opinion\":\"This domain has been ranked 32 of 10 million with Open PageRank 8.7.\\n\\nSource: https://www.domcop.com/openpagerank/what-is-openpagerank, retrieved on 29 November 2019\",\"sub\":\"https://google-analytics.com\",\"iat\":\"1577021799\"}\n",
      "{\"metadata\":{\"display_name\":\"Mangrove Bot\",\"is_generated\":true,\"data_source\":\"https://www.domcop.com/openpagerank/what-is-openpagerank\"},\"opinion\":\"This domain has been ranked 33 of 10 million with Open PageRank 8.62.\\n\\nSource: https://www.domcop.com/openpagerank/what-is-openpagerank, retrieved on 29 November 2019\",\"sub\":\"https://vk.com\",\"iat\":\"1577021799\"}\n",
      "{\"metadata\":{\"display_name\":\"Mangrove Bot\",\"is_generated\":true,\"data_source\":\"https://www.domcop.com/openpagerank/what-is-openpagerank\"},\"opinion\":\"This domain has been ranked 34 of 10 million with Open PageRank 8.62.\\n\\nSource: https://www.domcop.com/openpagerank/what-is-openpagerank, retrieved on 29 November 2019\",\"sub\":\"https://reddit.com\",\"iat\":\"1577021799\"}\n",
      "{\"metadata\":{\"display_name\":\"Mangrove Bot\",\"is_generated\":true,\"data_source\":\"https://www.domcop.com/openpagerank/what-is-openpagerank\"},\"opinion\":\"This domain has been ranked 35 of 10 million with Open PageRank 8.61.\\n\\nSource: https://www.domcop.com/openpagerank/what-is-openpagerank, retrieved on 29 November 2019\",\"sub\":\"https://blogger.com\",\"iat\":\"1577021799\"}\n",
      "{\"metadata\":{\"display_name\":\"Mangrove Bot\",\"is_generated\":true,\"data_source\":\"https://www.domcop.com/openpagerank/what-is-openpagerank\"},\"opinion\":\"This domain has been ranked 36 of 10 million with Open PageRank 8.6.\\n\\nSource: https://www.domcop.com/openpagerank/what-is-openpagerank, retrieved on 29 November 2019\",\"sub\":\"https://adobe.com\",\"iat\":\"1577021799\"}\n",
      "{\"metadata\":{\"display_name\":\"Mangrove Bot\",\"is_generated\":true,\"data_source\":\"https://www.domcop.com/openpagerank/what-is-openpagerank\"},\"opinion\":\"This domain has been ranked 37 of 10 million with Open PageRank 8.6.\\n\\nSource: https://www.domcop.com/openpagerank/what-is-openpagerank, retrieved on 29 November 2019\",\"sub\":\"https://wp.me\",\"iat\":\"1577021799\"}\n",
      "{\"metadata\":{\"display_name\":\"Mangrove Bot\",\"is_generated\":true,\"data_source\":\"https://www.domcop.com/openpagerank/what-is-openpagerank\"},\"opinion\":\"This domain has been ranked 38 of 10 million with Open PageRank 8.55.\\n\\nSource: https://www.domcop.com/openpagerank/what-is-openpagerank, retrieved on 29 November 2019\",\"sub\":\"https://drive.google.com\",\"iat\":\"1577021799\"}\n",
      "{\"metadata\":{\"display_name\":\"Mangrove Bot\",\"is_generated\":true,\"data_source\":\"https://www.domcop.com/openpagerank/what-is-openpagerank\"},\"opinion\":\"This domain has been ranked 39 of 10 million with Open PageRank 8.53.\\n\\nSource: https://www.domcop.com/openpagerank/what-is-openpagerank, retrieved on 29 November 2019\",\"sub\":\"https://dropbox.com\",\"iat\":\"1577021799\"}\n",
      "{\"metadata\":{\"display_name\":\"Mangrove Bot\",\"is_generated\":true,\"data_source\":\"https://www.domcop.com/openpagerank/what-is-openpagerank\"},\"opinion\":\"This domain has been ranked 40 of 10 million with Open PageRank 8.52.\\n\\nSource: https://www.domcop.com/openpagerank/what-is-openpagerank, retrieved on 29 November 2019\",\"sub\":\"https://nytimes.com\",\"iat\":\"1577021799\"}\n",
      "{\"metadata\":{\"display_name\":\"Mangrove Bot\",\"is_generated\":true,\"data_source\":\"https://www.domcop.com/openpagerank/what-is-openpagerank\"},\"opinion\":\"This domain has been ranked 41 of 10 million with Open PageRank 8.51.\\n\\nSource: https://www.domcop.com/openpagerank/what-is-openpagerank, retrieved on 29 November 2019\",\"sub\":\"https://apple.com\",\"iat\":\"1577021799\"}\n",
      "{\"metadata\":{\"display_name\":\"Mangrove Bot\",\"is_generated\":true,\"data_source\":\"https://www.domcop.com/openpagerank/what-is-openpagerank\"},\"opinion\":\"This domain has been ranked 42 of 10 million with Open PageRank 8.5.\\n\\nSource: https://www.domcop.com/openpagerank/what-is-openpagerank, retrieved on 29 November 2019\",\"sub\":\"https://microsoft.com\",\"iat\":\"1577021799\"}\n",
      "{\"metadata\":{\"display_name\":\"Mangrove Bot\",\"is_generated\":true,\"data_source\":\"https://www.domcop.com/openpagerank/what-is-openpagerank\"},\"opinion\":\"This domain has been ranked 43 of 10 million with Open PageRank 8.5.\\n\\nSource: https://www.domcop.com/openpagerank/what-is-openpagerank, retrieved on 29 November 2019\",\"sub\":\"https://t.co\",\"iat\":\"1577021799\"}\n",
      "{\"metadata\":{\"display_name\":\"Mangrove Bot\",\"is_generated\":true,\"data_source\":\"https://www.domcop.com/openpagerank/what-is-openpagerank\"},\"opinion\":\"This domain has been ranked 44 of 10 million with Open PageRank 8.48.\\n\\nSource: https://www.domcop.com/openpagerank/what-is-openpagerank, retrieved on 29 November 2019\",\"sub\":\"https://developers.google.com\",\"iat\":\"1577021799\"}\n",
      "{\"metadata\":{\"display_name\":\"Mangrove Bot\",\"is_generated\":true,\"data_source\":\"https://www.domcop.com/openpagerank/what-is-openpagerank\"},\"opinion\":\"This domain has been ranked 45 of 10 million with Open PageRank 8.46.\\n\\nSource: https://www.domcop.com/openpagerank/what-is-openpagerank, retrieved on 29 November 2019\",\"sub\":\"https://lh3.googleusercontent.com\",\"iat\":\"1577021799\"}\n",
      "{\"metadata\":{\"display_name\":\"Mangrove Bot\",\"is_generated\":true,\"data_source\":\"https://www.domcop.com/openpagerank/what-is-openpagerank\"},\"opinion\":\"This domain has been ranked 46 of 10 million with Open PageRank 8.44.\\n\\nSource: https://www.domcop.com/openpagerank/what-is-openpagerank, retrieved on 29 November 2019\",\"sub\":\"https://sites.google.com\",\"iat\":\"1577021799\"}\n",
      "{\"metadata\":{\"display_name\":\"Mangrove Bot\",\"is_generated\":true,\"data_source\":\"https://www.domcop.com/openpagerank/what-is-openpagerank\"},\"opinion\":\"This domain has been ranked 47 of 10 million with Open PageRank 8.43.\\n\\nSource: https://www.domcop.com/openpagerank/what-is-openpagerank, retrieved on 29 November 2019\",\"sub\":\"https://ec.europa.eu\",\"iat\":\"1577021799\"}\n",
      "{\"metadata\":{\"display_name\":\"Mangrove Bot\",\"is_generated\":true,\"data_source\":\"https://www.domcop.com/openpagerank/what-is-openpagerank\"},\"opinion\":\"This domain has been ranked 48 of 10 million with Open PageRank 8.41.\\n\\nSource: https://www.domcop.com/openpagerank/what-is-openpagerank, retrieved on 29 November 2019\",\"sub\":\"https://m.facebook.com\",\"iat\":\"1577021799\"}\n",
      "{\"metadata\":{\"display_name\":\"Mangrove Bot\",\"is_generated\":true,\"data_source\":\"https://www.domcop.com/openpagerank/what-is-openpagerank\"},\"opinion\":\"This domain has been ranked 49 of 10 million with Open PageRank 8.4.\\n\\nSource: https://www.domcop.com/openpagerank/what-is-openpagerank, retrieved on 29 November 2019\",\"sub\":\"https://paypal.com\",\"iat\":\"1577021799\"}\n",
      "{\"metadata\":{\"display_name\":\"Mangrove Bot\",\"is_generated\":true,\"data_source\":\"https://www.domcop.com/openpagerank/what-is-openpagerank\"},\"opinion\":\"This domain has been ranked 50 of 10 million with Open PageRank 8.4.\\n\\nSource: https://www.domcop.com/openpagerank/what-is-openpagerank, retrieved on 29 November 2019\",\"sub\":\"https://creativecommons.org\",\"iat\":\"1577021799\"}\n",
      "{\"metadata\":{\"display_name\":\"Mangrove Bot\",\"is_generated\":true,\"data_source\":\"https://www.domcop.com/openpagerank/what-is-openpagerank\"},\"opinion\":\"This domain has been ranked 51 of 10 million with Open PageRank 8.38.\\n\\nSource: https://www.domcop.com/openpagerank/what-is-openpagerank, retrieved on 29 November 2019\",\"sub\":\"https://medium.com\",\"iat\":\"1577021799\"}\n",
      "{\"metadata\":{\"display_name\":\"Mangrove Bot\",\"is_generated\":true,\"data_source\":\"https://www.domcop.com/openpagerank/what-is-openpagerank\"},\"opinion\":\"This domain has been ranked 52 of 10 million with Open PageRank 8.37.\\n\\nSource: https://www.domcop.com/openpagerank/what-is-openpagerank, retrieved on 29 November 2019\",\"sub\":\"https://i.imgur.com\",\"iat\":\"1577021799\"}\n",
      "{\"metadata\":{\"display_name\":\"Mangrove Bot\",\"is_generated\":true,\"data_source\":\"https://www.domcop.com/openpagerank/what-is-openpagerank\"},\"opinion\":\"This domain has been ranked 53 of 10 million with Open PageRank 8.34.\\n\\nSource: https://www.domcop.com/openpagerank/what-is-openpagerank, retrieved on 29 November 2019\",\"sub\":\"https://soundcloud.com\",\"iat\":\"1577021799\"}\n",
      "{\"metadata\":{\"display_name\":\"Mangrove Bot\",\"is_generated\":true,\"data_source\":\"https://www.domcop.com/openpagerank/what-is-openpagerank\"},\"opinion\":\"This domain has been ranked 54 of 10 million with Open PageRank 8.3.\\n\\nSource: https://www.domcop.com/openpagerank/what-is-openpagerank, retrieved on 29 November 2019\",\"sub\":\"https://tumblr.com\",\"iat\":\"1577021799\"}\n",
      "{\"metadata\":{\"display_name\":\"Mangrove Bot\",\"is_generated\":true,\"data_source\":\"https://www.domcop.com/openpagerank/what-is-openpagerank\"},\"opinion\":\"This domain has been ranked 55 of 10 million with Open PageRank 8.28.\\n\\nSource: https://www.domcop.com/openpagerank/what-is-openpagerank, retrieved on 29 November 2019\",\"sub\":\"https://translate.google.com\",\"iat\":\"1577021799\"}\n",
      "{\"metadata\":{\"display_name\":\"Mangrove Bot\",\"is_generated\":true,\"data_source\":\"https://www.domcop.com/openpagerank/what-is-openpagerank\"},\"opinion\":\"This domain has been ranked 56 of 10 million with Open PageRank 8.27.\\n\\nSource: https://www.domcop.com/openpagerank/what-is-openpagerank, retrieved on 29 November 2019\",\"sub\":\"https://theguardian.com\",\"iat\":\"1577021799\"}\n"
     ]
    },
    {
     "name": "stdout",
     "output_type": "stream",
     "text": [
      "{\"metadata\":{\"display_name\":\"Mangrove Bot\",\"is_generated\":true,\"data_source\":\"https://www.domcop.com/openpagerank/what-is-openpagerank\"},\"opinion\":\"This domain has been ranked 57 of 10 million with Open PageRank 8.27.\\n\\nSource: https://www.domcop.com/openpagerank/what-is-openpagerank, retrieved on 29 November 2019\",\"sub\":\"https://support.apple.com\",\"iat\":\"1577021799\"}\n",
      "{\"metadata\":{\"display_name\":\"Mangrove Bot\",\"is_generated\":true,\"data_source\":\"https://www.domcop.com/openpagerank/what-is-openpagerank\"},\"opinion\":\"This domain has been ranked 58 of 10 million with Open PageRank 8.26.\\n\\nSource: https://www.domcop.com/openpagerank/what-is-openpagerank, retrieved on 29 November 2019\",\"sub\":\"https://1.bp.blogspot.com\",\"iat\":\"1577021799\"}\n",
      "{\"metadata\":{\"display_name\":\"Mangrove Bot\",\"is_generated\":true,\"data_source\":\"https://www.domcop.com/openpagerank/what-is-openpagerank\"},\"opinion\":\"This domain has been ranked 59 of 10 million with Open PageRank 8.26.\\n\\nSource: https://www.domcop.com/openpagerank/what-is-openpagerank, retrieved on 29 November 2019\",\"sub\":\"https://wordpress.com\",\"iat\":\"1577021799\"}\n",
      "{\"metadata\":{\"display_name\":\"Mangrove Bot\",\"is_generated\":true,\"data_source\":\"https://www.domcop.com/openpagerank/what-is-openpagerank\"},\"opinion\":\"This domain has been ranked 60 of 10 million with Open PageRank 8.26.\\n\\nSource: https://www.domcop.com/openpagerank/what-is-openpagerank, retrieved on 29 November 2019\",\"sub\":\"https://techcrunch.com\",\"iat\":\"1577021799\"}\n",
      "{\"metadata\":{\"display_name\":\"Mangrove Bot\",\"is_generated\":true,\"data_source\":\"https://www.domcop.com/openpagerank/what-is-openpagerank\"},\"opinion\":\"This domain has been ranked 61 of 10 million with Open PageRank 8.24.\\n\\nSource: https://www.domcop.com/openpagerank/what-is-openpagerank, retrieved on 29 November 2019\",\"sub\":\"https://upload.wikimedia.org\",\"iat\":\"1577021799\"}\n",
      "{\"metadata\":{\"display_name\":\"Mangrove Bot\",\"is_generated\":true,\"data_source\":\"https://www.domcop.com/openpagerank/what-is-openpagerank\"},\"opinion\":\"This domain has been ranked 62 of 10 million with Open PageRank 8.21.\\n\\nSource: https://www.domcop.com/openpagerank/what-is-openpagerank, retrieved on 29 November 2019\",\"sub\":\"https://wired.com\",\"iat\":\"1577021799\"}\n",
      "{\"metadata\":{\"display_name\":\"Mangrove Bot\",\"is_generated\":true,\"data_source\":\"https://www.domcop.com/openpagerank/what-is-openpagerank\"},\"opinion\":\"This domain has been ranked 63 of 10 million with Open PageRank 8.2.\\n\\nSource: https://www.domcop.com/openpagerank/what-is-openpagerank, retrieved on 29 November 2019\",\"sub\":\"https://forbes.com\",\"iat\":\"1577021799\"}\n",
      "{\"metadata\":{\"display_name\":\"Mangrove Bot\",\"is_generated\":true,\"data_source\":\"https://www.domcop.com/openpagerank/what-is-openpagerank\"},\"opinion\":\"This domain has been ranked 64 of 10 million with Open PageRank 8.19.\\n\\nSource: https://www.domcop.com/openpagerank/what-is-openpagerank, retrieved on 29 November 2019\",\"sub\":\"https://support.microsoft.com\",\"iat\":\"1577021799\"}\n",
      "{\"metadata\":{\"display_name\":\"Mangrove Bot\",\"is_generated\":true,\"data_source\":\"https://www.domcop.com/openpagerank/what-is-openpagerank\"},\"opinion\":\"This domain has been ranked 65 of 10 million with Open PageRank 8.19.\\n\\nSource: https://www.domcop.com/openpagerank/what-is-openpagerank, retrieved on 29 November 2019\",\"sub\":\"https://bbc.co.uk\",\"iat\":\"1577021799\"}\n",
      "{\"metadata\":{\"display_name\":\"Mangrove Bot\",\"is_generated\":true,\"data_source\":\"https://www.domcop.com/openpagerank/what-is-openpagerank\"},\"opinion\":\"This domain has been ranked 66 of 10 million with Open PageRank 8.18.\\n\\nSource: https://www.domcop.com/openpagerank/what-is-openpagerank, retrieved on 29 November 2019\",\"sub\":\"https://commons.wikimedia.org\",\"iat\":\"1577021799\"}\n",
      "{\"metadata\":{\"display_name\":\"Mangrove Bot\",\"is_generated\":true,\"data_source\":\"https://www.domcop.com/openpagerank/what-is-openpagerank\"},\"opinion\":\"This domain has been ranked 67 of 10 million with Open PageRank 8.15.\\n\\nSource: https://www.domcop.com/openpagerank/what-is-openpagerank, retrieved on 29 November 2019\",\"sub\":\"https://huffingtonpost.com\",\"iat\":\"1577021799\"}\n",
      "{\"metadata\":{\"display_name\":\"Mangrove Bot\",\"is_generated\":true,\"data_source\":\"https://www.domcop.com/openpagerank/what-is-openpagerank\"},\"opinion\":\"This domain has been ranked 68 of 10 million with Open PageRank 8.15.\\n\\nSource: https://www.domcop.com/openpagerank/what-is-openpagerank, retrieved on 29 November 2019\",\"sub\":\"https://tripadvisor.com\",\"iat\":\"1577021799\"}\n",
      "{\"metadata\":{\"display_name\":\"Mangrove Bot\",\"is_generated\":true,\"data_source\":\"https://www.domcop.com/openpagerank/what-is-openpagerank\"},\"opinion\":\"This domain has been ranked 69 of 10 million with Open PageRank 8.14.\\n\\nSource: https://www.domcop.com/openpagerank/what-is-openpagerank, retrieved on 29 November 2019\",\"sub\":\"https://behance.net\",\"iat\":\"1577021799\"}\n",
      "{\"metadata\":{\"display_name\":\"Mangrove Bot\",\"is_generated\":true,\"data_source\":\"https://www.domcop.com/openpagerank/what-is-openpagerank\"},\"opinion\":\"This domain has been ranked 70 of 10 million with Open PageRank 8.12.\\n\\nSource: https://www.domcop.com/openpagerank/what-is-openpagerank, retrieved on 29 November 2019\",\"sub\":\"https://w3.org\",\"iat\":\"1577021799\"}\n",
      "{\"metadata\":{\"display_name\":\"Mangrove Bot\",\"is_generated\":true,\"data_source\":\"https://www.domcop.com/openpagerank/what-is-openpagerank\"},\"opinion\":\"This domain has been ranked 71 of 10 million with Open PageRank 8.12.\\n\\nSource: https://www.domcop.com/openpagerank/what-is-openpagerank, retrieved on 29 November 2019\",\"sub\":\"https://tinyurl.com\",\"iat\":\"1577021799\"}\n",
      "{\"metadata\":{\"display_name\":\"Mangrove Bot\",\"is_generated\":true,\"data_source\":\"https://www.domcop.com/openpagerank/what-is-openpagerank\"},\"opinion\":\"This domain has been ranked 72 of 10 million with Open PageRank 8.11.\\n\\nSource: https://www.domcop.com/openpagerank/what-is-openpagerank, retrieved on 29 November 2019\",\"sub\":\"https://lh5.googleusercontent.com\",\"iat\":\"1577021799\"}\n",
      "{\"metadata\":{\"display_name\":\"Mangrove Bot\",\"is_generated\":true,\"data_source\":\"https://www.domcop.com/openpagerank/what-is-openpagerank\"},\"opinion\":\"This domain has been ranked 73 of 10 million with Open PageRank 8.09.\\n\\nSource: https://www.domcop.com/openpagerank/what-is-openpagerank, retrieved on 29 November 2019\",\"sub\":\"https://cnn.com\",\"iat\":\"1577021799\"}\n",
      "{\"metadata\":{\"display_name\":\"Mangrove Bot\",\"is_generated\":true,\"data_source\":\"https://www.domcop.com/openpagerank/what-is-openpagerank\"},\"opinion\":\"This domain has been ranked 74 of 10 million with Open PageRank 8.09.\\n\\nSource: https://www.domcop.com/openpagerank/what-is-openpagerank, retrieved on 29 November 2019\",\"sub\":\"https://issuu.com\",\"iat\":\"1577021799\"}\n",
      "{\"metadata\":{\"display_name\":\"Mangrove Bot\",\"is_generated\":true,\"data_source\":\"https://www.domcop.com/openpagerank/what-is-openpagerank\"},\"opinion\":\"This domain has been ranked 75 of 10 million with Open PageRank 8.08.\\n\\nSource: https://www.domcop.com/openpagerank/what-is-openpagerank, retrieved on 29 November 2019\",\"sub\":\"https://slideshare.net\",\"iat\":\"1577021799\"}\n",
      "{\"metadata\":{\"display_name\":\"Mangrove Bot\",\"is_generated\":true,\"data_source\":\"https://www.domcop.com/openpagerank/what-is-openpagerank\"},\"opinion\":\"This domain has been ranked 76 of 10 million with Open PageRank 8.08.\\n\\nSource: https://www.domcop.com/openpagerank/what-is-openpagerank, retrieved on 29 November 2019\",\"sub\":\"https://web.archive.org\",\"iat\":\"1577021799\"}\n",
      "{\"metadata\":{\"display_name\":\"Mangrove Bot\",\"is_generated\":true,\"data_source\":\"https://www.domcop.com/openpagerank/what-is-openpagerank\"},\"opinion\":\"This domain has been ranked 77 of 10 million with Open PageRank 8.07.\\n\\nSource: https://www.domcop.com/openpagerank/what-is-openpagerank, retrieved on 29 November 2019\",\"sub\":\"https://code.google.com\",\"iat\":\"1577021799\"}\n",
      "{\"metadata\":{\"display_name\":\"Mangrove Bot\",\"is_generated\":true,\"data_source\":\"https://www.domcop.com/openpagerank/what-is-openpagerank\"},\"opinion\":\"This domain has been ranked 78 of 10 million with Open PageRank 8.06.\\n\\nSource: https://www.domcop.com/openpagerank/what-is-openpagerank, retrieved on 29 November 2019\",\"sub\":\"https://mashable.com\",\"iat\":\"1577021799\"}\n",
      "{\"metadata\":{\"display_name\":\"Mangrove Bot\",\"is_generated\":true,\"data_source\":\"https://www.domcop.com/openpagerank/what-is-openpagerank\"},\"opinion\":\"This domain has been ranked 79 of 10 million with Open PageRank 8.06.\\n\\nSource: https://www.domcop.com/openpagerank/what-is-openpagerank, retrieved on 29 November 2019\",\"sub\":\"https://amazon.co.uk\",\"iat\":\"1577021799\"}\n",
      "{\"metadata\":{\"display_name\":\"Mangrove Bot\",\"is_generated\":true,\"data_source\":\"https://www.domcop.com/openpagerank/what-is-openpagerank\"},\"opinion\":\"This domain has been ranked 80 of 10 million with Open PageRank 8.06.\\n\\nSource: https://www.domcop.com/openpagerank/what-is-openpagerank, retrieved on 29 November 2019\",\"sub\":\"https://businessinsider.com\",\"iat\":\"1577021799\"}\n",
      "{\"metadata\":{\"display_name\":\"Mangrove Bot\",\"is_generated\":true,\"data_source\":\"https://www.domcop.com/openpagerank/what-is-openpagerank\"},\"opinion\":\"This domain has been ranked 81 of 10 million with Open PageRank 8.05.\\n\\nSource: https://www.domcop.com/openpagerank/what-is-openpagerank, retrieved on 29 November 2019\",\"sub\":\"https://imdb.com\",\"iat\":\"1577021799\"}\n",
      "{\"metadata\":{\"display_name\":\"Mangrove Bot\",\"is_generated\":true,\"data_source\":\"https://www.domcop.com/openpagerank/what-is-openpagerank\"},\"opinion\":\"This domain has been ranked 82 of 10 million with Open PageRank 8.05.\\n\\nSource: https://www.domcop.com/openpagerank/what-is-openpagerank, retrieved on 29 November 2019\",\"sub\":\"https://washingtonpost.com\",\"iat\":\"1577021799\"}\n",
      "{\"metadata\":{\"display_name\":\"Mangrove Bot\",\"is_generated\":true,\"data_source\":\"https://www.domcop.com/openpagerank/what-is-openpagerank\"},\"opinion\":\"This domain has been ranked 83 of 10 million with Open PageRank 8.04.\\n\\nSource: https://www.domcop.com/openpagerank/what-is-openpagerank, retrieved on 29 November 2019\",\"sub\":\"https://eventbrite.com\",\"iat\":\"1577021799\"}\n",
      "{\"metadata\":{\"display_name\":\"Mangrove Bot\",\"is_generated\":true,\"data_source\":\"https://www.domcop.com/openpagerank/what-is-openpagerank\"},\"opinion\":\"This domain has been ranked 84 of 10 million with Open PageRank 8.02.\\n\\nSource: https://www.domcop.com/openpagerank/what-is-openpagerank, retrieved on 29 November 2019\",\"sub\":\"https://chrome.google.com\",\"iat\":\"1577021799\"}\n"
     ]
    },
    {
     "name": "stdout",
     "output_type": "stream",
     "text": [
      "{\"metadata\":{\"display_name\":\"Mangrove Bot\",\"is_generated\":true,\"data_source\":\"https://www.domcop.com/openpagerank/what-is-openpagerank\"},\"opinion\":\"This domain has been ranked 85 of 10 million with Open PageRank 8.02.\\n\\nSource: https://www.domcop.com/openpagerank/what-is-openpagerank, retrieved on 29 November 2019\",\"sub\":\"https://lh4.googleusercontent.com\",\"iat\":\"1577021799\"}\n",
      "{\"metadata\":{\"display_name\":\"Mangrove Bot\",\"is_generated\":true,\"data_source\":\"https://www.domcop.com/openpagerank/what-is-openpagerank\"},\"opinion\":\"This domain has been ranked 86 of 10 million with Open PageRank 8.02.\\n\\nSource: https://www.domcop.com/openpagerank/what-is-openpagerank, retrieved on 29 November 2019\",\"sub\":\"https://maxcdn.bootstrapcdn.com\",\"iat\":\"1577021799\"}\n",
      "{\"metadata\":{\"display_name\":\"Mangrove Bot\",\"is_generated\":true,\"data_source\":\"https://www.domcop.com/openpagerank/what-is-openpagerank\"},\"opinion\":\"This domain has been ranked 87 of 10 million with Open PageRank 8.01.\\n\\nSource: https://www.domcop.com/openpagerank/what-is-openpagerank, retrieved on 29 November 2019\",\"sub\":\"https://gov.uk\",\"iat\":\"1577021799\"}\n",
      "{\"metadata\":{\"display_name\":\"Mangrove Bot\",\"is_generated\":true,\"data_source\":\"https://www.domcop.com/openpagerank/what-is-openpagerank\"},\"opinion\":\"This domain has been ranked 88 of 10 million with Open PageRank 8.0.\\n\\nSource: https://www.domcop.com/openpagerank/what-is-openpagerank, retrieved on 29 November 2019\",\"sub\":\"https://player.vimeo.com\",\"iat\":\"1577021799\"}\n",
      "{\"metadata\":{\"display_name\":\"Mangrove Bot\",\"is_generated\":true,\"data_source\":\"https://www.domcop.com/openpagerank/what-is-openpagerank\"},\"opinion\":\"This domain has been ranked 89 of 10 million with Open PageRank 8.0.\\n\\nSource: https://www.domcop.com/openpagerank/what-is-openpagerank, retrieved on 29 November 2019\",\"sub\":\"https://bloomberg.com\",\"iat\":\"1577021799\"}\n",
      "{\"metadata\":{\"display_name\":\"Mangrove Bot\",\"is_generated\":true,\"data_source\":\"https://www.domcop.com/openpagerank/what-is-openpagerank\"},\"opinion\":\"This domain has been ranked 90 of 10 million with Open PageRank 8.0.\\n\\nSource: https://www.domcop.com/openpagerank/what-is-openpagerank, retrieved on 29 November 2019\",\"sub\":\"https://yahoo.com\",\"iat\":\"1577021799\"}\n",
      "{\"metadata\":{\"display_name\":\"Mangrove Bot\",\"is_generated\":true,\"data_source\":\"https://www.domcop.com/openpagerank/what-is-openpagerank\"},\"opinion\":\"This domain has been ranked 91 of 10 million with Open PageRank 7.99.\\n\\nSource: https://www.domcop.com/openpagerank/what-is-openpagerank, retrieved on 29 November 2019\",\"sub\":\"https://lh6.googleusercontent.com\",\"iat\":\"1577021799\"}\n",
      "{\"metadata\":{\"display_name\":\"Mangrove Bot\",\"is_generated\":true,\"data_source\":\"https://www.domcop.com/openpagerank/what-is-openpagerank\"},\"opinion\":\"This domain has been ranked 92 of 10 million with Open PageRank 7.95.\\n\\nSource: https://www.domcop.com/openpagerank/what-is-openpagerank, retrieved on 29 November 2019\",\"sub\":\"https://telegraph.co.uk\",\"iat\":\"1577021799\"}\n",
      "{\"metadata\":{\"display_name\":\"Mangrove Bot\",\"is_generated\":true,\"data_source\":\"https://www.domcop.com/openpagerank/what-is-openpagerank\"},\"opinion\":\"This domain has been ranked 93 of 10 million with Open PageRank 7.94.\\n\\nSource: https://www.domcop.com/openpagerank/what-is-openpagerank, retrieved on 29 November 2019\",\"sub\":\"https://google.de\",\"iat\":\"1577021799\"}\n",
      "{\"metadata\":{\"display_name\":\"Mangrove Bot\",\"is_generated\":true,\"data_source\":\"https://www.domcop.com/openpagerank/what-is-openpagerank\"},\"opinion\":\"This domain has been ranked 94 of 10 million with Open PageRank 7.94.\\n\\nSource: https://www.domcop.com/openpagerank/what-is-openpagerank, retrieved on 29 November 2019\",\"sub\":\"https://venturebeat.com\",\"iat\":\"1577021799\"}\n",
      "{\"metadata\":{\"display_name\":\"Mangrove Bot\",\"is_generated\":true,\"data_source\":\"https://www.domcop.com/openpagerank/what-is-openpagerank\"},\"opinion\":\"This domain has been ranked 95 of 10 million with Open PageRank 7.94.\\n\\nSource: https://www.domcop.com/openpagerank/what-is-openpagerank, retrieved on 29 November 2019\",\"sub\":\"https://amzn.to\",\"iat\":\"1577021799\"}\n",
      "{\"metadata\":{\"display_name\":\"Mangrove Bot\",\"is_generated\":true,\"data_source\":\"https://www.domcop.com/openpagerank/what-is-openpagerank\"},\"opinion\":\"This domain has been ranked 96 of 10 million with Open PageRank 7.93.\\n\\nSource: https://www.domcop.com/openpagerank/what-is-openpagerank, retrieved on 29 November 2019\",\"sub\":\"https://groups.google.com\",\"iat\":\"1577021799\"}\n",
      "{\"metadata\":{\"display_name\":\"Mangrove Bot\",\"is_generated\":true,\"data_source\":\"https://www.domcop.com/openpagerank/what-is-openpagerank\"},\"opinion\":\"This domain has been ranked 97 of 10 million with Open PageRank 7.93.\\n\\nSource: https://www.domcop.com/openpagerank/what-is-openpagerank, retrieved on 29 November 2019\",\"sub\":\"https://ebay.com\",\"iat\":\"1577021799\"}\n",
      "{\"metadata\":{\"display_name\":\"Mangrove Bot\",\"is_generated\":true,\"data_source\":\"https://www.domcop.com/openpagerank/what-is-openpagerank\"},\"opinion\":\"This domain has been ranked 98 of 10 million with Open PageRank 7.93.\\n\\nSource: https://www.domcop.com/openpagerank/what-is-openpagerank, retrieved on 29 November 2019\",\"sub\":\"https://bbc.com\",\"iat\":\"1577021799\"}\n",
      "{\"metadata\":{\"display_name\":\"Mangrove Bot\",\"is_generated\":true,\"data_source\":\"https://www.domcop.com/openpagerank/what-is-openpagerank\"},\"opinion\":\"This domain has been ranked 99 of 10 million with Open PageRank 7.93.\\n\\nSource: https://www.domcop.com/openpagerank/what-is-openpagerank, retrieved on 29 November 2019\",\"sub\":\"https://ibm.com\",\"iat\":\"1577021799\"}\n",
      "{\"metadata\":{\"display_name\":\"Mangrove Bot\",\"is_generated\":true,\"data_source\":\"https://www.domcop.com/openpagerank/what-is-openpagerank\"},\"opinion\":\"This domain has been ranked 100 of 10 million with Open PageRank 7.93.\\n\\nSource: https://www.domcop.com/openpagerank/what-is-openpagerank, retrieved on 29 November 2019\",\"sub\":\"https://ted.com\",\"iat\":\"1577021799\"}\n"
     ]
    },
    {
     "data": {
      "text/plain": [
       "100-element Array{Nothing,1}:\n",
       " nothing\n",
       " nothing\n",
       " nothing\n",
       " nothing\n",
       " nothing\n",
       " nothing\n",
       " nothing\n",
       " nothing\n",
       " nothing\n",
       " nothing\n",
       " nothing\n",
       " nothing\n",
       " nothing\n",
       " ⋮      \n",
       " nothing\n",
       " nothing\n",
       " nothing\n",
       " nothing\n",
       " nothing\n",
       " nothing\n",
       " nothing\n",
       " nothing\n",
       " nothing\n",
       " nothing\n",
       " nothing\n",
       " nothing"
      ]
     },
     "execution_count": 18,
     "metadata": {},
     "output_type": "execute_result"
    }
   ],
   "source": [
    "map(println, test_payloads)"
   ]
  },
  {
   "cell_type": "code",
   "execution_count": null,
   "metadata": {},
   "outputs": [
    {
     "name": "stderr",
     "output_type": "stream",
     "text": [
      "┌ Info: Precompiling PyCall [438e738f-606a-5dbb-bf0a-cddfbfd45ab0]\n",
      "└ @ Base loading.jl:1273\n",
      "ERROR: LoadError: LoadError: "
     ]
    }
   ],
   "source": [
    "using PyCall"
   ]
  },
  {
   "cell_type": "code",
   "execution_count": 2,
   "metadata": {},
   "outputs": [
    {
     "ename": "UndefVarError",
     "evalue": "UndefVarError: pyimport not defined",
     "output_type": "error",
     "traceback": [
      "UndefVarError: pyimport not defined",
      "",
      "Stacktrace:",
      " [1] top-level scope at In[2]:1"
     ]
    }
   ],
   "source": [
    "signing = pyimport(\"ecdsa.SigningKey\")"
   ]
  },
  {
   "cell_type": "code",
   "execution_count": 6,
   "metadata": {},
   "outputs": [
    {
     "data": {
      "text/plain": [
       "0.7071067811865475"
      ]
     },
     "execution_count": 6,
     "metadata": {},
     "output_type": "execute_result"
    }
   ],
   "source": [
    "math.sin(math.pi / 4)"
   ]
  },
  {
   "cell_type": "code",
   "execution_count": null,
   "metadata": {},
   "outputs": [],
   "source": []
  }
 ],
 "metadata": {
  "@webio": {
   "lastCommId": null,
   "lastKernelId": null
  },
  "kernelspec": {
   "display_name": "Julia 1.3.0-rc4",
   "language": "julia",
   "name": "julia-1.3"
  },
  "language_info": {
   "file_extension": ".jl",
   "mimetype": "application/julia",
   "name": "julia",
   "version": "1.3.0"
  }
 },
 "nbformat": 4,
 "nbformat_minor": 2
}
