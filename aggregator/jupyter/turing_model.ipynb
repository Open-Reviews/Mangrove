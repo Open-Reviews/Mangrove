{
 "cells": [
  {
   "cell_type": "code",
   "execution_count": 43,
   "metadata": {},
   "outputs": [],
   "source": [
    "using Revise"
   ]
  },
  {
   "cell_type": "code",
   "execution_count": 25,
   "metadata": {},
   "outputs": [],
   "source": [
    "using StatsPlots"
   ]
  },
  {
   "cell_type": "code",
   "execution_count": 54,
   "metadata": {},
   "outputs": [],
   "source": [
    "using Aggregator\n",
    "import Aggregator.Db"
   ]
  },
  {
   "cell_type": "code",
   "execution_count": 45,
   "metadata": {},
   "outputs": [
    {
     "data": {
      "text/plain": [
       "Dict{ReviewInfo,Aggregator.MangroveBase.ReviewContent} with 22 entries:\n",
       "  ReviewInfo(\"0\", \"11\")  => ReviewContent(0, missing)\n",
       "  ReviewInfo(\"2\", \"13\")  => ReviewContent(20, missing)\n",
       "  ReviewInfo(\"10\", \"21\") => ReviewContent(100, missing)\n",
       "  ReviewInfo(\"3\", \"3\")   => ReviewContent(30, missing)\n",
       "  ReviewInfo(\"7\", \"18\")  => ReviewContent(70, missing)\n",
       "  ReviewInfo(\"6\", \"6\")   => ReviewContent(60, missing)\n",
       "  ReviewInfo(\"7\", \"7\")   => ReviewContent(70, missing)\n",
       "  ReviewInfo(\"4\", \"15\")  => ReviewContent(40, missing)\n",
       "  ReviewInfo(\"1\", \"1\")   => ReviewContent(10, missing)\n",
       "  ReviewInfo(\"8\", \"19\")  => ReviewContent(80, missing)\n",
       "  ReviewInfo(\"0\", \"0\")   => ReviewContent(0, missing)\n",
       "  ReviewInfo(\"8\", \"8\")   => ReviewContent(80, missing)\n",
       "  ReviewInfo(\"6\", \"17\")  => ReviewContent(60, missing)\n",
       "  ReviewInfo(\"10\", \"10\") => ReviewContent(100, missing)\n",
       "  ReviewInfo(\"1\", \"12\")  => ReviewContent(10, missing)\n",
       "  ReviewInfo(\"5\", \"16\")  => ReviewContent(50, missing)\n",
       "  ReviewInfo(\"4\", \"4\")   => ReviewContent(40, missing)\n",
       "  ReviewInfo(\"5\", \"5\")   => ReviewContent(50, missing)\n",
       "  ReviewInfo(\"3\", \"14\")  => ReviewContent(30, missing)\n",
       "  ReviewInfo(\"9\", \"20\")  => ReviewContent(90, missing)\n",
       "  ReviewInfo(\"2\", \"2\")   => ReviewContent(20, missing)\n",
       "  ReviewInfo(\"9\", \"9\")   => ReviewContent(90, missing)"
      ]
     },
     "execution_count": 45,
     "metadata": {},
     "output_type": "execute_result"
    }
   ],
   "source": [
    "data = generate_data(11, 22)"
   ]
  },
  {
   "cell_type": "code",
   "execution_count": 21,
   "metadata": {},
   "outputs": [],
   "source": [
    "data = Aggregator.Api.mangrove_reviews();"
   ]
  },
  {
   "cell_type": "code",
   "execution_count": 23,
   "metadata": {},
   "outputs": [
    {
     "data": {
      "text/plain": [
       "Dict{RatingInfo,Int64} with 6 entries:\n",
       "  RatingInfo(\"urn:maresi:OSx0SnroK-67jKAkFUQJ-MPw9IUT5J1ltas4A_q4646MKXZ… => 100\n",
       "  RatingInfo(\"geo:47.2878393,8.54072945?q=Schloss Langnau&u=30\", \"-----B… => 75\n",
       "  RatingInfo(\"https://example.com\", \"-----BEGIN PUBLIC KEY-----MFkwEwYHK… => 50\n",
       "  RatingInfo(\"geo:47.1691576,8.514572?q=Juanitos&u=30\", \"-----BEGIN PUBL… => 75\n",
       "  RatingInfo(\"https://example.com\", \"-----BEGIN PUBLIC KEY-----MFkwEwYHK… => 75\n",
       "  RatingInfo(\"geo:47.1691576,8.514572?q=Juanitos&u=30\", \"-----BEGIN PUBL… => 75"
      ]
     },
     "execution_count": 23,
     "metadata": {},
     "output_type": "execute_result"
    }
   ],
   "source": [
    "data = Db.mangrove_reviews()"
   ]
  },
  {
   "cell_type": "code",
   "execution_count": 46,
   "metadata": {},
   "outputs": [],
   "source": [
    "using Turing"
   ]
  },
  {
   "cell_type": "code",
   "execution_count": 49,
   "metadata": {},
   "outputs": [],
   "source": [
    "using Aggregator.MangroveBase: Reviews, ReviewsSummary, kids\n",
    "using Aggregator.Model: MeanBeta"
   ]
  },
  {
   "cell_type": "code",
   "execution_count": 36,
   "metadata": {},
   "outputs": [
    {
     "data": {
      "text/plain": [
       "1"
      ]
     },
     "execution_count": 36,
     "metadata": {},
     "output_type": "execute_result"
    }
   ],
   "source": [
    "using Distributions\n",
    "Categorical([0.7, 0.2, 0.1]) |> rand"
   ]
  },
  {
   "cell_type": "code",
   "execution_count": 38,
   "metadata": {},
   "outputs": [],
   "source": [
    "@enum Bias neutral affiliated spammer"
   ]
  },
  {
   "cell_type": "code",
   "execution_count": 9,
   "metadata": {},
   "outputs": [
    {
     "data": {
      "text/plain": [
       "##mangrove_model#468 (generic function with 2 methods)"
      ]
     },
     "execution_count": 9,
     "metadata": {},
     "output_type": "execute_result"
    }
   ],
   "source": [
    "@model mangrove_model(data, typical_rating) = begin\n",
    "    # Assume that each subject has a fundamental quality associated with it.\n",
    "    # Extreme qualities are not as likely as moderate ones.\n",
    "    qualities = Dict{String, Float64}()\n",
    "    for sub in subs(data)\n",
    "        qualities[sub] ~ MeanBeta(typical_rating)\n",
    "    end\n",
    "    # Assume that each reviewer is either neutral (1), affiliated (2) or spammer (3).\n",
    "    biases = Dict{String, Int}()\n",
    "    for kid in kids(data)\n",
    "        biases[kid] ~ Categorical([0.7, 0.2, 0.1])\n",
    "    end\n",
    "    # Observe the ratings from the dataset, which depend on quality and bias.\n",
    "    for info in keys(data)\n",
    "      if biases[info.kid] == 1\n",
    "            # Neutral reviewer leaves a review which reflects the quality.\n",
    "            data[info][1] ~ MeanBeta(qualities[info.sub])\n",
    "        elseif biases[info.kid] == 2\n",
    "            # Affiliated reviewers are mostly negative and pay not attention to actual quality.\n",
    "            data[info][1] ~ Beta(0.04, 0.08)\n",
    "        else\n",
    "            # Spammers tend to leave similar reviews\n",
    "        end\n",
    "    end\n",
    "    return collect(values(qualities))\n",
    "end"
   ]
  },
  {
   "cell_type": "code",
   "execution_count": 52,
   "metadata": {},
   "outputs": [
    {
     "data": {
      "text/plain": [
       "get_chains (generic function with 1 method)"
      ]
     },
     "execution_count": 52,
     "metadata": {},
     "output_type": "execute_result"
    }
   ],
   "source": [
    "function get_chains(raw_data::Reviews)::Chains\n",
    "    data = convert(ReviewsSummary, raw_data)\n",
    "    typical_rating = mean(values(data))\n",
    "    sampler = PG(500)\n",
    "    sample(mangrove_model(data, typical_rating), sampler, 100)\n",
    "end"
   ]
  },
  {
   "cell_type": "code",
   "execution_count": 56,
   "metadata": {},
   "outputs": [
    {
     "name": "stderr",
     "output_type": "stream",
     "text": [
      "\u001b[32mProgress: 100%|█████████████████████████████████████████| Time: 0:01:13\u001b[39m\n"
     ]
    },
    {
     "data": {
      "text/plain": [
       "Object of type Chains, with data of type 100×36×1 Array{Real,3}\n",
       "\n",
       "Log evidence      = 3.8896088466052947\n",
       "Iterations        = 1:100\n",
       "Thinning interval = 1\n",
       "Chains            = 1\n",
       "Samples per chain = 100\n",
       "internals         = le, lp, weight\n",
       "parameters        = biases[0], biases[1], biases[2], biases[3], biases[4], biases[5], biases[6], biases[7], biases[8], biases[9], biases[10], biases[11], biases[12], biases[13], biases[14], biases[15], biases[16], biases[17], biases[18], biases[19], biases[20], biases[21], qualities[0], qualities[1], qualities[2], qualities[3], qualities[4], qualities[5], qualities[6], qualities[7], qualities[8], qualities[9], qualities[10]\n",
       "\n",
       "2-element Array{ChainDataFrame,1}\n",
       "\n",
       "Summary Statistics\n",
       "     parameters    mean     std  naive_se     mcse       ess   r_hat\n",
       "  ─────────────  ──────  ──────  ────────  ───────  ────────  ──────\n",
       "      biases[0]  0.0200  0.1407    0.0141  missing   62.7083  1.0104\n",
       "      biases[1]  0.0200  0.1407    0.0141  missing   62.7083  1.0104\n",
       "      biases[2]  0.0300  0.1714    0.0171  missing   15.2934  1.0211\n",
       "      biases[3]  0.2900  0.4560    0.0456  missing    4.0709  1.4333\n",
       "      biases[4]  0.0000  0.0000    0.0000  missing       NaN     NaN\n",
       "      biases[5]  0.0000  0.0000    0.0000  missing       NaN     NaN\n",
       "      biases[6]  0.0500  0.2190    0.0219  missing    6.3986  1.0435\n",
       "      biases[7]  0.0100  0.1000    0.0100  missing    6.3475  1.0000\n",
       "      biases[8]  0.0000  0.0000    0.0000  missing       NaN     NaN\n",
       "      biases[9]  0.0200  0.1407    0.0141  missing   62.7083  1.0104\n",
       "     biases[10]  0.0200  0.1407    0.0141  missing   10.5823  1.0104\n",
       "     biases[11]  0.6800  0.4688    0.0469  missing    4.7940  1.2983\n",
       "     biases[12]  0.0100  0.1000    0.0100  missing  114.1748  1.0000\n",
       "     biases[13]  0.0000  0.0000    0.0000  missing       NaN     NaN\n",
       "     biases[14]  0.0100  0.1000    0.0100  missing    6.3475  1.0000\n",
       "     biases[15]  0.0200  0.1407    0.0141  missing   62.7083  1.0104\n",
       "     biases[16]  0.0000  0.0000    0.0000  missing       NaN     NaN\n",
       "     biases[17]  0.0000  0.0000    0.0000  missing       NaN     NaN\n",
       "     biases[18]  0.6200  0.4878    0.0488  missing    5.9326  1.1369\n",
       "     biases[19]  0.0000  0.0000    0.0000  missing       NaN     NaN\n",
       "     biases[20]  0.0100  0.1000    0.0100  missing  114.1748  1.0000\n",
       "     biases[21]  0.0600  0.2387    0.0239  missing    6.2952  1.0553\n",
       "   qualities[0]  0.2405  0.1156    0.0116  missing    4.4049  1.3973\n",
       "   qualities[1]  0.3631  0.1768    0.0177  missing    5.3525  1.1858\n",
       "   qualities[2]  0.3471  0.1080    0.0108  missing   12.2908  1.0589\n",
       "   qualities[3]  0.4822  0.0535    0.0054  missing    6.1423  1.0635\n",
       "   qualities[4]  0.3933  0.0837    0.0084  missing   49.2004  1.0097\n",
       "   qualities[5]  0.5210  0.0841    0.0084  missing    3.9192  1.3362\n",
       "   qualities[6]  0.3904  0.1359    0.0136  missing    5.7570  1.1406\n",
       "   qualities[7]  0.6715  0.0681    0.0068  missing    7.7325  0.9934\n",
       "   qualities[8]  0.5147  0.1998    0.0200  missing    5.3615  1.2177\n",
       "   qualities[9]  0.6944  0.1283    0.0128  missing    3.6841  1.4598\n",
       "  qualities[10]  0.8827  0.1094    0.0109  missing    7.5642  1.0145\n",
       "\n",
       "Quantiles\n",
       "     parameters    2.5%   25.0%   50.0%   75.0%   97.5%\n",
       "  ─────────────  ──────  ──────  ──────  ──────  ──────\n",
       "      biases[0]  0.0000  0.0000  0.0000  0.0000  0.0000\n",
       "      biases[1]  0.0000  0.0000  0.0000  0.0000  0.0000\n",
       "      biases[2]  0.0000  0.0000  0.0000  0.0000  0.5250\n",
       "      biases[3]  0.0000  0.0000  0.0000  1.0000  1.0000\n",
       "      biases[4]  0.0000  0.0000  0.0000  0.0000  0.0000\n",
       "      biases[5]  0.0000  0.0000  0.0000  0.0000  0.0000\n",
       "      biases[6]  0.0000  0.0000  0.0000  0.0000  1.0000\n",
       "      biases[7]  0.0000  0.0000  0.0000  0.0000  0.0000\n",
       "      biases[8]  0.0000  0.0000  0.0000  0.0000  0.0000\n",
       "      biases[9]  0.0000  0.0000  0.0000  0.0000  0.0000\n",
       "     biases[10]  0.0000  0.0000  0.0000  0.0000  0.0000\n",
       "     biases[11]  0.0000  0.0000  1.0000  1.0000  1.0000\n",
       "     biases[12]  0.0000  0.0000  0.0000  0.0000  0.0000\n",
       "     biases[13]  0.0000  0.0000  0.0000  0.0000  0.0000\n",
       "     biases[14]  0.0000  0.0000  0.0000  0.0000  0.0000\n",
       "     biases[15]  0.0000  0.0000  0.0000  0.0000  0.0000\n",
       "     biases[16]  0.0000  0.0000  0.0000  0.0000  0.0000\n",
       "     biases[17]  0.0000  0.0000  0.0000  0.0000  0.0000\n",
       "     biases[18]  0.0000  0.0000  1.0000  1.0000  1.0000\n",
       "     biases[19]  0.0000  0.0000  0.0000  0.0000  0.0000\n",
       "     biases[20]  0.0000  0.0000  0.0000  0.0000  0.0000\n",
       "     biases[21]  0.0000  0.0000  0.0000  0.0000  1.0000\n",
       "   qualities[0]  0.0613  0.0613  0.3180  0.3180  0.3243\n",
       "   qualities[1]  0.2372  0.2381  0.2381  0.5940  0.6375\n",
       "   qualities[2]  0.1508  0.2781  0.3715  0.3715  0.5721\n",
       "   qualities[3]  0.2584  0.4906  0.4906  0.5011  0.5156\n",
       "   qualities[4]  0.3667  0.3667  0.3667  0.4350  0.6075\n",
       "   qualities[5]  0.4177  0.4177  0.5499  0.5499  0.6789\n",
       "   qualities[6]  0.2928  0.2928  0.2928  0.5577  0.6820\n",
       "   qualities[7]  0.6508  0.6508  0.6508  0.6949  0.8228\n",
       "   qualities[8]  0.3613  0.3613  0.3613  0.7956  0.7956\n",
       "   qualities[9]  0.6191  0.6288  0.6288  0.8846  0.8846\n",
       "  qualities[10]  0.4743  0.8771  0.9286  0.9286  0.9286\n"
      ]
     },
     "execution_count": 56,
     "metadata": {},
     "output_type": "execute_result"
    }
   ],
   "source": [
    "chn = get_chains(data)"
   ]
  },
  {
   "cell_type": "code",
   "execution_count": 24,
   "metadata": {},
   "outputs": [
    {
     "data": {
      "text/plain": [
       "Mean\n",
       "                                                                                                    parameters    mean\n",
       "  ────────────────────────────────────────────────────────────────────────────────────────────────────────────  ──────\n",
       "                                         qualities[geo:46.414202849999995,6.9275531?q=Château de Chillon&u=30]  0.7171\n",
       "                                                        qualities[geo:47.0002812,8.3983246?q=Bürgenstock&u=30]  0.7425\n",
       "                                                            qualities[geo:47.0505452,8.3054682?q=Lucerne&u=30]  0.8551\n",
       "                                                               qualities[geo:47.0511141,8.29512?q=Gütsch&u=30]  0.7461\n",
       "                                                          qualities[geo:47.1437602,8.5337843?q=Zugerberg&u=30]  0.6012\n",
       "                                                          qualities[geo:47.1671127,8.5157744?q=Juan Long&u=30]  0.7107\n",
       "                                                         qualities[geo:47.1674468,8.5149937?q=Gotthärdli&u=30]  0.8291\n",
       "                                                            qualities[geo:47.1691576,8.514572?q=Juanitos&u=30]  0.6993\n",
       "                                                 qualities[geo:47.1718112,8.5137931?q=Reformierte Kirche&u=30]  0.9256\n",
       "                                                 qualities[geo:47.2273245,8.8156345?q=Schloss Rapperswil&u=30]  0.8496\n",
       "                                                         qualities[geo:47.2533249,8.7800877?q=Baumgarten&u=30]  0.8510\n",
       "                                                   qualities[geo:47.3807554,8.5040594?q=Brasserie Nestor&u=30]  0.9050\n",
       "                                                     qualities[geo:47.3869001,8.5170453?q=Maag MusicHall&u=30]  0.8106\n",
       "                                            qualities[geo:47.4133289,8.5522166?q=Hong-Kong Food Paradise&u=30]  0.8513\n",
       "                                                              qualities[geo:47.4133982,9.348073?q=TSO AG&u=30]  0.6440\n",
       "                                                         qualities[geo:47.6038321,-122.3300624?q=Seattle&u=30]  0.7990\n",
       "                                     qualities[geo:48.753018749999995,9.631041102509345?q=Gasthaus Löwen&u=30]  0.7527\n",
       "                                                  qualities[geo:49.4288031,11.0919334?q=Landbierparadies&u=30]  0.9444\n",
       "                                                         qualities[geo:51.1081974,17.0247706?q=Peruwiana&u=30]  0.7760\n",
       "                                                           qualities[geo:51.1089776,17.0326689?q=Wroclaw&u=30]  0.9182\n",
       "                                                 qualities[geo:51.9262145,4.4788948?q=Restaurant De Jong&u=30]  0.8239\n",
       "                                             qualities[geo:52.29096405,14.060294292125526?q=SaarowTherme&u=30]  0.6132\n",
       "                                                            qualities[geo:57.0766696,24.3231405?q=Klaips&u=30]  0.6923\n",
       "                                          qualities[geo:-34.4698592,-57.8433679?q=Colonia del Sacramento&u=30]  0.6663\n",
       "                                                        qualities[geo:-34.5940268,-58.4469043?q=Bohemios&u=30]  0.9075\n",
       "                                                qualities[geo:-41.0757505,-71.4764209?q=Cerro Campanario&u=30]  0.8939\n",
       "                                                qualities[geo:-41.1350512,-71.2935964?q=La Fonda del Tío&u=30]  0.5690\n",
       "                                             qualities[geo:-41.1982502,-71.4862753?q=Refugio Emilio Frey&u=30]  0.9276\n",
       "                                                                        qualities[https://coronavirus.jhu.edu]  0.8794\n",
       "                                                                                qualities[https://f-droid.org]  0.6596\n",
       "                                                                                    qualities[https://hexo.io]  0.9495\n",
       "                                                                              qualities[https://julialang.org]  0.7886\n",
       "                                                                                qualities[https://nytimes.com]  0.9182\n",
       "                                                                         qualities[https://opencollective.com]  0.9208\n",
       "                                                                                qualities[https://postgis.net]  0.7663\n",
       "                                                                                  qualities[https://rocket.rs]  0.9191\n",
       "                                                                              qualities[https://vuetifyjs.com]  0.8761\n",
       "  qualities[urn:maresi:OMDdikKH6Ke4u_j6GC_e5qPyE_XU1D5fKbIOQ3DakAdtYR7iciwtP3uTfMbLJhLqMJhmvrrUcXj9jP6rvRgvwQ]  0.8786\n",
       "  qualities[urn:maresi:bod8gNkD1DVoMzDC7c6-BSEs9sqy9VmvzxU6vbi1gtj0WKK8wNXF4rEmvb1x-ivRbCqyvwEuCnkZ6t2-Bj5yYw]  0.7497\n",
       "  qualities[urn:maresi:isTSWSRYeSTNQhlSxHiLA0q9JyPysw0PSXCim-FZrEv55DwaJACoC4FfmsZnJJLYkhv07A5-jm0ITRnnBeYbjg]  0.8438\n",
       "  qualities[urn:maresi:x60afu-1J70vqlWS0eh1lh9wX0caBx88vkMKYcqDgKhsFWwF2hAgfUoQu5_jdm3Kdy3TC9-Tteec_vOppNR_kQ]  0.8526\n"
      ]
     },
     "execution_count": 24,
     "metadata": {},
     "output_type": "execute_result"
    }
   ],
   "source": [
    "mean(chn[:qualities])"
   ]
  },
  {
   "cell_type": "code",
   "execution_count": 19,
   "metadata": {},
   "outputs": [
    {
     "data": {
      "text/plain": [
       "1-element Array{Aggregator.MangroveBase.ReviewContent,1}:\n",
       " Aggregator.MangroveBase.ReviewContent(0, missing)"
      ]
     },
     "execution_count": 19,
     "metadata": {},
     "output_type": "execute_result"
    }
   ],
   "source": [
    "[r for (info, r) in data if info.kid==\"11\"]"
   ]
  },
  {
   "cell_type": "code",
   "execution_count": 42,
   "metadata": {},
   "outputs": [],
   "source": [
    "using StatsPlots"
   ]
  },
  {
   "cell_type": "code",
   "execution_count": 125,
   "metadata": {},
   "outputs": [],
   "source": [
    "import StatsPlots.histogram"
   ]
  },
  {
   "cell_type": "code",
   "execution_count": 97,
   "metadata": {},
   "outputs": [
    {
     "name": "stderr",
     "output_type": "stream",
     "text": [
      "┌ Error: Failed to revise /home/keorn/Documents/mangrove/aggregator/src/Model.jl\n",
      "│   exception = (StackOverflowError(), Union{Ptr{Nothing}, Base.InterpreterIP}[Ptr{Nothing} @0x00007fc845e9760a])\n",
      "└ @ Revise /home/keorn/.julia/packages/Revise/SZ4ae/src/Revise.jl:590\n",
      "┌ Warning: Due to a previously reported error, the running code does not match saved version for the following files:\n",
      "│ \n",
      "│   /home/keorn/Documents/mangrove/aggregator/src/Model.jl\n",
      "│ \n",
      "│ Use Revise.errors() to report errors again.\n",
      "└ @ Revise /home/keorn/.julia/packages/Revise/SZ4ae/src/Revise.jl:648\n"
     ]
    },
    {
     "data": {
      "text/plain": [
       "MeanBeta (generic function with 2 methods)"
      ]
     },
     "execution_count": 97,
     "metadata": {},
     "output_type": "execute_result"
    }
   ],
   "source": [
    "MeanBeta(mean::Real, certainty::Real = 3) = Beta(certainty * mean, certainty * (1 - mean))"
   ]
  },
  {
   "cell_type": "code",
   "execution_count": 131,
   "metadata": {},
   "outputs": [
    {
     "data": {
      "text/plain": [
       "histogram (generic function with 3 methods)"
      ]
     },
     "execution_count": 131,
     "metadata": {},
     "output_type": "execute_result"
    }
   ],
   "source": [
    "histogram(d::Distribution, samples::Integer = 1000) = histogram([rand(d) for _ in 1:samples])"
   ]
  },
  {
   "cell_type": "code",
   "execution_count": 132,
   "metadata": {},
   "outputs": [
    {
     "data": {
      "image/svg+xml": [
       "<?xml version=\"1.0\" encoding=\"utf-8\"?>\n",
       "<svg xmlns=\"http://www.w3.org/2000/svg\" xmlns:xlink=\"http://www.w3.org/1999/xlink\" width=\"600\" height=\"400\" viewBox=\"0 0 2400 1600\">\n",
       "<defs>\n",
       "  <clipPath id=\"clip4400\">\n",
       "    <rect x=\"0\" y=\"0\" width=\"2400\" height=\"1600\"/>\n",
       "  </clipPath>\n",
       "</defs>\n",
       "<path clip-path=\"url(#clip4400)\" d=\"\n",
       "M0 1600 L2400 1600 L2400 0 L0 0  Z\n",
       "  \" fill=\"#ffffff\" fill-rule=\"evenodd\" fill-opacity=\"1\"/>\n",
       "<defs>\n",
       "  <clipPath id=\"clip4401\">\n",
       "    <rect x=\"480\" y=\"0\" width=\"1681\" height=\"1600\"/>\n",
       "  </clipPath>\n",
       "</defs>\n",
       "<path clip-path=\"url(#clip4400)\" d=\"\n",
       "M167.279 1487.47 L2352.76 1487.47 L2352.76 47.2441 L167.279 47.2441  Z\n",
       "  \" fill=\"#ffffff\" fill-rule=\"evenodd\" fill-opacity=\"1\"/>\n",
       "<defs>\n",
       "  <clipPath id=\"clip4402\">\n",
       "    <rect x=\"167\" y=\"47\" width=\"2186\" height=\"1441\"/>\n",
       "  </clipPath>\n",
       "</defs>\n",
       "<polyline clip-path=\"url(#clip4402)\" style=\"stroke:#000000; stroke-width:2; stroke-opacity:0.1; fill:none\" points=\"\n",
       "  287.484,1487.47 287.484,47.2441 \n",
       "  \"/>\n",
       "<polyline clip-path=\"url(#clip4402)\" style=\"stroke:#000000; stroke-width:2; stroke-opacity:0.1; fill:none\" points=\"\n",
       "  773.751,1487.47 773.751,47.2441 \n",
       "  \"/>\n",
       "<polyline clip-path=\"url(#clip4402)\" style=\"stroke:#000000; stroke-width:2; stroke-opacity:0.1; fill:none\" points=\"\n",
       "  1260.02,1487.47 1260.02,47.2441 \n",
       "  \"/>\n",
       "<polyline clip-path=\"url(#clip4402)\" style=\"stroke:#000000; stroke-width:2; stroke-opacity:0.1; fill:none\" points=\"\n",
       "  1746.28,1487.47 1746.28,47.2441 \n",
       "  \"/>\n",
       "<polyline clip-path=\"url(#clip4402)\" style=\"stroke:#000000; stroke-width:2; stroke-opacity:0.1; fill:none\" points=\"\n",
       "  2232.55,1487.47 2232.55,47.2441 \n",
       "  \"/>\n",
       "<polyline clip-path=\"url(#clip4402)\" style=\"stroke:#000000; stroke-width:2; stroke-opacity:0.1; fill:none\" points=\"\n",
       "  167.279,1446.71 2352.76,1446.71 \n",
       "  \"/>\n",
       "<polyline clip-path=\"url(#clip4402)\" style=\"stroke:#000000; stroke-width:2; stroke-opacity:0.1; fill:none\" points=\"\n",
       "  167.279,1014 2352.76,1014 \n",
       "  \"/>\n",
       "<polyline clip-path=\"url(#clip4402)\" style=\"stroke:#000000; stroke-width:2; stroke-opacity:0.1; fill:none\" points=\"\n",
       "  167.279,581.294 2352.76,581.294 \n",
       "  \"/>\n",
       "<polyline clip-path=\"url(#clip4402)\" style=\"stroke:#000000; stroke-width:2; stroke-opacity:0.1; fill:none\" points=\"\n",
       "  167.279,148.585 2352.76,148.585 \n",
       "  \"/>\n",
       "<polyline clip-path=\"url(#clip4400)\" style=\"stroke:#000000; stroke-width:4; stroke-opacity:1; fill:none\" points=\"\n",
       "  167.279,1487.47 2352.76,1487.47 \n",
       "  \"/>\n",
       "<polyline clip-path=\"url(#clip4400)\" style=\"stroke:#000000; stroke-width:4; stroke-opacity:1; fill:none\" points=\"\n",
       "  167.279,1487.47 167.279,47.2441 \n",
       "  \"/>\n",
       "<polyline clip-path=\"url(#clip4400)\" style=\"stroke:#000000; stroke-width:4; stroke-opacity:1; fill:none\" points=\"\n",
       "  287.484,1487.47 287.484,1470.19 \n",
       "  \"/>\n",
       "<polyline clip-path=\"url(#clip4400)\" style=\"stroke:#000000; stroke-width:4; stroke-opacity:1; fill:none\" points=\"\n",
       "  773.751,1487.47 773.751,1470.19 \n",
       "  \"/>\n",
       "<polyline clip-path=\"url(#clip4400)\" style=\"stroke:#000000; stroke-width:4; stroke-opacity:1; fill:none\" points=\"\n",
       "  1260.02,1487.47 1260.02,1470.19 \n",
       "  \"/>\n",
       "<polyline clip-path=\"url(#clip4400)\" style=\"stroke:#000000; stroke-width:4; stroke-opacity:1; fill:none\" points=\"\n",
       "  1746.28,1487.47 1746.28,1470.19 \n",
       "  \"/>\n",
       "<polyline clip-path=\"url(#clip4400)\" style=\"stroke:#000000; stroke-width:4; stroke-opacity:1; fill:none\" points=\"\n",
       "  2232.55,1487.47 2232.55,1470.19 \n",
       "  \"/>\n",
       "<polyline clip-path=\"url(#clip4400)\" style=\"stroke:#000000; stroke-width:4; stroke-opacity:1; fill:none\" points=\"\n",
       "  167.279,1446.71 193.505,1446.71 \n",
       "  \"/>\n",
       "<polyline clip-path=\"url(#clip4400)\" style=\"stroke:#000000; stroke-width:4; stroke-opacity:1; fill:none\" points=\"\n",
       "  167.279,1014 193.505,1014 \n",
       "  \"/>\n",
       "<polyline clip-path=\"url(#clip4400)\" style=\"stroke:#000000; stroke-width:4; stroke-opacity:1; fill:none\" points=\"\n",
       "  167.279,581.294 193.505,581.294 \n",
       "  \"/>\n",
       "<polyline clip-path=\"url(#clip4400)\" style=\"stroke:#000000; stroke-width:4; stroke-opacity:1; fill:none\" points=\"\n",
       "  167.279,148.585 193.505,148.585 \n",
       "  \"/>\n",
       "<g clip-path=\"url(#clip4400)\">\n",
       "<text style=\"fill:#000000; fill-opacity:1; font-family:Arial,Helvetica Neue,Helvetica,sans-serif; font-size:48px; text-anchor:middle;\" transform=\"rotate(0, 287.484, 1541.47)\" x=\"287.484\" y=\"1541.47\">0.00</text>\n",
       "</g>\n",
       "<g clip-path=\"url(#clip4400)\">\n",
       "<text style=\"fill:#000000; fill-opacity:1; font-family:Arial,Helvetica Neue,Helvetica,sans-serif; font-size:48px; text-anchor:middle;\" transform=\"rotate(0, 773.751, 1541.47)\" x=\"773.751\" y=\"1541.47\">0.25</text>\n",
       "</g>\n",
       "<g clip-path=\"url(#clip4400)\">\n",
       "<text style=\"fill:#000000; fill-opacity:1; font-family:Arial,Helvetica Neue,Helvetica,sans-serif; font-size:48px; text-anchor:middle;\" transform=\"rotate(0, 1260.02, 1541.47)\" x=\"1260.02\" y=\"1541.47\">0.50</text>\n",
       "</g>\n",
       "<g clip-path=\"url(#clip4400)\">\n",
       "<text style=\"fill:#000000; fill-opacity:1; font-family:Arial,Helvetica Neue,Helvetica,sans-serif; font-size:48px; text-anchor:middle;\" transform=\"rotate(0, 1746.28, 1541.47)\" x=\"1746.28\" y=\"1541.47\">0.75</text>\n",
       "</g>\n",
       "<g clip-path=\"url(#clip4400)\">\n",
       "<text style=\"fill:#000000; fill-opacity:1; font-family:Arial,Helvetica Neue,Helvetica,sans-serif; font-size:48px; text-anchor:middle;\" transform=\"rotate(0, 2232.55, 1541.47)\" x=\"2232.55\" y=\"1541.47\">1.00</text>\n",
       "</g>\n",
       "<g clip-path=\"url(#clip4400)\">\n",
       "<text style=\"fill:#000000; fill-opacity:1; font-family:Arial,Helvetica Neue,Helvetica,sans-serif; font-size:48px; text-anchor:end;\" transform=\"rotate(0, 143.279, 1464.21)\" x=\"143.279\" y=\"1464.21\">0</text>\n",
       "</g>\n",
       "<g clip-path=\"url(#clip4400)\">\n",
       "<text style=\"fill:#000000; fill-opacity:1; font-family:Arial,Helvetica Neue,Helvetica,sans-serif; font-size:48px; text-anchor:end;\" transform=\"rotate(0, 143.279, 1031.5)\" x=\"143.279\" y=\"1031.5\">50</text>\n",
       "</g>\n",
       "<g clip-path=\"url(#clip4400)\">\n",
       "<text style=\"fill:#000000; fill-opacity:1; font-family:Arial,Helvetica Neue,Helvetica,sans-serif; font-size:48px; text-anchor:end;\" transform=\"rotate(0, 143.279, 598.794)\" x=\"143.279\" y=\"598.794\">100</text>\n",
       "</g>\n",
       "<g clip-path=\"url(#clip4400)\">\n",
       "<text style=\"fill:#000000; fill-opacity:1; font-family:Arial,Helvetica Neue,Helvetica,sans-serif; font-size:48px; text-anchor:end;\" transform=\"rotate(0, 143.279, 166.085)\" x=\"143.279\" y=\"166.085\">150</text>\n",
       "</g>\n",
       "<path clip-path=\"url(#clip4402)\" d=\"\n",
       "M287.484 1187.09 L287.484 1446.71 L481.991 1446.71 L481.991 1187.09 L287.484 1187.09 L287.484 1187.09  Z\n",
       "  \" fill=\"#009af9\" fill-rule=\"evenodd\" fill-opacity=\"1\"/>\n",
       "<polyline clip-path=\"url(#clip4402)\" style=\"stroke:#000000; stroke-width:4; stroke-opacity:1; fill:none\" points=\"\n",
       "  287.484,1187.09 287.484,1446.71 481.991,1446.71 481.991,1187.09 287.484,1187.09 \n",
       "  \"/>\n",
       "<path clip-path=\"url(#clip4402)\" d=\"\n",
       "M481.991 832.266 L481.991 1446.71 L676.498 1446.71 L676.498 832.266 L481.991 832.266 L481.991 832.266  Z\n",
       "  \" fill=\"#009af9\" fill-rule=\"evenodd\" fill-opacity=\"1\"/>\n",
       "<polyline clip-path=\"url(#clip4402)\" style=\"stroke:#000000; stroke-width:4; stroke-opacity:1; fill:none\" points=\"\n",
       "  481.991,832.266 481.991,1446.71 676.498,1446.71 676.498,832.266 481.991,832.266 \n",
       "  \"/>\n",
       "<path clip-path=\"url(#clip4402)\" d=\"\n",
       "M676.498 399.556 L676.498 1446.71 L871.004 1446.71 L871.004 399.556 L676.498 399.556 L676.498 399.556  Z\n",
       "  \" fill=\"#009af9\" fill-rule=\"evenodd\" fill-opacity=\"1\"/>\n",
       "<polyline clip-path=\"url(#clip4402)\" style=\"stroke:#000000; stroke-width:4; stroke-opacity:1; fill:none\" points=\"\n",
       "  676.498,399.556 676.498,1446.71 871.004,1446.71 871.004,399.556 676.498,399.556 \n",
       "  \"/>\n",
       "<path clip-path=\"url(#clip4402)\" d=\"\n",
       "M871.004 356.285 L871.004 1446.71 L1065.51 1446.71 L1065.51 356.285 L871.004 356.285 L871.004 356.285  Z\n",
       "  \" fill=\"#009af9\" fill-rule=\"evenodd\" fill-opacity=\"1\"/>\n",
       "<polyline clip-path=\"url(#clip4402)\" style=\"stroke:#000000; stroke-width:4; stroke-opacity:1; fill:none\" points=\"\n",
       "  871.004,356.285 871.004,1446.71 1065.51,1446.71 1065.51,356.285 871.004,356.285 \n",
       "  \"/>\n",
       "<path clip-path=\"url(#clip4402)\" d=\"\n",
       "M1065.51 88.0053 L1065.51 1446.71 L1260.02 1446.71 L1260.02 88.0053 L1065.51 88.0053 L1065.51 88.0053  Z\n",
       "  \" fill=\"#009af9\" fill-rule=\"evenodd\" fill-opacity=\"1\"/>\n",
       "<polyline clip-path=\"url(#clip4402)\" style=\"stroke:#000000; stroke-width:4; stroke-opacity:1; fill:none\" points=\"\n",
       "  1065.51,88.0053 1065.51,1446.71 1260.02,1446.71 1260.02,88.0053 1065.51,88.0053 \n",
       "  \"/>\n",
       "<path clip-path=\"url(#clip4402)\" d=\"\n",
       "M1260.02 235.127 L1260.02 1446.71 L1454.52 1446.71 L1454.52 235.127 L1260.02 235.127 L1260.02 235.127  Z\n",
       "  \" fill=\"#009af9\" fill-rule=\"evenodd\" fill-opacity=\"1\"/>\n",
       "<polyline clip-path=\"url(#clip4402)\" style=\"stroke:#000000; stroke-width:4; stroke-opacity:1; fill:none\" points=\"\n",
       "  1260.02,235.127 1260.02,1446.71 1454.52,1446.71 1454.52,235.127 1260.02,235.127 \n",
       "  \"/>\n",
       "<path clip-path=\"url(#clip4402)\" d=\"\n",
       "M1454.52 313.014 L1454.52 1446.71 L1649.03 1446.71 L1649.03 313.014 L1454.52 313.014 L1454.52 313.014  Z\n",
       "  \" fill=\"#009af9\" fill-rule=\"evenodd\" fill-opacity=\"1\"/>\n",
       "<polyline clip-path=\"url(#clip4402)\" style=\"stroke:#000000; stroke-width:4; stroke-opacity:1; fill:none\" points=\"\n",
       "  1454.52,313.014 1454.52,1446.71 1649.03,1446.71 1649.03,313.014 1454.52,313.014 \n",
       "  \"/>\n",
       "<path clip-path=\"url(#clip4402)\" d=\"\n",
       "M1649.03 494.752 L1649.03 1446.71 L1843.54 1446.71 L1843.54 494.752 L1649.03 494.752 L1649.03 494.752  Z\n",
       "  \" fill=\"#009af9\" fill-rule=\"evenodd\" fill-opacity=\"1\"/>\n",
       "<polyline clip-path=\"url(#clip4402)\" style=\"stroke:#000000; stroke-width:4; stroke-opacity:1; fill:none\" points=\"\n",
       "  1649.03,494.752 1649.03,1446.71 1843.54,1446.71 1843.54,494.752 1649.03,494.752 \n",
       "  \"/>\n",
       "<path clip-path=\"url(#clip4402)\" d=\"\n",
       "M1843.54 676.49 L1843.54 1446.71 L2038.04 1446.71 L2038.04 676.49 L1843.54 676.49 L1843.54 676.49  Z\n",
       "  \" fill=\"#009af9\" fill-rule=\"evenodd\" fill-opacity=\"1\"/>\n",
       "<polyline clip-path=\"url(#clip4402)\" style=\"stroke:#000000; stroke-width:4; stroke-opacity:1; fill:none\" points=\"\n",
       "  1843.54,676.49 1843.54,1446.71 2038.04,1446.71 2038.04,676.49 1843.54,676.49 \n",
       "  \"/>\n",
       "<path clip-path=\"url(#clip4402)\" d=\"\n",
       "M2038.04 1230.36 L2038.04 1446.71 L2232.55 1446.71 L2232.55 1230.36 L2038.04 1230.36 L2038.04 1230.36  Z\n",
       "  \" fill=\"#009af9\" fill-rule=\"evenodd\" fill-opacity=\"1\"/>\n",
       "<polyline clip-path=\"url(#clip4402)\" style=\"stroke:#000000; stroke-width:4; stroke-opacity:1; fill:none\" points=\"\n",
       "  2038.04,1230.36 2038.04,1446.71 2232.55,1446.71 2232.55,1230.36 2038.04,1230.36 \n",
       "  \"/>\n",
       "<path clip-path=\"url(#clip4400)\" d=\"\n",
       "M1989.93 251.724 L2280.76 251.724 L2280.76 130.764 L1989.93 130.764  Z\n",
       "  \" fill=\"#ffffff\" fill-rule=\"evenodd\" fill-opacity=\"1\"/>\n",
       "<polyline clip-path=\"url(#clip4400)\" style=\"stroke:#000000; stroke-width:4; stroke-opacity:1; fill:none\" points=\"\n",
       "  1989.93,251.724 2280.76,251.724 2280.76,130.764 1989.93,130.764 1989.93,251.724 \n",
       "  \"/>\n",
       "<path clip-path=\"url(#clip4400)\" d=\"\n",
       "M2013.93 215.436 L2157.93 215.436 L2157.93 167.052 L2013.93 167.052 L2013.93 215.436  Z\n",
       "  \" fill=\"#009af9\" fill-rule=\"evenodd\" fill-opacity=\"1\"/>\n",
       "<polyline clip-path=\"url(#clip4400)\" style=\"stroke:#000000; stroke-width:4; stroke-opacity:1; fill:none\" points=\"\n",
       "  2013.93,215.436 2157.93,215.436 2157.93,167.052 2013.93,167.052 2013.93,215.436 \n",
       "  \"/>\n",
       "<g clip-path=\"url(#clip4400)\">\n",
       "<text style=\"fill:#000000; fill-opacity:1; font-family:Arial,Helvetica Neue,Helvetica,sans-serif; font-size:48px; text-anchor:start;\" transform=\"rotate(0, 2181.93, 208.744)\" x=\"2181.93\" y=\"208.744\">y1</text>\n",
       "</g>\n",
       "</svg>\n"
      ]
     },
     "execution_count": 132,
     "metadata": {},
     "output_type": "execute_result"
    }
   ],
   "source": [
    "histogram(Beta(2, 2))"
   ]
  },
  {
   "cell_type": "code",
   "execution_count": 153,
   "metadata": {},
   "outputs": [
    {
     "data": {
      "image/svg+xml": [
       "<?xml version=\"1.0\" encoding=\"utf-8\"?>\n",
       "<svg xmlns=\"http://www.w3.org/2000/svg\" xmlns:xlink=\"http://www.w3.org/1999/xlink\" width=\"600\" height=\"400\" viewBox=\"0 0 2400 1600\">\n",
       "<defs>\n",
       "  <clipPath id=\"clip1600\">\n",
       "    <rect x=\"0\" y=\"0\" width=\"2400\" height=\"1600\"/>\n",
       "  </clipPath>\n",
       "</defs>\n",
       "<path clip-path=\"url(#clip1600)\" d=\"\n",
       "M0 1600 L2400 1600 L2400 0 L0 0  Z\n",
       "  \" fill=\"#ffffff\" fill-rule=\"evenodd\" fill-opacity=\"1\"/>\n",
       "<defs>\n",
       "  <clipPath id=\"clip1601\">\n",
       "    <rect x=\"480\" y=\"0\" width=\"1681\" height=\"1600\"/>\n",
       "  </clipPath>\n",
       "</defs>\n",
       "<path clip-path=\"url(#clip1600)\" d=\"\n",
       "M167.279 1487.47 L2352.76 1487.47 L2352.76 47.2441 L167.279 47.2441  Z\n",
       "  \" fill=\"#ffffff\" fill-rule=\"evenodd\" fill-opacity=\"1\"/>\n",
       "<defs>\n",
       "  <clipPath id=\"clip1602\">\n",
       "    <rect x=\"167\" y=\"47\" width=\"2186\" height=\"1441\"/>\n",
       "  </clipPath>\n",
       "</defs>\n",
       "<polyline clip-path=\"url(#clip1602)\" style=\"stroke:#000000; stroke-width:2; stroke-opacity:0.1; fill:none\" points=\"\n",
       "  546.826,1487.47 546.826,47.2441 \n",
       "  \"/>\n",
       "<polyline clip-path=\"url(#clip1602)\" style=\"stroke:#000000; stroke-width:2; stroke-opacity:0.1; fill:none\" points=\"\n",
       "  1065.51,1487.47 1065.51,47.2441 \n",
       "  \"/>\n",
       "<polyline clip-path=\"url(#clip1602)\" style=\"stroke:#000000; stroke-width:2; stroke-opacity:0.1; fill:none\" points=\"\n",
       "  1584.2,1487.47 1584.2,47.2441 \n",
       "  \"/>\n",
       "<polyline clip-path=\"url(#clip1602)\" style=\"stroke:#000000; stroke-width:2; stroke-opacity:0.1; fill:none\" points=\"\n",
       "  2102.88,1487.47 2102.88,47.2441 \n",
       "  \"/>\n",
       "<polyline clip-path=\"url(#clip1602)\" style=\"stroke:#000000; stroke-width:2; stroke-opacity:0.1; fill:none\" points=\"\n",
       "  167.279,1446.71 2352.76,1446.71 \n",
       "  \"/>\n",
       "<polyline clip-path=\"url(#clip1602)\" style=\"stroke:#000000; stroke-width:2; stroke-opacity:0.1; fill:none\" points=\"\n",
       "  167.279,1165.99 2352.76,1165.99 \n",
       "  \"/>\n",
       "<polyline clip-path=\"url(#clip1602)\" style=\"stroke:#000000; stroke-width:2; stroke-opacity:0.1; fill:none\" points=\"\n",
       "  167.279,885.264 2352.76,885.264 \n",
       "  \"/>\n",
       "<polyline clip-path=\"url(#clip1602)\" style=\"stroke:#000000; stroke-width:2; stroke-opacity:0.1; fill:none\" points=\"\n",
       "  167.279,604.539 2352.76,604.539 \n",
       "  \"/>\n",
       "<polyline clip-path=\"url(#clip1602)\" style=\"stroke:#000000; stroke-width:2; stroke-opacity:0.1; fill:none\" points=\"\n",
       "  167.279,323.814 2352.76,323.814 \n",
       "  \"/>\n",
       "<polyline clip-path=\"url(#clip1600)\" style=\"stroke:#000000; stroke-width:4; stroke-opacity:1; fill:none\" points=\"\n",
       "  167.279,1487.47 2352.76,1487.47 \n",
       "  \"/>\n",
       "<polyline clip-path=\"url(#clip1600)\" style=\"stroke:#000000; stroke-width:4; stroke-opacity:1; fill:none\" points=\"\n",
       "  167.279,1487.47 167.279,47.2441 \n",
       "  \"/>\n",
       "<polyline clip-path=\"url(#clip1600)\" style=\"stroke:#000000; stroke-width:4; stroke-opacity:1; fill:none\" points=\"\n",
       "  546.826,1487.47 546.826,1470.19 \n",
       "  \"/>\n",
       "<polyline clip-path=\"url(#clip1600)\" style=\"stroke:#000000; stroke-width:4; stroke-opacity:1; fill:none\" points=\"\n",
       "  1065.51,1487.47 1065.51,1470.19 \n",
       "  \"/>\n",
       "<polyline clip-path=\"url(#clip1600)\" style=\"stroke:#000000; stroke-width:4; stroke-opacity:1; fill:none\" points=\"\n",
       "  1584.2,1487.47 1584.2,1470.19 \n",
       "  \"/>\n",
       "<polyline clip-path=\"url(#clip1600)\" style=\"stroke:#000000; stroke-width:4; stroke-opacity:1; fill:none\" points=\"\n",
       "  2102.88,1487.47 2102.88,1470.19 \n",
       "  \"/>\n",
       "<polyline clip-path=\"url(#clip1600)\" style=\"stroke:#000000; stroke-width:4; stroke-opacity:1; fill:none\" points=\"\n",
       "  167.279,1446.71 193.505,1446.71 \n",
       "  \"/>\n",
       "<polyline clip-path=\"url(#clip1600)\" style=\"stroke:#000000; stroke-width:4; stroke-opacity:1; fill:none\" points=\"\n",
       "  167.279,1165.99 193.505,1165.99 \n",
       "  \"/>\n",
       "<polyline clip-path=\"url(#clip1600)\" style=\"stroke:#000000; stroke-width:4; stroke-opacity:1; fill:none\" points=\"\n",
       "  167.279,885.264 193.505,885.264 \n",
       "  \"/>\n",
       "<polyline clip-path=\"url(#clip1600)\" style=\"stroke:#000000; stroke-width:4; stroke-opacity:1; fill:none\" points=\"\n",
       "  167.279,604.539 193.505,604.539 \n",
       "  \"/>\n",
       "<polyline clip-path=\"url(#clip1600)\" style=\"stroke:#000000; stroke-width:4; stroke-opacity:1; fill:none\" points=\"\n",
       "  167.279,323.814 193.505,323.814 \n",
       "  \"/>\n",
       "<g clip-path=\"url(#clip1600)\">\n",
       "<text style=\"fill:#000000; fill-opacity:1; font-family:Arial,Helvetica Neue,Helvetica,sans-serif; font-size:48px; text-anchor:middle;\" transform=\"rotate(0, 546.826, 1541.47)\" x=\"546.826\" y=\"1541.47\">0.2</text>\n",
       "</g>\n",
       "<g clip-path=\"url(#clip1600)\">\n",
       "<text style=\"fill:#000000; fill-opacity:1; font-family:Arial,Helvetica Neue,Helvetica,sans-serif; font-size:48px; text-anchor:middle;\" transform=\"rotate(0, 1065.51, 1541.47)\" x=\"1065.51\" y=\"1541.47\">0.4</text>\n",
       "</g>\n",
       "<g clip-path=\"url(#clip1600)\">\n",
       "<text style=\"fill:#000000; fill-opacity:1; font-family:Arial,Helvetica Neue,Helvetica,sans-serif; font-size:48px; text-anchor:middle;\" transform=\"rotate(0, 1584.2, 1541.47)\" x=\"1584.2\" y=\"1541.47\">0.6</text>\n",
       "</g>\n",
       "<g clip-path=\"url(#clip1600)\">\n",
       "<text style=\"fill:#000000; fill-opacity:1; font-family:Arial,Helvetica Neue,Helvetica,sans-serif; font-size:48px; text-anchor:middle;\" transform=\"rotate(0, 2102.88, 1541.47)\" x=\"2102.88\" y=\"1541.47\">0.8</text>\n",
       "</g>\n",
       "<g clip-path=\"url(#clip1600)\">\n",
       "<text style=\"fill:#000000; fill-opacity:1; font-family:Arial,Helvetica Neue,Helvetica,sans-serif; font-size:48px; text-anchor:end;\" transform=\"rotate(0, 143.279, 1464.21)\" x=\"143.279\" y=\"1464.21\">0</text>\n",
       "</g>\n",
       "<g clip-path=\"url(#clip1600)\">\n",
       "<text style=\"fill:#000000; fill-opacity:1; font-family:Arial,Helvetica Neue,Helvetica,sans-serif; font-size:48px; text-anchor:end;\" transform=\"rotate(0, 143.279, 1183.49)\" x=\"143.279\" y=\"1183.49\">25</text>\n",
       "</g>\n",
       "<g clip-path=\"url(#clip1600)\">\n",
       "<text style=\"fill:#000000; fill-opacity:1; font-family:Arial,Helvetica Neue,Helvetica,sans-serif; font-size:48px; text-anchor:end;\" transform=\"rotate(0, 143.279, 902.764)\" x=\"143.279\" y=\"902.764\">50</text>\n",
       "</g>\n",
       "<g clip-path=\"url(#clip1600)\">\n",
       "<text style=\"fill:#000000; fill-opacity:1; font-family:Arial,Helvetica Neue,Helvetica,sans-serif; font-size:48px; text-anchor:end;\" transform=\"rotate(0, 143.279, 622.039)\" x=\"143.279\" y=\"622.039\">75</text>\n",
       "</g>\n",
       "<g clip-path=\"url(#clip1600)\">\n",
       "<text style=\"fill:#000000; fill-opacity:1; font-family:Arial,Helvetica Neue,Helvetica,sans-serif; font-size:48px; text-anchor:end;\" transform=\"rotate(0, 143.279, 341.314)\" x=\"143.279\" y=\"341.314\">100</text>\n",
       "</g>\n",
       "<path clip-path=\"url(#clip1602)\" d=\"\n",
       "M287.484 1345.65 L287.484 1446.71 L417.155 1446.71 L417.155 1345.65 L287.484 1345.65 L287.484 1345.65  Z\n",
       "  \" fill=\"#009af9\" fill-rule=\"evenodd\" fill-opacity=\"1\"/>\n",
       "<polyline clip-path=\"url(#clip1602)\" style=\"stroke:#000000; stroke-width:4; stroke-opacity:1; fill:none\" points=\"\n",
       "  287.484,1345.65 287.484,1446.71 417.155,1446.71 417.155,1345.65 287.484,1345.65 \n",
       "  \"/>\n",
       "<path clip-path=\"url(#clip1602)\" d=\"\n",
       "M417.155 1132.3 L417.155 1446.71 L546.826 1446.71 L546.826 1132.3 L417.155 1132.3 L417.155 1132.3  Z\n",
       "  \" fill=\"#009af9\" fill-rule=\"evenodd\" fill-opacity=\"1\"/>\n",
       "<polyline clip-path=\"url(#clip1602)\" style=\"stroke:#000000; stroke-width:4; stroke-opacity:1; fill:none\" points=\"\n",
       "  417.155,1132.3 417.155,1446.71 546.826,1446.71 546.826,1132.3 417.155,1132.3 \n",
       "  \"/>\n",
       "<path clip-path=\"url(#clip1602)\" d=\"\n",
       "M546.826 862.806 L546.826 1446.71 L676.498 1446.71 L676.498 862.806 L546.826 862.806 L546.826 862.806  Z\n",
       "  \" fill=\"#009af9\" fill-rule=\"evenodd\" fill-opacity=\"1\"/>\n",
       "<polyline clip-path=\"url(#clip1602)\" style=\"stroke:#000000; stroke-width:4; stroke-opacity:1; fill:none\" points=\"\n",
       "  546.826,862.806 546.826,1446.71 676.498,1446.71 676.498,862.806 546.826,862.806 \n",
       "  \"/>\n",
       "<path clip-path=\"url(#clip1602)\" d=\"\n",
       "M676.498 671.913 L676.498 1446.71 L806.169 1446.71 L806.169 671.913 L676.498 671.913 L676.498 671.913  Z\n",
       "  \" fill=\"#009af9\" fill-rule=\"evenodd\" fill-opacity=\"1\"/>\n",
       "<polyline clip-path=\"url(#clip1602)\" style=\"stroke:#000000; stroke-width:4; stroke-opacity:1; fill:none\" points=\"\n",
       "  676.498,671.913 676.498,1446.71 806.169,1446.71 806.169,671.913 676.498,671.913 \n",
       "  \"/>\n",
       "<path clip-path=\"url(#clip1602)\" d=\"\n",
       "M806.169 301.356 L806.169 1446.71 L935.84 1446.71 L935.84 301.356 L806.169 301.356 L806.169 301.356  Z\n",
       "  \" fill=\"#009af9\" fill-rule=\"evenodd\" fill-opacity=\"1\"/>\n",
       "<polyline clip-path=\"url(#clip1602)\" style=\"stroke:#000000; stroke-width:4; stroke-opacity:1; fill:none\" points=\"\n",
       "  806.169,301.356 806.169,1446.71 935.84,1446.71 935.84,301.356 806.169,301.356 \n",
       "  \"/>\n",
       "<path clip-path=\"url(#clip1602)\" d=\"\n",
       "M935.84 110.463 L935.84 1446.71 L1065.51 1446.71 L1065.51 110.463 L935.84 110.463 L935.84 110.463  Z\n",
       "  \" fill=\"#009af9\" fill-rule=\"evenodd\" fill-opacity=\"1\"/>\n",
       "<polyline clip-path=\"url(#clip1602)\" style=\"stroke:#000000; stroke-width:4; stroke-opacity:1; fill:none\" points=\"\n",
       "  935.84,110.463 935.84,1446.71 1065.51,1446.71 1065.51,110.463 935.84,110.463 \n",
       "  \"/>\n",
       "<path clip-path=\"url(#clip1602)\" d=\"\n",
       "M1065.51 88.0053 L1065.51 1446.71 L1195.18 1446.71 L1195.18 88.0053 L1065.51 88.0053 L1065.51 88.0053  Z\n",
       "  \" fill=\"#009af9\" fill-rule=\"evenodd\" fill-opacity=\"1\"/>\n",
       "<polyline clip-path=\"url(#clip1602)\" style=\"stroke:#000000; stroke-width:4; stroke-opacity:1; fill:none\" points=\"\n",
       "  1065.51,88.0053 1065.51,1446.71 1195.18,1446.71 1195.18,88.0053 1065.51,88.0053 \n",
       "  \"/>\n",
       "<path clip-path=\"url(#clip1602)\" d=\"\n",
       "M1195.18 88.0053 L1195.18 1446.71 L1324.85 1446.71 L1324.85 88.0053 L1195.18 88.0053 L1195.18 88.0053  Z\n",
       "  \" fill=\"#009af9\" fill-rule=\"evenodd\" fill-opacity=\"1\"/>\n",
       "<polyline clip-path=\"url(#clip1602)\" style=\"stroke:#000000; stroke-width:4; stroke-opacity:1; fill:none\" points=\"\n",
       "  1195.18,88.0053 1195.18,1446.71 1324.85,1446.71 1324.85,88.0053 1195.18,88.0053 \n",
       "  \"/>\n",
       "<path clip-path=\"url(#clip1602)\" d=\"\n",
       "M1324.85 144.15 L1324.85 1446.71 L1454.52 1446.71 L1454.52 144.15 L1324.85 144.15 L1324.85 144.15  Z\n",
       "  \" fill=\"#009af9\" fill-rule=\"evenodd\" fill-opacity=\"1\"/>\n",
       "<polyline clip-path=\"url(#clip1602)\" style=\"stroke:#000000; stroke-width:4; stroke-opacity:1; fill:none\" points=\"\n",
       "  1324.85,144.15 1324.85,1446.71 1454.52,1446.71 1454.52,144.15 1324.85,144.15 \n",
       "  \"/>\n",
       "<path clip-path=\"url(#clip1602)\" d=\"\n",
       "M1454.52 368.73 L1454.52 1446.71 L1584.2 1446.71 L1584.2 368.73 L1454.52 368.73 L1454.52 368.73  Z\n",
       "  \" fill=\"#009af9\" fill-rule=\"evenodd\" fill-opacity=\"1\"/>\n",
       "<polyline clip-path=\"url(#clip1602)\" style=\"stroke:#000000; stroke-width:4; stroke-opacity:1; fill:none\" points=\"\n",
       "  1454.52,368.73 1454.52,1446.71 1584.2,1446.71 1584.2,368.73 1454.52,368.73 \n",
       "  \"/>\n",
       "<path clip-path=\"url(#clip1602)\" d=\"\n",
       "M1584.2 683.142 L1584.2 1446.71 L1713.87 1446.71 L1713.87 683.142 L1584.2 683.142 L1584.2 683.142  Z\n",
       "  \" fill=\"#009af9\" fill-rule=\"evenodd\" fill-opacity=\"1\"/>\n",
       "<polyline clip-path=\"url(#clip1602)\" style=\"stroke:#000000; stroke-width:4; stroke-opacity:1; fill:none\" points=\"\n",
       "  1584.2,683.142 1584.2,1446.71 1713.87,1446.71 1713.87,683.142 1584.2,683.142 \n",
       "  \"/>\n",
       "<path clip-path=\"url(#clip1602)\" d=\"\n",
       "M1713.87 975.096 L1713.87 1446.71 L1843.54 1446.71 L1843.54 975.096 L1713.87 975.096 L1713.87 975.096  Z\n",
       "  \" fill=\"#009af9\" fill-rule=\"evenodd\" fill-opacity=\"1\"/>\n",
       "<polyline clip-path=\"url(#clip1602)\" style=\"stroke:#000000; stroke-width:4; stroke-opacity:1; fill:none\" points=\"\n",
       "  1713.87,975.096 1713.87,1446.71 1843.54,1446.71 1843.54,975.096 1713.87,975.096 \n",
       "  \"/>\n",
       "<path clip-path=\"url(#clip1602)\" d=\"\n",
       "M1843.54 1042.47 L1843.54 1446.71 L1973.21 1446.71 L1973.21 1042.47 L1843.54 1042.47 L1843.54 1042.47  Z\n",
       "  \" fill=\"#009af9\" fill-rule=\"evenodd\" fill-opacity=\"1\"/>\n",
       "<polyline clip-path=\"url(#clip1602)\" style=\"stroke:#000000; stroke-width:4; stroke-opacity:1; fill:none\" points=\"\n",
       "  1843.54,1042.47 1843.54,1446.71 1973.21,1446.71 1973.21,1042.47 1843.54,1042.47 \n",
       "  \"/>\n",
       "<path clip-path=\"url(#clip1602)\" d=\"\n",
       "M1973.21 1289.51 L1973.21 1446.71 L2102.88 1446.71 L2102.88 1289.51 L1973.21 1289.51 L1973.21 1289.51  Z\n",
       "  \" fill=\"#009af9\" fill-rule=\"evenodd\" fill-opacity=\"1\"/>\n",
       "<polyline clip-path=\"url(#clip1602)\" style=\"stroke:#000000; stroke-width:4; stroke-opacity:1; fill:none\" points=\"\n",
       "  1973.21,1289.51 1973.21,1446.71 2102.88,1446.71 2102.88,1289.51 1973.21,1289.51 \n",
       "  \"/>\n",
       "<path clip-path=\"url(#clip1602)\" d=\"\n",
       "M2102.88 1368.11 L2102.88 1446.71 L2232.55 1446.71 L2232.55 1368.11 L2102.88 1368.11 L2102.88 1368.11  Z\n",
       "  \" fill=\"#009af9\" fill-rule=\"evenodd\" fill-opacity=\"1\"/>\n",
       "<polyline clip-path=\"url(#clip1602)\" style=\"stroke:#000000; stroke-width:4; stroke-opacity:1; fill:none\" points=\"\n",
       "  2102.88,1368.11 2102.88,1446.71 2232.55,1446.71 2232.55,1368.11 2102.88,1368.11 \n",
       "  \"/>\n",
       "<path clip-path=\"url(#clip1600)\" d=\"\n",
       "M1989.93 251.724 L2280.76 251.724 L2280.76 130.764 L1989.93 130.764  Z\n",
       "  \" fill=\"#ffffff\" fill-rule=\"evenodd\" fill-opacity=\"1\"/>\n",
       "<polyline clip-path=\"url(#clip1600)\" style=\"stroke:#000000; stroke-width:4; stroke-opacity:1; fill:none\" points=\"\n",
       "  1989.93,251.724 2280.76,251.724 2280.76,130.764 1989.93,130.764 1989.93,251.724 \n",
       "  \"/>\n",
       "<path clip-path=\"url(#clip1600)\" d=\"\n",
       "M2013.93 215.436 L2157.93 215.436 L2157.93 167.052 L2013.93 167.052 L2013.93 215.436  Z\n",
       "  \" fill=\"#009af9\" fill-rule=\"evenodd\" fill-opacity=\"1\"/>\n",
       "<polyline clip-path=\"url(#clip1600)\" style=\"stroke:#000000; stroke-width:4; stroke-opacity:1; fill:none\" points=\"\n",
       "  2013.93,215.436 2157.93,215.436 2157.93,167.052 2013.93,167.052 2013.93,215.436 \n",
       "  \"/>\n",
       "<g clip-path=\"url(#clip1600)\">\n",
       "<text style=\"fill:#000000; fill-opacity:1; font-family:Arial,Helvetica Neue,Helvetica,sans-serif; font-size:48px; text-anchor:start;\" transform=\"rotate(0, 2181.93, 208.744)\" x=\"2181.93\" y=\"208.744\">y1</text>\n",
       "</g>\n",
       "</svg>\n"
      ]
     },
     "execution_count": 153,
     "metadata": {},
     "output_type": "execute_result"
    }
   ],
   "source": [
    "histogram([rand(Dirichlet([5, 5, 1]))[1] for _ in 1:1000])"
   ]
  },
  {
   "cell_type": "code",
   "execution_count": 73,
   "metadata": {},
   "outputs": [
    {
     "data": {
      "text/plain": [
       "get_chains (generic function with 2 methods)"
      ]
     },
     "execution_count": 73,
     "metadata": {},
     "output_type": "execute_result"
    }
   ],
   "source": [
    "@model min_model(xs) = begin\n",
    "    for x in xs\n",
    "        choice ~ Bernoulli(0.3)\n",
    "        if choice == 0\n",
    "            x ~ Beta(1, 10)\n",
    "        else\n",
    "            x ~ Beta(10, 1)\n",
    "        end\n",
    "    end\n",
    "end\n",
    "\n",
    "function get_chains(data)::Chains\n",
    "    sample(min_model(data), PG(10), 100)\n",
    "end"
   ]
  },
  {
   "cell_type": "code",
   "execution_count": 38,
   "metadata": {},
   "outputs": [
    {
     "name": "stderr",
     "output_type": "stream",
     "text": [
      "┌ Error: Failed to revise /home/keorn/Documents/mangrove/aggregator/src/Model.jl\n",
      "│   exception = (StackOverflowError(), Union{Ptr{Nothing}, Base.InterpreterIP}[Ptr{Nothing} @0x00007f7d83b9f93a])\n",
      "└ @ Revise /home/keorn/.julia/packages/Revise/SZ4ae/src/Revise.jl:590\n",
      "┌ Warning: Due to a previously reported error, the running code does not match saved version for the following files:\n",
      "│ \n",
      "│   /home/keorn/Documents/mangrove/aggregator/src/Model.jl\n",
      "│ \n",
      "│ Use Revise.errors() to report errors again.\n",
      "└ @ Revise /home/keorn/.julia/packages/Revise/SZ4ae/src/Revise.jl:648\n"
     ]
    }
   ],
   "source": [
    "using Aggregator.Job: store_qualities"
   ]
  },
  {
   "cell_type": "code",
   "execution_count": 39,
   "metadata": {},
   "outputs": [
    {
     "name": "stderr",
     "output_type": "stream",
     "text": [
      "┌ Warning: Due to a previously reported error, the running code does not match saved version for the following files:\n",
      "│ \n",
      "│   /home/keorn/Documents/mangrove/aggregator/src/Model.jl\n",
      "│ \n",
      "│ Use Revise.errors() to report errors again.\n",
      "└ @ Revise /home/keorn/.julia/packages/Revise/SZ4ae/src/Revise.jl:648\n"
     ]
    },
    {
     "ename": "MethodError",
     "evalue": "MethodError: no method matching get_chains(::Dict{ReviewInfo,Aggregator.MangroveBase.ReviewContent})\nClosest candidates are:\n  get_chains(!Matched::Dict{ReviewInfo,Tuple{Float64,Bool}}) at /home/keorn/Documents/mangrove/aggregator/src/Model.jl:20",
     "output_type": "error",
     "traceback": [
      "MethodError: no method matching get_chains(::Dict{ReviewInfo,Aggregator.MangroveBase.ReviewContent})\nClosest candidates are:\n  get_chains(!Matched::Dict{ReviewInfo,Tuple{Float64,Bool}}) at /home/keorn/Documents/mangrove/aggregator/src/Model.jl:20",
      "",
      "Stacktrace:",
      " [1] |>(::Dict{ReviewInfo,Aggregator.MangroveBase.ReviewContent}, ::typeof(Aggregator.Model.get_chains)) at ./operators.jl:854",
      " [2] store_qualities(::String) at /home/keorn/Documents/mangrove/aggregator/src/Job.jl:8 (repeats 2 times)",
      " [3] top-level scope at In[39]:1"
     ]
    }
   ],
   "source": [
    "store_qualities()"
   ]
  },
  {
   "cell_type": "code",
   "execution_count": 74,
   "metadata": {},
   "outputs": [
    {
     "data": {
      "text/plain": [
       "Object of type Chains, with data of type 100×5×1 Array{Real,3}\n",
       "\n",
       "Log evidence      = 0.0\n",
       "Iterations        = 1:100\n",
       "Thinning interval = 1\n",
       "Chains            = 1\n",
       "Samples per chain = 100\n",
       "internals         = le, lp, weight\n",
       "parameters        = choice, x\n",
       "\n",
       "2-element Array{ChainDataFrame,1}\n",
       "\n",
       "Summary Statistics\n",
       "  parameters    mean     std  naive_se     mcse       ess   r_hat\n",
       "  ──────────  ──────  ──────  ────────  ───────  ────────  ──────\n",
       "      choice  0.3700  0.4852    0.0485  missing  173.6090  0.9904\n",
       "           x  0.4050  0.4174    0.0417  missing  188.9861  0.9900\n",
       "\n",
       "Quantiles\n",
       "  parameters    2.5%   25.0%   50.0%   75.0%   97.5%\n",
       "  ──────────  ──────  ──────  ──────  ──────  ──────\n",
       "      choice  0.0000  0.0000  0.0000  1.0000  1.0000\n",
       "           x  0.0055  0.0482  0.1269  0.9104  0.9986\n"
      ]
     },
     "execution_count": 74,
     "metadata": {},
     "output_type": "execute_result"
    }
   ],
   "source": [
    "get_chains(collect(0.1:0.1:0.9))"
   ]
  },
  {
   "cell_type": "code",
   "execution_count": 41,
   "metadata": {},
   "outputs": [
    {
     "data": {
      "text/plain": [
       "get_opt (generic function with 1 method)"
      ]
     },
     "execution_count": 41,
     "metadata": {},
     "output_type": "execute_result"
    }
   ],
   "source": [
    "using Optim\n",
    "function get_nlogp(model)\n",
    "    # Construct a trace struct\n",
    "    vi = Turing.VarInfo(model)\n",
    "\n",
    "    # Define a function to optimize.\n",
    "    function nlogp(qualities)\n",
    "        spl = Turing.SampleFromPrior()\n",
    "        new_vi = Turing.VarInfo(vi, spl, qualities)\n",
    "        model(new_vi, spl)\n",
    "        -Turing.getlogp(new_vi)\n",
    "    end\n",
    "\n",
    "    return nlogp\n",
    "end\n",
    "\n",
    "function get_opt(raw_data::MangroveData)::Chains\n",
    "    normal_data = Dict{RatingInfo, Float64}()\n",
    "    for key in keys(raw_data)\n",
    "        normal_data[key] = normalize(raw_data[key])\n",
    "    end\n",
    "    typical_rating = mean(values(normal_data))\n",
    "    nlogp = get_nlogp(mangrove_model(normal_data, typical_rating))\n",
    "    # Create a starting point, call the optimizer.\n",
    "    qualities_0 = fill(typical_rating, 11)\n",
    "    lb = zeros(11)\n",
    "    ub = ones(11)\n",
    "    optimize(nlogp, lb, ub, qualities_0, Fminbox())\n",
    "end\n",
    "get_opt(raw_data)"
   ]
  },
  {
   "cell_type": "code",
   "execution_count": 57,
   "metadata": {},
   "outputs": [],
   "source": [
    "using Aggregator: store_inferred"
   ]
  },
  {
   "cell_type": "code",
   "execution_count": 62,
   "metadata": {},
   "outputs": [
    {
     "ename": "MethodError",
     "evalue": "MethodError: no method matching get_chains(::Dict{ReviewInfo,Aggregator.MangroveBase.ReviewContent})\nClosest candidates are:\n  get_chains(!Matched::Dict{ReviewInfo,Tuple{Float64,Bool}}) at /home/keorn/Documents/mangrove/aggregator/src/Model.jl:20",
     "output_type": "error",
     "traceback": [
      "MethodError: no method matching get_chains(::Dict{ReviewInfo,Aggregator.MangroveBase.ReviewContent})\nClosest candidates are:\n  get_chains(!Matched::Dict{ReviewInfo,Tuple{Float64,Bool}}) at /home/keorn/Documents/mangrove/aggregator/src/Model.jl:20",
      "",
      "Stacktrace:",
      " [1] |>(::Dict{ReviewInfo,Aggregator.MangroveBase.ReviewContent}, ::typeof(Aggregator.Model.get_chains)) at ./operators.jl:854",
      " [2] store_inferred(::String) at /home/keorn/Documents/mangrove/aggregator/src/Job.jl:8 (repeats 2 times)",
      " [3] top-level scope at In[62]:1"
     ]
    }
   ],
   "source": [
    "store_inferred()"
   ]
  },
  {
   "cell_type": "code",
   "execution_count": null,
   "metadata": {},
   "outputs": [],
   "source": []
  }
 ],
 "metadata": {
  "kernelspec": {
   "display_name": "Julia 1.3.1",
   "language": "julia",
   "name": "julia-1.3"
  },
  "language_info": {
   "file_extension": ".jl",
   "mimetype": "application/julia",
   "name": "julia",
   "version": "1.3.1"
  }
 },
 "nbformat": 4,
 "nbformat_minor": 4
}
