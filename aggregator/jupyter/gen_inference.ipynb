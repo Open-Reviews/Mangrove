{
 "cells": [
  {
   "cell_type": "code",
   "execution_count": 1,
   "metadata": {},
   "outputs": [],
   "source": [
    "using Revise"
   ]
  },
  {
   "cell_type": "code",
   "execution_count": 2,
   "metadata": {},
   "outputs": [
    {
     "name": "stderr",
     "output_type": "stream",
     "text": [
      "┌ Info: Precompiling Aggregator [4a3d2a9a-0013-11ea-2af0-ed3f69e46738]\n",
      "└ @ Base loading.jl:1273\n"
     ]
    }
   ],
   "source": [
    "using Aggregator"
   ]
  },
  {
   "cell_type": "code",
   "execution_count": 3,
   "metadata": {},
   "outputs": [],
   "source": [
    "using Gen"
   ]
  },
  {
   "cell_type": "code",
   "execution_count": 48,
   "metadata": {},
   "outputs": [],
   "source": [
    "using Plots"
   ]
  },
  {
   "cell_type": "code",
   "execution_count": 37,
   "metadata": {},
   "outputs": [
    {
     "data": {
      "text/plain": [
       "Dict{RatingInfo,Int64} with 8 entries:\n",
       "  RatingInfo(\"2\", \"8\") => 2\n",
       "  RatingInfo(\"2\", \"6\") => 2\n",
       "  RatingInfo(\"2\", \"4\") => 2\n",
       "  RatingInfo(\"1\", \"1\") => 1\n",
       "  RatingInfo(\"1\", \"5\") => 1\n",
       "  RatingInfo(\"1\", \"7\") => 1\n",
       "  RatingInfo(\"2\", \"2\") => 2\n",
       "  RatingInfo(\"1\", \"3\") => 1"
      ]
     },
     "execution_count": 37,
     "metadata": {},
     "output_type": "execute_result"
    }
   ],
   "source": [
    "data = generate_data(2, 8)"
   ]
  },
  {
   "cell_type": "code",
   "execution_count": 70,
   "metadata": {},
   "outputs": [
    {
     "data": {
      "text/plain": [
       "Dict{RatingInfo,Int64} with 41 entries:\n",
       "  RatingInfo(\"https://f-droid.org\", \"-----BEGIN PUBLIC KEY-----MFkwEwYHKoZ… => 4\n",
       "  RatingInfo(\"urn:maresi:x60afu-1J70vqlWS0eh1lh9wX0caBx88vkMKYcqDgKhsFWwF2… => 5\n",
       "  RatingInfo(\"geo:52.29096405,14.060294292125526?q=SaarowTherme&u=30\", \"--… => 3\n",
       "  RatingInfo(\"https://nytimes.com\", \"-----BEGIN PUBLIC KEY-----MFkwEwYHKoZ… => 5\n",
       "  RatingInfo(\"geo:47.2533249,8.7800877?q=Baumgarten&u=30\", \"-----BEGIN PUB… => 3\n",
       "  RatingInfo(\"geo:47.1718112,8.5137931?q=Reformierte Kirche&u=30\", \"-----B… => 5\n",
       "  RatingInfo(\"geo:47.3869001,8.5170453?q=Maag MusicHall&u=30\", \"-----BEGIN… => 4\n",
       "  RatingInfo(\"geo:47.4133982,9.348073?q=TSO AG&u=30\", \"-----BEGIN PUBLIC K… => 5\n",
       "  RatingInfo(\"geo:-41.1350512,-71.2935964?q=La Fonda del Tío&u=30\", \"-----… => 4\n",
       "  RatingInfo(\"https://postgis.net\", \"-----BEGIN PUBLIC KEY-----MFkwEwYHKoZ… => 4\n",
       "  RatingInfo(\"geo:-34.5940268,-58.4469043?q=Bohemios&u=30\", \"-----BEGIN PU… => 4\n",
       "  RatingInfo(\"geo:47.1437602,8.5337843?q=Zugerberg&u=30\", \"-----BEGIN PUBL… => 4\n",
       "  RatingInfo(\"geo:47.1671127,8.5157744?q=Juan Long&u=30\", \"-----BEGIN PUBL… => 3\n",
       "  RatingInfo(\"https://vuetifyjs.com\", \"-----BEGIN PUBLIC KEY-----MFkwEwYHK… => 3\n",
       "  RatingInfo(\"geo:51.9262145,4.4788948?q=Restaurant De Jong&u=30\", \"-----B… => 5\n",
       "  RatingInfo(\"geo:-41.1982502,-71.4862753?q=Refugio Emilio Frey&u=30\", \"--… => 5\n",
       "  RatingInfo(\"geo:47.4133289,8.5522166?q=Hong-Kong Food Paradise&u=30\", \"-… => 4\n",
       "  RatingInfo(\"geo:51.1089776,17.0326689?q=Wroclaw&u=30\", \"-----BEGIN PUBLI… => 4\n",
       "  RatingInfo(\"https://rocket.rs\", \"-----BEGIN PUBLIC KEY-----MFkwEwYHKoZIz… => 4\n",
       "  RatingInfo(\"urn:maresi:OMDdikKH6Ke4u_j6GC_e5qPyE_XU1D5fKbIOQ3DakAdtYR7ic… => 5\n",
       "  RatingInfo(\"geo:48.753018749999995,9.631041102509345?q=Gasthaus Löwen&u=… => 4\n",
       "  RatingInfo(\"https://coronavirus.jhu.edu\", \"-----BEGIN PUBLIC KEY-----MFk… => 3\n",
       "  RatingInfo(\"geo:47.0002812,8.3983246?q=Bürgenstock&u=30\", \"-----BEGIN PU… => 4\n",
       "  RatingInfo(\"https://julialang.org\", \"-----BEGIN PUBLIC KEY-----MFkwEwYHK… => 4\n",
       "  RatingInfo(\"geo:46.414202849999995,6.9275531?q=Château de Chillon&u=30\",… => 4\n",
       "  ⋮                                                                         => ⋮"
      ]
     },
     "execution_count": 70,
     "metadata": {},
     "output_type": "execute_result"
    }
   ],
   "source": [
    "data = current_mangrove_ratings()"
   ]
  },
  {
   "cell_type": "code",
   "execution_count": 71,
   "metadata": {},
   "outputs": [
    {
     "name": "stdout",
     "output_type": "stream",
     "text": [
      "Running inference...\n",
      "MH iteration 2500 out of 50000 (5%)\n",
      "MH iteration 5000 out of 50000 (10%)\n",
      "MH iteration 7500 out of 50000 (15%)\n",
      "MH iteration 10000 out of 50000 (20%)\n",
      "MH iteration 12500 out of 50000 (25%)\n",
      "MH iteration 15000 out of 50000 (30%)\n",
      "MH iteration 17500 out of 50000 (35%)\n",
      "MH iteration 20000 out of 50000 (40%)\n",
      "MH iteration 22500 out of 50000 (45%)\n",
      "MH iteration 25000 out of 50000 (50%)\n",
      "MH iteration 27500 out of 50000 (55%)\n",
      "MH iteration 30000 out of 50000 (60%)\n",
      "MH iteration 32500 out of 50000 (65%)\n",
      "MH iteration 35000 out of 50000 (70%)\n",
      "MH iteration 37500 out of 50000 (75%)\n",
      "MH iteration 40000 out of 50000 (80%)\n",
      "MH iteration 42500 out of 50000 (85%)\n",
      "MH iteration 45000 out of 50000 (90%)\n",
      "MH iteration 47500 out of 50000 (95%)\n",
      "MH iteration 50000 out of 50000 (100%)\n"
     ]
    }
   ],
   "source": [
    "traces = get_traces(mangrove_model, data, 50000)[end-100:end];"
   ]
  },
  {
   "cell_type": "code",
   "execution_count": 72,
   "metadata": {},
   "outputs": [
    {
     "data": {
      "text/plain": [
       "1.675082069907063"
      ]
     },
     "execution_count": 72,
     "metadata": {},
     "output_type": "execute_result"
    }
   ],
   "source": [
    "mean_l2(data, traces)"
   ]
  },
  {
   "cell_type": "code",
   "execution_count": 65,
   "metadata": {},
   "outputs": [
    {
     "data": {
      "text/plain": [
       "-23.827415250348025"
      ]
     },
     "execution_count": 65,
     "metadata": {},
     "output_type": "execute_result"
    }
   ],
   "source": [
    "get_score(traces[end])"
   ]
  },
  {
   "cell_type": "code",
   "execution_count": 77,
   "metadata": {},
   "outputs": [
    {
     "data": {
      "image/svg+xml": [
       "<?xml version=\"1.0\" encoding=\"utf-8\"?>\n",
       "<svg xmlns=\"http://www.w3.org/2000/svg\" xmlns:xlink=\"http://www.w3.org/1999/xlink\" width=\"600\" height=\"400\" viewBox=\"0 0 2400 1600\">\n",
       "<defs>\n",
       "  <clipPath id=\"clip6200\">\n",
       "    <rect x=\"0\" y=\"0\" width=\"2400\" height=\"1600\"/>\n",
       "  </clipPath>\n",
       "</defs>\n",
       "<path clip-path=\"url(#clip6200)\" d=\"\n",
       "M0 1600 L2400 1600 L2400 0 L0 0  Z\n",
       "  \" fill=\"#ffffff\" fill-rule=\"evenodd\" fill-opacity=\"1\"/>\n",
       "<defs>\n",
       "  <clipPath id=\"clip6201\">\n",
       "    <rect x=\"480\" y=\"0\" width=\"1681\" height=\"1600\"/>\n",
       "  </clipPath>\n",
       "</defs>\n",
       "<path clip-path=\"url(#clip6200)\" d=\"\n",
       "M140.517 1487.47 L2352.76 1487.47 L2352.76 47.2441 L140.517 47.2441  Z\n",
       "  \" fill=\"#ffffff\" fill-rule=\"evenodd\" fill-opacity=\"1\"/>\n",
       "<defs>\n",
       "  <clipPath id=\"clip6202\">\n",
       "    <rect x=\"140\" y=\"47\" width=\"2213\" height=\"1441\"/>\n",
       "  </clipPath>\n",
       "</defs>\n",
       "<polyline clip-path=\"url(#clip6202)\" style=\"stroke:#000000; stroke-width:2; stroke-opacity:0.1; fill:none\" points=\"\n",
       "  262.194,1487.47 262.194,47.2441 \n",
       "  \"/>\n",
       "<polyline clip-path=\"url(#clip6202)\" style=\"stroke:#000000; stroke-width:2; stroke-opacity:0.1; fill:none\" points=\"\n",
       "  655.971,1487.47 655.971,47.2441 \n",
       "  \"/>\n",
       "<polyline clip-path=\"url(#clip6202)\" style=\"stroke:#000000; stroke-width:2; stroke-opacity:0.1; fill:none\" points=\"\n",
       "  1049.75,1487.47 1049.75,47.2441 \n",
       "  \"/>\n",
       "<polyline clip-path=\"url(#clip6202)\" style=\"stroke:#000000; stroke-width:2; stroke-opacity:0.1; fill:none\" points=\"\n",
       "  1443.52,1487.47 1443.52,47.2441 \n",
       "  \"/>\n",
       "<polyline clip-path=\"url(#clip6202)\" style=\"stroke:#000000; stroke-width:2; stroke-opacity:0.1; fill:none\" points=\"\n",
       "  1837.3,1487.47 1837.3,47.2441 \n",
       "  \"/>\n",
       "<polyline clip-path=\"url(#clip6202)\" style=\"stroke:#000000; stroke-width:2; stroke-opacity:0.1; fill:none\" points=\"\n",
       "  2231.08,1487.47 2231.08,47.2441 \n",
       "  \"/>\n",
       "<polyline clip-path=\"url(#clip6202)\" style=\"stroke:#000000; stroke-width:2; stroke-opacity:0.1; fill:none\" points=\"\n",
       "  140.517,1446.71 2352.76,1446.71 \n",
       "  \"/>\n",
       "<polyline clip-path=\"url(#clip6202)\" style=\"stroke:#000000; stroke-width:2; stroke-opacity:0.1; fill:none\" points=\"\n",
       "  140.517,1084.39 2352.76,1084.39 \n",
       "  \"/>\n",
       "<polyline clip-path=\"url(#clip6202)\" style=\"stroke:#000000; stroke-width:2; stroke-opacity:0.1; fill:none\" points=\"\n",
       "  140.517,722.069 2352.76,722.069 \n",
       "  \"/>\n",
       "<polyline clip-path=\"url(#clip6202)\" style=\"stroke:#000000; stroke-width:2; stroke-opacity:0.1; fill:none\" points=\"\n",
       "  140.517,359.747 2352.76,359.747 \n",
       "  \"/>\n",
       "<polyline clip-path=\"url(#clip6200)\" style=\"stroke:#000000; stroke-width:4; stroke-opacity:1; fill:none\" points=\"\n",
       "  140.517,1487.47 2352.76,1487.47 \n",
       "  \"/>\n",
       "<polyline clip-path=\"url(#clip6200)\" style=\"stroke:#000000; stroke-width:4; stroke-opacity:1; fill:none\" points=\"\n",
       "  140.517,1487.47 140.517,47.2441 \n",
       "  \"/>\n",
       "<polyline clip-path=\"url(#clip6200)\" style=\"stroke:#000000; stroke-width:4; stroke-opacity:1; fill:none\" points=\"\n",
       "  262.194,1487.47 262.194,1470.19 \n",
       "  \"/>\n",
       "<polyline clip-path=\"url(#clip6200)\" style=\"stroke:#000000; stroke-width:4; stroke-opacity:1; fill:none\" points=\"\n",
       "  655.971,1487.47 655.971,1470.19 \n",
       "  \"/>\n",
       "<polyline clip-path=\"url(#clip6200)\" style=\"stroke:#000000; stroke-width:4; stroke-opacity:1; fill:none\" points=\"\n",
       "  1049.75,1487.47 1049.75,1470.19 \n",
       "  \"/>\n",
       "<polyline clip-path=\"url(#clip6200)\" style=\"stroke:#000000; stroke-width:4; stroke-opacity:1; fill:none\" points=\"\n",
       "  1443.52,1487.47 1443.52,1470.19 \n",
       "  \"/>\n",
       "<polyline clip-path=\"url(#clip6200)\" style=\"stroke:#000000; stroke-width:4; stroke-opacity:1; fill:none\" points=\"\n",
       "  1837.3,1487.47 1837.3,1470.19 \n",
       "  \"/>\n",
       "<polyline clip-path=\"url(#clip6200)\" style=\"stroke:#000000; stroke-width:4; stroke-opacity:1; fill:none\" points=\"\n",
       "  2231.08,1487.47 2231.08,1470.19 \n",
       "  \"/>\n",
       "<polyline clip-path=\"url(#clip6200)\" style=\"stroke:#000000; stroke-width:4; stroke-opacity:1; fill:none\" points=\"\n",
       "  140.517,1446.71 167.064,1446.71 \n",
       "  \"/>\n",
       "<polyline clip-path=\"url(#clip6200)\" style=\"stroke:#000000; stroke-width:4; stroke-opacity:1; fill:none\" points=\"\n",
       "  140.517,1084.39 167.064,1084.39 \n",
       "  \"/>\n",
       "<polyline clip-path=\"url(#clip6200)\" style=\"stroke:#000000; stroke-width:4; stroke-opacity:1; fill:none\" points=\"\n",
       "  140.517,722.069 167.064,722.069 \n",
       "  \"/>\n",
       "<polyline clip-path=\"url(#clip6200)\" style=\"stroke:#000000; stroke-width:4; stroke-opacity:1; fill:none\" points=\"\n",
       "  140.517,359.747 167.064,359.747 \n",
       "  \"/>\n",
       "<g clip-path=\"url(#clip6200)\">\n",
       "<text style=\"fill:#000000; fill-opacity:1; font-family:Arial,Helvetica Neue,Helvetica,sans-serif; font-size:48px; text-anchor:middle;\" transform=\"rotate(0, 262.194, 1541.47)\" x=\"262.194\" y=\"1541.47\">1</text>\n",
       "</g>\n",
       "<g clip-path=\"url(#clip6200)\">\n",
       "<text style=\"fill:#000000; fill-opacity:1; font-family:Arial,Helvetica Neue,Helvetica,sans-serif; font-size:48px; text-anchor:middle;\" transform=\"rotate(0, 655.971, 1541.47)\" x=\"655.971\" y=\"1541.47\">2</text>\n",
       "</g>\n",
       "<g clip-path=\"url(#clip6200)\">\n",
       "<text style=\"fill:#000000; fill-opacity:1; font-family:Arial,Helvetica Neue,Helvetica,sans-serif; font-size:48px; text-anchor:middle;\" transform=\"rotate(0, 1049.75, 1541.47)\" x=\"1049.75\" y=\"1541.47\">3</text>\n",
       "</g>\n",
       "<g clip-path=\"url(#clip6200)\">\n",
       "<text style=\"fill:#000000; fill-opacity:1; font-family:Arial,Helvetica Neue,Helvetica,sans-serif; font-size:48px; text-anchor:middle;\" transform=\"rotate(0, 1443.52, 1541.47)\" x=\"1443.52\" y=\"1541.47\">4</text>\n",
       "</g>\n",
       "<g clip-path=\"url(#clip6200)\">\n",
       "<text style=\"fill:#000000; fill-opacity:1; font-family:Arial,Helvetica Neue,Helvetica,sans-serif; font-size:48px; text-anchor:middle;\" transform=\"rotate(0, 1837.3, 1541.47)\" x=\"1837.3\" y=\"1541.47\">5</text>\n",
       "</g>\n",
       "<g clip-path=\"url(#clip6200)\">\n",
       "<text style=\"fill:#000000; fill-opacity:1; font-family:Arial,Helvetica Neue,Helvetica,sans-serif; font-size:48px; text-anchor:middle;\" transform=\"rotate(0, 2231.08, 1541.47)\" x=\"2231.08\" y=\"1541.47\">6</text>\n",
       "</g>\n",
       "<g clip-path=\"url(#clip6200)\">\n",
       "<text style=\"fill:#000000; fill-opacity:1; font-family:Arial,Helvetica Neue,Helvetica,sans-serif; font-size:48px; text-anchor:end;\" transform=\"rotate(0, 116.517, 1464.21)\" x=\"116.517\" y=\"1464.21\">0</text>\n",
       "</g>\n",
       "<g clip-path=\"url(#clip6200)\">\n",
       "<text style=\"fill:#000000; fill-opacity:1; font-family:Arial,Helvetica Neue,Helvetica,sans-serif; font-size:48px; text-anchor:end;\" transform=\"rotate(0, 116.517, 1101.89)\" x=\"116.517\" y=\"1101.89\">20</text>\n",
       "</g>\n",
       "<g clip-path=\"url(#clip6200)\">\n",
       "<text style=\"fill:#000000; fill-opacity:1; font-family:Arial,Helvetica Neue,Helvetica,sans-serif; font-size:48px; text-anchor:end;\" transform=\"rotate(0, 116.517, 739.569)\" x=\"116.517\" y=\"739.569\">40</text>\n",
       "</g>\n",
       "<g clip-path=\"url(#clip6200)\">\n",
       "<text style=\"fill:#000000; fill-opacity:1; font-family:Arial,Helvetica Neue,Helvetica,sans-serif; font-size:48px; text-anchor:end;\" transform=\"rotate(0, 116.517, 377.247)\" x=\"116.517\" y=\"377.247\">60</text>\n",
       "</g>\n",
       "<path clip-path=\"url(#clip6202)\" d=\"\n",
       "M262.194 88.0053 L262.194 1446.71 L655.971 1446.71 L655.971 88.0053 L262.194 88.0053 L262.194 88.0053  Z\n",
       "  \" fill=\"#009af9\" fill-rule=\"evenodd\" fill-opacity=\"1\"/>\n",
       "<polyline clip-path=\"url(#clip6202)\" style=\"stroke:#000000; stroke-width:4; stroke-opacity:1; fill:none\" points=\"\n",
       "  262.194,88.0053 262.194,1446.71 655.971,1446.71 655.971,88.0053 262.194,88.0053 \n",
       "  \"/>\n",
       "<path clip-path=\"url(#clip6202)\" d=\"\n",
       "M655.971 1446.71 L655.971 1446.71 L1049.75 1446.71 L1049.75 1446.71 L655.971 1446.71 L655.971 1446.71  Z\n",
       "  \" fill=\"#009af9\" fill-rule=\"evenodd\" fill-opacity=\"1\"/>\n",
       "<polyline clip-path=\"url(#clip6202)\" style=\"stroke:#000000; stroke-width:4; stroke-opacity:1; fill:none\" points=\"\n",
       "  655.971,1446.71 655.971,1446.71 1049.75,1446.71 655.971,1446.71 \n",
       "  \"/>\n",
       "<path clip-path=\"url(#clip6202)\" d=\"\n",
       "M1049.75 1446.71 L1049.75 1446.71 L1443.52 1446.71 L1443.52 1446.71 L1049.75 1446.71 L1049.75 1446.71  Z\n",
       "  \" fill=\"#009af9\" fill-rule=\"evenodd\" fill-opacity=\"1\"/>\n",
       "<polyline clip-path=\"url(#clip6202)\" style=\"stroke:#000000; stroke-width:4; stroke-opacity:1; fill:none\" points=\"\n",
       "  1049.75,1446.71 1049.75,1446.71 1443.52,1446.71 1049.75,1446.71 \n",
       "  \"/>\n",
       "<path clip-path=\"url(#clip6202)\" d=\"\n",
       "M1443.52 1338.02 L1443.52 1446.71 L1837.3 1446.71 L1837.3 1338.02 L1443.52 1338.02 L1443.52 1338.02  Z\n",
       "  \" fill=\"#009af9\" fill-rule=\"evenodd\" fill-opacity=\"1\"/>\n",
       "<polyline clip-path=\"url(#clip6202)\" style=\"stroke:#000000; stroke-width:4; stroke-opacity:1; fill:none\" points=\"\n",
       "  1443.52,1338.02 1443.52,1446.71 1837.3,1446.71 1837.3,1338.02 1443.52,1338.02 \n",
       "  \"/>\n",
       "<path clip-path=\"url(#clip6202)\" d=\"\n",
       "M1837.3 1084.39 L1837.3 1446.71 L2231.08 1446.71 L2231.08 1084.39 L1837.3 1084.39 L1837.3 1084.39  Z\n",
       "  \" fill=\"#009af9\" fill-rule=\"evenodd\" fill-opacity=\"1\"/>\n",
       "<polyline clip-path=\"url(#clip6202)\" style=\"stroke:#000000; stroke-width:4; stroke-opacity:1; fill:none\" points=\"\n",
       "  1837.3,1084.39 1837.3,1446.71 2231.08,1446.71 2231.08,1084.39 1837.3,1084.39 \n",
       "  \"/>\n",
       "<path clip-path=\"url(#clip6200)\" d=\"\n",
       "M1989.93 251.724 L2280.76 251.724 L2280.76 130.764 L1989.93 130.764  Z\n",
       "  \" fill=\"#ffffff\" fill-rule=\"evenodd\" fill-opacity=\"1\"/>\n",
       "<polyline clip-path=\"url(#clip6200)\" style=\"stroke:#000000; stroke-width:4; stroke-opacity:1; fill:none\" points=\"\n",
       "  1989.93,251.724 2280.76,251.724 2280.76,130.764 1989.93,130.764 1989.93,251.724 \n",
       "  \"/>\n",
       "<path clip-path=\"url(#clip6200)\" d=\"\n",
       "M2013.93 215.436 L2157.93 215.436 L2157.93 167.052 L2013.93 167.052 L2013.93 215.436  Z\n",
       "  \" fill=\"#009af9\" fill-rule=\"evenodd\" fill-opacity=\"1\"/>\n",
       "<polyline clip-path=\"url(#clip6200)\" style=\"stroke:#000000; stroke-width:4; stroke-opacity:1; fill:none\" points=\"\n",
       "  2013.93,215.436 2157.93,215.436 2157.93,167.052 2013.93,167.052 2013.93,215.436 \n",
       "  \"/>\n",
       "<g clip-path=\"url(#clip6200)\">\n",
       "<text style=\"fill:#000000; fill-opacity:1; font-family:Arial,Helvetica Neue,Helvetica,sans-serif; font-size:48px; text-anchor:start;\" transform=\"rotate(0, 2181.93, 208.744)\" x=\"2181.93\" y=\"208.744\">y1</text>\n",
       "</g>\n",
       "</svg>\n"
      ]
     },
     "execution_count": 77,
     "metadata": {},
     "output_type": "execute_result"
    }
   ],
   "source": [
    "histogram([trace[:quality => \"https://vuetifyjs.com\"] for trace in traces])"
   ]
  },
  {
   "cell_type": "code",
   "execution_count": 146,
   "metadata": {},
   "outputs": [
    {
     "name": "stdout",
     "output_type": "stream",
     "text": [
      "│\n",
      "├── RatingInfo(\"4\", \"4\")\n",
      "│   │\n",
      "│   └── :rating : 4\n",
      "│\n",
      "├── RatingInfo(\"1\", \"1\")\n",
      "│   │\n",
      "│   └── :rating : 1\n",
      "│\n",
      "├── RatingInfo(\"3\", \"3\")\n",
      "│   │\n",
      "│   └── :rating : 3\n",
      "│\n",
      "├── RatingInfo(\"5\", \"5\")\n",
      "│   │\n",
      "│   └── :rating : 5\n",
      "│\n",
      "├── RatingInfo(\"2\", \"2\")\n",
      "│   │\n",
      "│   └── :rating : 2\n",
      "│\n",
      "├── :quality\n",
      "│   │\n",
      "│   ├── \"4\" : 3\n",
      "│   │\n",
      "│   ├── \"1\" : 5\n",
      "│   │\n",
      "│   ├── \"5\" : 4\n",
      "│   │\n",
      "│   ├── \"2\" : 1\n",
      "│   │\n",
      "│   └── \"3\" : 4\n",
      "│\n",
      "└── :selected\n",
      "    │\n",
      "    ├── \"4\"\n",
      "    │   │\n",
      "    │   ├── \"4\" : true\n",
      "    │   │\n",
      "    │   ├── \"1\" : false\n",
      "    │   │\n",
      "    │   ├── \"5\" : false\n",
      "    │   │\n",
      "    │   ├── \"2\" : false\n",
      "    │   │\n",
      "    │   └── \"3\" : false\n",
      "    │\n",
      "    ├── \"1\"\n",
      "    │   │\n",
      "    │   ├── \"4\" : false\n",
      "    │   │\n",
      "    │   ├── \"1\" : true\n",
      "    │   │\n",
      "    │   ├── \"5\" : false\n",
      "    │   │\n",
      "    │   ├── \"2\" : false\n",
      "    │   │\n",
      "    │   └── \"3\" : false\n",
      "    │\n",
      "    ├── \"5\"\n",
      "    │   │\n",
      "    │   ├── \"4\" : false\n",
      "    │   │\n",
      "    │   ├── \"1\" : false\n",
      "    │   │\n",
      "    │   ├── \"5\" : true\n",
      "    │   │\n",
      "    │   ├── \"2\" : false\n",
      "    │   │\n",
      "    │   └── \"3\" : false\n",
      "    │\n",
      "    ├── \"2\"\n",
      "    │   │\n",
      "    │   ├── \"4\" : false\n",
      "    │   │\n",
      "    │   ├── \"1\" : false\n",
      "    │   │\n",
      "    │   ├── \"5\" : false\n",
      "    │   │\n",
      "    │   ├── \"2\" : true\n",
      "    │   │\n",
      "    │   └── \"3\" : false\n",
      "    │\n",
      "    └── \"3\"\n",
      "        │\n",
      "        ├── \"4\" : false\n",
      "        │\n",
      "        ├── \"1\" : false\n",
      "        │\n",
      "        ├── \"5\" : false\n",
      "        │\n",
      "        ├── \"2\" : false\n",
      "        │\n",
      "        └── \"3\" : true\n",
      "\n"
     ]
    }
   ],
   "source": [
    "traces[end] |> get_choices |> println"
   ]
  }
 ],
 "metadata": {
  "kernelspec": {
   "display_name": "Julia 1.3.1",
   "language": "julia",
   "name": "julia-1.3"
  },
  "language_info": {
   "file_extension": ".jl",
   "mimetype": "application/julia",
   "name": "julia",
   "version": "1.3.1"
  }
 },
 "nbformat": 4,
 "nbformat_minor": 4
}
