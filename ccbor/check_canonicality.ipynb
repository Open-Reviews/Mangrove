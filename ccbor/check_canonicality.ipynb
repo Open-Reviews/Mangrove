{
 "cells": [
  {
   "cell_type": "markdown",
   "metadata": {},
   "source": [
    "# Testing CBOR implementations for map encoding canonicality\n",
    "\n",
    "Tested:\n",
    "- [Julia](https://github.com/JuliaIO/CBOR.jl)\n",
    "- [Rust](https://docs.rs/serde_cbor/0.11.0/serde_cbor/)\n",
    "- [JS cbor](https://www.npmjs.com/package/cbor)\n",
    "- [JS borc](https://www.npmjs.com/package/borc)"
   ]
  },
  {
   "cell_type": "code",
   "execution_count": 216,
   "metadata": {},
   "outputs": [],
   "source": [
    "using CBOR, JSON"
   ]
  },
  {
   "cell_type": "code",
   "execution_count": 217,
   "metadata": {},
   "outputs": [
    {
     "data": {
      "text/plain": [
       "\"{\\\"c\\\":{\\\"b\\\":1,\\\"a\\\":2},\\\"b\\\":2,\\\"a\\\":1}\""
      ]
     },
     "execution_count": 217,
     "metadata": {},
     "output_type": "execute_result"
    }
   ],
   "source": [
    "data_dict = Dict(\"a\" => 1, \"b\" => 2, \"c\" => Dict(\"b\" => 1, \"a\" => 2))\n",
    "data_json = json(data_dict)"
   ]
  },
  {
   "cell_type": "code",
   "execution_count": 218,
   "metadata": {},
   "outputs": [
    {
     "data": {
      "text/plain": [
       "Dict{String,Any} with 5 entries:\n",
       "  \"sub\"      => \"geo:?q=47.1691576,8.514572(Juanitos)&u=30\"\n",
       "  \"iat\"      => 1578835560\n",
       "  \"iss\"      => \"BBmEKZciGMonT_G0CmiM4HdfM6o0ktuh3xIFadvc1TVgA0ZJUNIS6go0pX8jwS…\n",
       "  \"rating\"   => 75\n",
       "  \"metadata\" => Dict{String,Any}(\"client_uri\"=>\"https://mangrove.reviews\",\"gend…"
      ]
     },
     "execution_count": 218,
     "metadata": {},
     "output_type": "execute_result"
    }
   ],
   "source": [
    "data_json = \"\"\"{\"iss\":\"BBmEKZciGMonT_G0CmiM4HdfM6o0ktuh3xIFadvc1TVgA0ZJUNIS6go0pX8jwSUorbDfv27T_M9M9wldMFk6t00\",\"iat\":1578835560,\"sub\":\"geo:?q=47.1691576,8.514572(Juanitos)&u=30\",\"rating\":75,\"metadata\":{\"display_name\":\"dsafsa\",\"given_name\":\"sadf\",\"age\":23,\"gender\":\"Female\",\"client_uri\":\"https://mangrove.reviews\"}}\"\"\"\n",
    "data_dict = JSON.parse(data_json)"
   ]
  },
  {
   "cell_type": "code",
   "execution_count": 219,
   "metadata": {
    "scrolled": false
   },
   "outputs": [
    {
     "data": {
      "text/plain": [
       "280"
      ]
     },
     "execution_count": 219,
     "metadata": {},
     "output_type": "execute_result"
    }
   ],
   "source": [
    "encoded_jl = encode(data_dict)\n",
    "length(encoded_jl)"
   ]
  },
  {
   "cell_type": "code",
   "execution_count": 220,
   "metadata": {},
   "outputs": [
    {
     "data": {
      "text/plain": [
       "261"
      ]
     },
     "execution_count": 220,
     "metadata": {},
     "output_type": "execute_result"
    }
   ],
   "source": [
    "encoded_js_borc = `node js/cbor.js borc encode $data_json` |> open |> JSON.parse |> Vector{UInt8}\n",
    "length(encoded_js_borc)"
   ]
  },
  {
   "cell_type": "code",
   "execution_count": 221,
   "metadata": {},
   "outputs": [
    {
     "data": {
      "text/plain": [
       "261"
      ]
     },
     "execution_count": 221,
     "metadata": {},
     "output_type": "execute_result"
    }
   ],
   "source": [
    "encoded_js_cbor = `node js/cbor.js cbor encode $data_json` |> open |> JSON.parse |> Vector{UInt8}\n",
    "length(encoded_js_cbor)"
   ]
  },
  {
   "cell_type": "code",
   "execution_count": 222,
   "metadata": {},
   "outputs": [
    {
     "data": {
      "text/plain": [
       "261"
      ]
     },
     "execution_count": 222,
     "metadata": {},
     "output_type": "execute_result"
    }
   ],
   "source": [
    "encoded_rs = `./rust/target/debug/rust encode $data_json` |> open |> JSON.parse |> Vector{UInt8}\n",
    "length(encoded_rs)"
   ]
  },
  {
   "cell_type": "code",
   "execution_count": 223,
   "metadata": {},
   "outputs": [
    {
     "ename": "AssertionError",
     "evalue": "AssertionError: encoded_js_borc == encoded_js_cbor",
     "output_type": "error",
     "traceback": [
      "AssertionError: encoded_js_borc == encoded_js_cbor",
      "",
      "Stacktrace:",
      " [1] top-level scope at In[223]:1"
     ]
    }
   ],
   "source": [
    "@assert(encoded_js_borc == encoded_js_cbor)"
   ]
  },
  {
   "cell_type": "code",
   "execution_count": 224,
   "metadata": {},
   "outputs": [],
   "source": [
    "@assert(encoded_js_borc == encoded_rs)"
   ]
  },
  {
   "cell_type": "code",
   "execution_count": 225,
   "metadata": {},
   "outputs": [
    {
     "ename": "AssertionError",
     "evalue": "AssertionError: encoded_rs == encoded_jl",
     "output_type": "error",
     "traceback": [
      "AssertionError: encoded_rs == encoded_jl",
      "",
      "Stacktrace:",
      " [1] top-level scope at In[225]:1"
     ]
    }
   ],
   "source": [
    "@assert(encoded_rs == encoded_jl)"
   ]
  }
 ],
 "metadata": {
  "kernelspec": {
   "display_name": "Julia 1.3.0-rc4",
   "language": "julia",
   "name": "julia-1.3"
  },
  "language_info": {
   "file_extension": ".jl",
   "mimetype": "application/julia",
   "name": "julia",
   "version": "1.3.0"
  }
 },
 "nbformat": 4,
 "nbformat_minor": 2
}
