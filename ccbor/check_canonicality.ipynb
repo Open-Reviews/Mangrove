{
 "cells": [
  {
   "cell_type": "markdown",
   "metadata": {},
   "source": [
    "# Testing CBOR implementations for map encoding canonicality\n",
    "\n",
    "Tested:\n",
    "- [Julia](https://github.com/JuliaIO/CBOR.jl)\n",
    "- [Rust](https://docs.rs/serde_cbor/0.11.0/serde_cbor/)\n",
    "- [JS cbor](https://www.npmjs.com/package/cbor)\n",
    "- [JS borc](https://www.npmjs.com/package/borc)"
   ]
  },
  {
   "cell_type": "code",
   "execution_count": 227,
   "metadata": {},
   "outputs": [],
   "source": [
    "using CBOR, JSON, Test"
   ]
  },
  {
   "cell_type": "code",
   "execution_count": 217,
   "metadata": {},
   "outputs": [
    {
     "data": {
      "text/plain": [
       "\"{\\\"c\\\":{\\\"b\\\":1,\\\"a\\\":2},\\\"b\\\":2,\\\"a\\\":1}\""
      ]
     },
     "execution_count": 217,
     "metadata": {},
     "output_type": "execute_result"
    }
   ],
   "source": [
    "data_dict = Dict(\"a\" => 1, \"b\" => 2, \"c\" => Dict(\"b\" => 1, \"a\" => 2))\n",
    "data_json = json(data_dict)"
   ]
  },
  {
   "cell_type": "code",
   "execution_count": 218,
   "metadata": {},
   "outputs": [
    {
     "data": {
      "text/plain": [
       "Dict{String,Any} with 5 entries:\n",
       "  \"sub\"      => \"geo:?q=47.1691576,8.514572(Juanitos)&u=30\"\n",
       "  \"iat\"      => 1578835560\n",
       "  \"iss\"      => \"BBmEKZciGMonT_G0CmiM4HdfM6o0ktuh3xIFadvc1TVgA0ZJUNIS6go0pX8jwS…\n",
       "  \"rating\"   => 75\n",
       "  \"metadata\" => Dict{String,Any}(\"client_uri\"=>\"https://mangrove.reviews\",\"gend…"
      ]
     },
     "execution_count": 218,
     "metadata": {},
     "output_type": "execute_result"
    }
   ],
   "source": [
    "data_json = \"\"\"{\"iss\":\"BBmEKZciGMonT_G0CmiM4HdfM6o0ktuh3xIFadvc1TVgA0ZJUNIS6go0pX8jwSUorbDfv27T_M9M9wldMFk6t00\",\"iat\":1578835560,\"sub\":\"geo:?q=47.1691576,8.514572(Juanitos)&u=30\",\"rating\":75,\"metadata\":{\"display_name\":\"dsafsa\",\"given_name\":\"sadf\",\"age\":23,\"gender\":\"Female\",\"client_uri\":\"https://mangrove.reviews\"}}\"\"\"\n",
    "data_dict = JSON.parse(data_json)"
   ]
  },
  {
   "cell_type": "code",
   "execution_count": 219,
   "metadata": {
    "scrolled": false
   },
   "outputs": [
    {
     "data": {
      "text/plain": [
       "280"
      ]
     },
     "execution_count": 219,
     "metadata": {},
     "output_type": "execute_result"
    }
   ],
   "source": [
    "encoded_jl = encode(data_dict)\n",
    "length(encoded_jl)"
   ]
  },
  {
   "cell_type": "code",
   "execution_count": 220,
   "metadata": {},
   "outputs": [
    {
     "data": {
      "text/plain": [
       "261"
      ]
     },
     "execution_count": 220,
     "metadata": {},
     "output_type": "execute_result"
    }
   ],
   "source": [
    "encoded_js_borc = `node js/cbor.js borc encode $data_json` |> open |> JSON.parse |> Vector{UInt8}\n",
    "length(encoded_js_borc)"
   ]
  },
  {
   "cell_type": "code",
   "execution_count": 221,
   "metadata": {},
   "outputs": [
    {
     "data": {
      "text/plain": [
       "261"
      ]
     },
     "execution_count": 221,
     "metadata": {},
     "output_type": "execute_result"
    }
   ],
   "source": [
    "encoded_js_cbor = `node js/cbor.js cbor encode $data_json` |> open |> JSON.parse |> Vector{UInt8}\n",
    "length(encoded_js_cbor)"
   ]
  },
  {
   "cell_type": "code",
   "execution_count": 222,
   "metadata": {},
   "outputs": [
    {
     "data": {
      "text/plain": [
       "261"
      ]
     },
     "execution_count": 222,
     "metadata": {},
     "output_type": "execute_result"
    }
   ],
   "source": [
    "encoded_rs = `./rust/target/debug/rust encode $data_json` |> open |> JSON.parse |> Vector{UInt8}\n",
    "length(encoded_rs)"
   ]
  },
  {
   "cell_type": "code",
   "execution_count": 230,
   "metadata": {},
   "outputs": [
    {
     "name": "stdout",
     "output_type": "stream",
     "text": [
      "\u001b[37mJS CBOR libs: \u001b[39m\u001b[91m\u001b[1mTest Failed\u001b[22m\u001b[39m at \u001b[39m\u001b[1mIn[230]:2\u001b[22m\n",
      "  Expression: encoded_js_borc == encoded_js_cbor\n",
      "   Evaluated: UInt8[0xa5, 0x63, 0x69, 0x61, 0x74, 0x1a, 0x5e, 0x1b, 0x1e, 0x68  …  0x61, 0x6d, 0x65, 0x66, 0x64, 0x73, 0x61, 0x66, 0x73, 0x61] == UInt8[0xa5, 0x63, 0x69, 0x73, 0x73, 0x78, 0x57, 0x42, 0x42, 0x6d  …  0x76, 0x65, 0x2e, 0x72, 0x65, 0x76, 0x69, 0x65, 0x77, 0x73]\n",
      "Stacktrace:\n",
      " [1] top-level scope at \u001b[1mIn[230]:2\u001b[22m\n",
      " [2] top-level scope at \u001b[1m/buildworker/worker/package_linux64/build/usr/share/julia/stdlib/v1.3/Test/src/Test.jl:1107\u001b[22m\n",
      " [3] top-level scope at \u001b[1mIn[230]:2\u001b[22m\n",
      "\u001b[37m\u001b[1mTest Summary: | \u001b[22m\u001b[39m\u001b[32m\u001b[1mPass  \u001b[22m\u001b[39m\u001b[91m\u001b[1mFail  \u001b[22m\u001b[39m\u001b[36m\u001b[1mTotal\u001b[22m\u001b[39m\n",
      "JS CBOR libs  | \u001b[32m   1  \u001b[39m\u001b[91m   1  \u001b[39m\u001b[36m    2\u001b[39m\n"
     ]
    },
    {
     "ename": "TestSetException",
     "evalue": "Some tests did not pass: 1 passed, 1 failed, 0 errored, 0 broken.",
     "output_type": "error",
     "traceback": [
      "Some tests did not pass: 1 passed, 1 failed, 0 errored, 0 broken.",
      "",
      "Stacktrace:",
      " [1] finish(::Test.DefaultTestSet) at /buildworker/worker/package_linux64/build/usr/share/julia/stdlib/v1.3/Test/src/Test.jl:870",
      " [2] top-level scope at /buildworker/worker/package_linux64/build/usr/share/julia/stdlib/v1.3/Test/src/Test.jl:1117",
      " [3] top-level scope at In[230]:2"
     ]
    }
   ],
   "source": [
    "@testset \"JS CBOR libs\" begin\n",
    "  @test encoded_js_borc == encoded_js_cbor\n",
    "  @test decode(encoded_js_borc) == decode(encoded_js_cbor)\n",
    "end"
   ]
  },
  {
   "cell_type": "code",
   "execution_count": 231,
   "metadata": {},
   "outputs": [
    {
     "name": "stdout",
     "output_type": "stream",
     "text": [
      "\u001b[37m\u001b[1mTest Summary:        | \u001b[22m\u001b[39m\u001b[32m\u001b[1mPass  \u001b[22m\u001b[39m\u001b[36m\u001b[1mTotal\u001b[22m\u001b[39m\n",
      "JS vs Rust CBOR libs | \u001b[32m   2  \u001b[39m\u001b[36m    2\u001b[39m\n"
     ]
    },
    {
     "data": {
      "text/plain": [
       "Test.DefaultTestSet(\"JS vs Rust CBOR libs\", Any[], 2, false)"
      ]
     },
     "execution_count": 231,
     "metadata": {},
     "output_type": "execute_result"
    }
   ],
   "source": [
    "@testset \"JS vs Rust CBOR libs\" begin\n",
    "  @test encoded_js_borc == encoded_rs\n",
    "  @test decode(encoded_js_borc) == decode(encoded_rs)\n",
    "end"
   ]
  },
  {
   "cell_type": "code",
   "execution_count": 232,
   "metadata": {},
   "outputs": [
    {
     "name": "stdout",
     "output_type": "stream",
     "text": [
      "\u001b[37mJulia vs Rust CBOR libs: \u001b[39m\u001b[91m\u001b[1mTest Failed\u001b[22m\u001b[39m at \u001b[39m\u001b[1mIn[232]:2\u001b[22m\n",
      "  Expression: encoded_rs == encoded_jl\n",
      "   Evaluated: UInt8[0xa5, 0x63, 0x69, 0x61, 0x74, 0x1a, 0x5e, 0x1b, 0x1e, 0x68  …  0x61, 0x6d, 0x65, 0x66, 0x64, 0x73, 0x61, 0x66, 0x73, 0x61] == UInt8[0xa5, 0x63, 0x73, 0x75, 0x62, 0x78, 0x29, 0x67, 0x65, 0x6f  …  0x65, 0x3b, 0xff, 0xff, 0xff, 0xff, 0xff, 0xff, 0xff, 0xe8]\n",
      "Stacktrace:\n",
      " [1] top-level scope at \u001b[1mIn[232]:2\u001b[22m\n",
      " [2] top-level scope at \u001b[1m/buildworker/worker/package_linux64/build/usr/share/julia/stdlib/v1.3/Test/src/Test.jl:1107\u001b[22m\n",
      " [3] top-level scope at \u001b[1mIn[232]:2\u001b[22m\n",
      "\u001b[37m\u001b[1mTest Summary:           | \u001b[22m\u001b[39m\u001b[32m\u001b[1mPass  \u001b[22m\u001b[39m\u001b[91m\u001b[1mFail  \u001b[22m\u001b[39m\u001b[36m\u001b[1mTotal\u001b[22m\u001b[39m\n",
      "Julia vs Rust CBOR libs | \u001b[32m   1  \u001b[39m\u001b[91m   1  \u001b[39m\u001b[36m    2\u001b[39m\n"
     ]
    },
    {
     "ename": "TestSetException",
     "evalue": "Some tests did not pass: 1 passed, 1 failed, 0 errored, 0 broken.",
     "output_type": "error",
     "traceback": [
      "Some tests did not pass: 1 passed, 1 failed, 0 errored, 0 broken.",
      "",
      "Stacktrace:",
      " [1] finish(::Test.DefaultTestSet) at /buildworker/worker/package_linux64/build/usr/share/julia/stdlib/v1.3/Test/src/Test.jl:870",
      " [2] top-level scope at /buildworker/worker/package_linux64/build/usr/share/julia/stdlib/v1.3/Test/src/Test.jl:1117",
      " [3] top-level scope at In[232]:2"
     ]
    }
   ],
   "source": [
    "@testset \"Julia vs Rust CBOR libs\" begin\n",
    "  @test encoded_rs == encoded_jl\n",
    "  @test decode(encoded_rs) == decode(encoded_jl)\n",
    "end"
   ]
  },
  {
   "cell_type": "markdown",
   "metadata": {},
   "source": [
    "## Results\n",
    "\n",
    "All libraries manage to preserve semantics of encoded message.\n",
    "\n",
    "- Julia uses some tags during encoding resulting in a different length message.\n",
    "- JS `cbor` library does not seem to encode canonical CBOR.\n",
    "- Rust encodes canonical CBOR as long as it does not do it from a `Serialize`able struct, but from `serde_cbor::Value` "
   ]
  }
 ],
 "metadata": {
  "kernelspec": {
   "display_name": "Julia 1.3.0-rc4",
   "language": "julia",
   "name": "julia-1.3"
  },
  "language_info": {
   "file_extension": ".jl",
   "mimetype": "application/julia",
   "name": "julia",
   "version": "1.3.0"
  }
 },
 "nbformat": 4,
 "nbformat_minor": 2
}
