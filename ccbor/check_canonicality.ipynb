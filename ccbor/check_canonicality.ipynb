{
 "cells": [
  {
   "cell_type": "markdown",
   "metadata": {},
   "source": [
    "# Testing CBOR implementations for map encoding canonicality\n",
    "\n",
    "Tested:\n",
    "- [Julia](https://github.com/JuliaIO/CBOR.jl)\n",
    "- [Rust](https://docs.rs/serde_cbor/0.11.0/serde_cbor/)\n",
    "- [JS cbor](https://www.npmjs.com/package/cbor)\n",
    "- [JS borc](https://www.npmjs.com/package/borc)"
   ]
  },
  {
   "cell_type": "code",
   "execution_count": 12,
   "metadata": {},
   "outputs": [],
   "source": [
    "using CBOR, JSON"
   ]
  },
  {
   "cell_type": "code",
   "execution_count": 34,
   "metadata": {},
   "outputs": [
    {
     "data": {
      "text/plain": [
       "\"{\\\"b\\\":2,\\\"a\\\":1}\""
      ]
     },
     "execution_count": 34,
     "metadata": {},
     "output_type": "execute_result"
    }
   ],
   "source": [
    "data_dict = Dict{String, UInt8}(\"a\" => 1, \"b\" => 2)\n",
    "data_json = json(data_dict)"
   ]
  },
  {
   "cell_type": "code",
   "execution_count": 51,
   "metadata": {
    "scrolled": false
   },
   "outputs": [],
   "source": [
    "encoded_jl = encode(data_dict);"
   ]
  },
  {
   "cell_type": "code",
   "execution_count": 52,
   "metadata": {},
   "outputs": [
    {
     "data": {
      "text/plain": [
       "7-element Array{Any,1}:\n",
       " 0xa2\n",
       " 0x61\n",
       " 0x61\n",
       " 0x01\n",
       " 0x61\n",
       " 0x62\n",
       " 0x02"
      ]
     },
     "execution_count": 52,
     "metadata": {},
     "output_type": "execute_result"
    }
   ],
   "source": [
    "encoded_js = JSON.parse(open(`node js/cbor.js borc encode $data_json`), inttype=UInt8)"
   ]
  },
  {
   "cell_type": "code",
   "execution_count": 49,
   "metadata": {},
   "outputs": [
    {
     "name": "stdout",
     "output_type": "stream",
     "text": [
      "{ b: 2, a: 1 }\n"
     ]
    },
    {
     "data": {
      "text/plain": [
       "Process(`\u001b[4mnode\u001b[24m \u001b[4mjs/cbor.js\u001b[24m \u001b[4mborc\u001b[24m \u001b[4mdecode\u001b[24m \u001b[4m'[162,97,98,24,2,97,97,24,1]'\u001b[24m`, ProcessExited(0))"
      ]
     },
     "execution_count": 49,
     "metadata": {},
     "output_type": "execute_result"
    }
   ],
   "source": [
    "run(`node js/cbor.js borc decode $(json(encoded_jl))`)"
   ]
  },
  {
   "cell_type": "code",
   "execution_count": 50,
   "metadata": {},
   "outputs": [
    {
     "name": "stdout",
     "output_type": "stream",
     "text": [
      "{ a: 1, b: 2 }\n"
     ]
    },
    {
     "data": {
      "text/plain": [
       "Process(`\u001b[4mnode\u001b[24m \u001b[4mjs/cbor.js\u001b[24m \u001b[4mborc\u001b[24m \u001b[4mdecode\u001b[24m \u001b[4m'[162,97,97,1,97,98,2]'\u001b[24m`, ProcessExited(0))"
      ]
     },
     "execution_count": 50,
     "metadata": {},
     "output_type": "execute_result"
    }
   ],
   "source": [
    "run(`node js/cbor.js borc decode $(json(encoded_js))`)"
   ]
  },
  {
   "cell_type": "code",
   "execution_count": 56,
   "metadata": {},
   "outputs": [
    {
     "data": {
      "text/plain": [
       "7-element Array{Any,1}:\n",
       " 0xa2\n",
       " 0x61\n",
       " 0x61\n",
       " 0x01\n",
       " 0x61\n",
       " 0x62\n",
       " 0x02"
      ]
     },
     "execution_count": 56,
     "metadata": {},
     "output_type": "execute_result"
    }
   ],
   "source": [
    "encoded_rs = JSON.parse(open(`./rust/target/debug/rust encode $data_json`), inttype=UInt8)"
   ]
  },
  {
   "cell_type": "code",
   "execution_count": null,
   "metadata": {},
   "outputs": [],
   "source": []
  }
 ],
 "metadata": {
  "kernelspec": {
   "display_name": "Julia 1.3.0-rc4",
   "language": "julia",
   "name": "julia-1.3"
  },
  "language_info": {
   "file_extension": ".jl",
   "mimetype": "application/julia",
   "name": "julia",
   "version": "1.3.0"
  }
 },
 "nbformat": 4,
 "nbformat_minor": 2
}
